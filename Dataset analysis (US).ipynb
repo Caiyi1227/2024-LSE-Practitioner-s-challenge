{
 "cells": [
  {
   "cell_type": "code",
   "execution_count": 1,
   "id": "08dbce1c",
   "metadata": {},
   "outputs": [
    {
     "name": "stderr",
     "output_type": "stream",
     "text": [
      "C:\\Users\\thinkpad\\anaconda3\\envs\\r-tutorial\\lib\\site-packages\\yfinance\\base.py:48: FutureWarning: The default dtype for empty Series will be 'object' instead of 'float64' in a future version. Specify a dtype explicitly to silence this warning.\n",
      "  _empty_series = pd.Series()\n"
     ]
    }
   ],
   "source": [
    "import pandas as pd\n",
    "import numpy as np\n",
    "import yfinance as yf\n",
    "import matplotlib.pyplot as plt"
   ]
  },
  {
   "cell_type": "markdown",
   "id": "f4abd484",
   "metadata": {},
   "source": [
    "# Explore global dataset"
   ]
  },
  {
   "cell_type": "code",
   "execution_count": 2,
   "id": "d7999d9b",
   "metadata": {},
   "outputs": [],
   "source": [
    "df = pd.read_excel('S&P Global rated companies.xlsx')"
   ]
  },
  {
   "cell_type": "code",
   "execution_count": 3,
   "id": "84e88125",
   "metadata": {},
   "outputs": [
    {
     "data": {
      "text/html": [
       "<div>\n",
       "<style scoped>\n",
       "    .dataframe tbody tr th:only-of-type {\n",
       "        vertical-align: middle;\n",
       "    }\n",
       "\n",
       "    .dataframe tbody tr th {\n",
       "        vertical-align: top;\n",
       "    }\n",
       "\n",
       "    .dataframe thead th {\n",
       "        text-align: right;\n",
       "    }\n",
       "</style>\n",
       "<table border=\"1\" class=\"dataframe\">\n",
       "  <thead>\n",
       "    <tr style=\"text-align: right;\">\n",
       "      <th></th>\n",
       "      <th>SP_ENTITY_NAME</th>\n",
       "      <th>SP_ENTITY_ID</th>\n",
       "      <th>RD_CREDIT_RATING_GLOBAL</th>\n",
       "      <th>RD_CREDIT_RATING_GLOBAL.1</th>\n",
       "      <th>SP_TICKER</th>\n",
       "      <th>SP_EXCHANGE</th>\n",
       "      <th>SP_ISIN</th>\n",
       "      <th>SP_GEOGRAPHY</th>\n",
       "      <th>SP_COUNTRY_NAME</th>\n",
       "      <th>SP_COUNTRY_CODE</th>\n",
       "      <th>IQ_INDUSTRY_GROUP</th>\n",
       "    </tr>\n",
       "  </thead>\n",
       "  <tbody>\n",
       "    <tr>\n",
       "      <th>0</th>\n",
       "      <td>\"TEMIRYO'L-SUG'URTA\" LLC</td>\n",
       "      <td>20023199</td>\n",
       "      <td>NaN</td>\n",
       "      <td>B+</td>\n",
       "      <td>NaN</td>\n",
       "      <td>NaN</td>\n",
       "      <td>NaN</td>\n",
       "      <td>Europe</td>\n",
       "      <td>Uzbekistan</td>\n",
       "      <td>UZ</td>\n",
       "      <td>Insurance</td>\n",
       "    </tr>\n",
       "    <tr>\n",
       "      <th>1</th>\n",
       "      <td>\"TransteleCom\" JSC</td>\n",
       "      <td>7661998</td>\n",
       "      <td>B</td>\n",
       "      <td>B</td>\n",
       "      <td>NaN</td>\n",
       "      <td>NaN</td>\n",
       "      <td>NaN</td>\n",
       "      <td>Europe</td>\n",
       "      <td>Kazakhstan</td>\n",
       "      <td>KZ</td>\n",
       "      <td>Telecommunication Services</td>\n",
       "    </tr>\n",
       "    <tr>\n",
       "      <th>2</th>\n",
       "      <td>1011778 B.C. Unlimited Liability Company</td>\n",
       "      <td>6561202</td>\n",
       "      <td>BB</td>\n",
       "      <td>BB</td>\n",
       "      <td>NaN</td>\n",
       "      <td>NaN</td>\n",
       "      <td>NaN</td>\n",
       "      <td>United States and Canada</td>\n",
       "      <td>Canada</td>\n",
       "      <td>CA</td>\n",
       "      <td>Consumer Services</td>\n",
       "    </tr>\n",
       "    <tr>\n",
       "      <th>3</th>\n",
       "      <td>21st Century Casualty Company</td>\n",
       "      <td>16700</td>\n",
       "      <td>NaN</td>\n",
       "      <td>A</td>\n",
       "      <td>NaN</td>\n",
       "      <td>NaN</td>\n",
       "      <td>NaN</td>\n",
       "      <td>United States and Canada</td>\n",
       "      <td>USA</td>\n",
       "      <td>US</td>\n",
       "      <td>Insurance</td>\n",
       "    </tr>\n",
       "    <tr>\n",
       "      <th>4</th>\n",
       "      <td>21st Century Centennial Insurance Company</td>\n",
       "      <td>12057</td>\n",
       "      <td>NaN</td>\n",
       "      <td>A</td>\n",
       "      <td>NaN</td>\n",
       "      <td>NaN</td>\n",
       "      <td>NaN</td>\n",
       "      <td>United States and Canada</td>\n",
       "      <td>USA</td>\n",
       "      <td>US</td>\n",
       "      <td>Insurance</td>\n",
       "    </tr>\n",
       "  </tbody>\n",
       "</table>\n",
       "</div>"
      ],
      "text/plain": [
       "                              SP_ENTITY_NAME  SP_ENTITY_ID  \\\n",
       "0                   \"TEMIRYO'L-SUG'URTA\" LLC      20023199   \n",
       "1                         \"TransteleCom\" JSC       7661998   \n",
       "2   1011778 B.C. Unlimited Liability Company       6561202   \n",
       "3              21st Century Casualty Company         16700   \n",
       "4  21st Century Centennial Insurance Company         12057   \n",
       "\n",
       "  RD_CREDIT_RATING_GLOBAL RD_CREDIT_RATING_GLOBAL.1 SP_TICKER SP_EXCHANGE  \\\n",
       "0                     NaN                        B+       NaN         NaN   \n",
       "1                       B                         B       NaN         NaN   \n",
       "2                      BB                        BB       NaN         NaN   \n",
       "3                     NaN                         A       NaN         NaN   \n",
       "4                     NaN                         A       NaN         NaN   \n",
       "\n",
       "  SP_ISIN              SP_GEOGRAPHY SP_COUNTRY_NAME SP_COUNTRY_CODE  \\\n",
       "0     NaN                    Europe      Uzbekistan              UZ   \n",
       "1     NaN                    Europe      Kazakhstan              KZ   \n",
       "2     NaN  United States and Canada          Canada              CA   \n",
       "3     NaN  United States and Canada             USA              US   \n",
       "4     NaN  United States and Canada             USA              US   \n",
       "\n",
       "            IQ_INDUSTRY_GROUP  \n",
       "0                   Insurance  \n",
       "1  Telecommunication Services  \n",
       "2           Consumer Services  \n",
       "3                   Insurance  \n",
       "4                   Insurance  "
      ]
     },
     "execution_count": 3,
     "metadata": {},
     "output_type": "execute_result"
    }
   ],
   "source": [
    "df.head()"
   ]
  },
  {
   "cell_type": "code",
   "execution_count": 4,
   "id": "41edfe63",
   "metadata": {},
   "outputs": [
    {
     "data": {
      "text/plain": [
       "Index(['SP_ENTITY_NAME', 'SP_ENTITY_ID', 'RD_CREDIT_RATING_GLOBAL',\n",
       "       'RD_CREDIT_RATING_GLOBAL.1', 'SP_TICKER', 'SP_EXCHANGE', 'SP_ISIN',\n",
       "       'SP_GEOGRAPHY', 'SP_COUNTRY_NAME', 'SP_COUNTRY_CODE',\n",
       "       'IQ_INDUSTRY_GROUP'],\n",
       "      dtype='object')"
      ]
     },
     "execution_count": 4,
     "metadata": {},
     "output_type": "execute_result"
    }
   ],
   "source": [
    "df.columns"
   ]
  },
  {
   "cell_type": "code",
   "execution_count": 5,
   "id": "024efe89",
   "metadata": {
    "scrolled": true
   },
   "outputs": [
    {
     "data": {
      "text/plain": [
       "(8957, 11)"
      ]
     },
     "execution_count": 5,
     "metadata": {},
     "output_type": "execute_result"
    }
   ],
   "source": [
    "df.shape"
   ]
  },
  {
   "cell_type": "markdown",
   "id": "670a1378",
   "metadata": {},
   "source": [
    "# Explore global listed dataset"
   ]
  },
  {
   "cell_type": "code",
   "execution_count": 6,
   "id": "572338d0",
   "metadata": {},
   "outputs": [
    {
     "data": {
      "text/html": [
       "<div>\n",
       "<style scoped>\n",
       "    .dataframe tbody tr th:only-of-type {\n",
       "        vertical-align: middle;\n",
       "    }\n",
       "\n",
       "    .dataframe tbody tr th {\n",
       "        vertical-align: top;\n",
       "    }\n",
       "\n",
       "    .dataframe thead th {\n",
       "        text-align: right;\n",
       "    }\n",
       "</style>\n",
       "<table border=\"1\" class=\"dataframe\">\n",
       "  <thead>\n",
       "    <tr style=\"text-align: right;\">\n",
       "      <th></th>\n",
       "      <th>SP_ENTITY_NAME</th>\n",
       "      <th>SP_ENTITY_ID</th>\n",
       "      <th>RD_CREDIT_RATING_GLOBAL</th>\n",
       "      <th>RD_CREDIT_RATING_GLOBAL.1</th>\n",
       "      <th>SP_TICKER</th>\n",
       "      <th>SP_EXCHANGE</th>\n",
       "      <th>SP_ISIN</th>\n",
       "      <th>SP_GEOGRAPHY</th>\n",
       "      <th>SP_COUNTRY_NAME</th>\n",
       "      <th>SP_COUNTRY_CODE</th>\n",
       "      <th>IQ_INDUSTRY_GROUP</th>\n",
       "    </tr>\n",
       "  </thead>\n",
       "  <tbody>\n",
       "    <tr>\n",
       "      <th>13</th>\n",
       "      <td>3i Group plc (LSE:III)</td>\n",
       "      <td>4147418</td>\n",
       "      <td>BBB+</td>\n",
       "      <td>BBB+</td>\n",
       "      <td>III</td>\n",
       "      <td>LSE</td>\n",
       "      <td>GB00B1YW4409</td>\n",
       "      <td>Europe</td>\n",
       "      <td>United Kingdom</td>\n",
       "      <td>GB</td>\n",
       "      <td>Financial Services</td>\n",
       "    </tr>\n",
       "    <tr>\n",
       "      <th>14</th>\n",
       "      <td>3M Company (NYSE:MMM)</td>\n",
       "      <td>105135</td>\n",
       "      <td>BBB+</td>\n",
       "      <td>BBB+</td>\n",
       "      <td>MMM</td>\n",
       "      <td>NYSE</td>\n",
       "      <td>US88579Y1010</td>\n",
       "      <td>United States and Canada</td>\n",
       "      <td>USA</td>\n",
       "      <td>US</td>\n",
       "      <td>Capital Goods</td>\n",
       "    </tr>\n",
       "    <tr>\n",
       "      <th>15</th>\n",
       "      <td>3R Petroleum Óleo e Gás S.A. (BOVESPA:RRRP3)</td>\n",
       "      <td>7163456</td>\n",
       "      <td>B+</td>\n",
       "      <td>B+</td>\n",
       "      <td>RRRP3</td>\n",
       "      <td>BOVESPA</td>\n",
       "      <td>BRRRRPACNOR5</td>\n",
       "      <td>Latin America and Caribbean</td>\n",
       "      <td>Brazil</td>\n",
       "      <td>BR</td>\n",
       "      <td>Energy</td>\n",
       "    </tr>\n",
       "    <tr>\n",
       "      <th>20</th>\n",
       "      <td>888 Holdings plc (LSE:888)</td>\n",
       "      <td>4988507</td>\n",
       "      <td>B</td>\n",
       "      <td>B</td>\n",
       "      <td>888</td>\n",
       "      <td>LSE</td>\n",
       "      <td>GI000A0F6407</td>\n",
       "      <td>Europe</td>\n",
       "      <td>Gibraltar</td>\n",
       "      <td>GI</td>\n",
       "      <td>Consumer Services</td>\n",
       "    </tr>\n",
       "    <tr>\n",
       "      <th>24</th>\n",
       "      <td>A.P. Møller - Mærsk A/S (CPSE:MAERSK B)</td>\n",
       "      <td>4232116</td>\n",
       "      <td>BBB+</td>\n",
       "      <td>BBB+</td>\n",
       "      <td>MAERSK B</td>\n",
       "      <td>CPSE</td>\n",
       "      <td>DK0010244508</td>\n",
       "      <td>Europe</td>\n",
       "      <td>Denmark</td>\n",
       "      <td>DK</td>\n",
       "      <td>Transportation</td>\n",
       "    </tr>\n",
       "  </tbody>\n",
       "</table>\n",
       "</div>"
      ],
      "text/plain": [
       "                                  SP_ENTITY_NAME  SP_ENTITY_ID  \\\n",
       "13                        3i Group plc (LSE:III)       4147418   \n",
       "14                         3M Company (NYSE:MMM)        105135   \n",
       "15  3R Petroleum Óleo e Gás S.A. (BOVESPA:RRRP3)       7163456   \n",
       "20                    888 Holdings plc (LSE:888)       4988507   \n",
       "24       A.P. Møller - Mærsk A/S (CPSE:MAERSK B)       4232116   \n",
       "\n",
       "   RD_CREDIT_RATING_GLOBAL RD_CREDIT_RATING_GLOBAL.1 SP_TICKER SP_EXCHANGE  \\\n",
       "13                    BBB+                      BBB+       III         LSE   \n",
       "14                    BBB+                      BBB+       MMM        NYSE   \n",
       "15                      B+                        B+     RRRP3     BOVESPA   \n",
       "20                       B                         B       888         LSE   \n",
       "24                    BBB+                      BBB+  MAERSK B        CPSE   \n",
       "\n",
       "         SP_ISIN                 SP_GEOGRAPHY SP_COUNTRY_NAME SP_COUNTRY_CODE  \\\n",
       "13  GB00B1YW4409                       Europe  United Kingdom              GB   \n",
       "14  US88579Y1010     United States and Canada             USA              US   \n",
       "15  BRRRRPACNOR5  Latin America and Caribbean          Brazil              BR   \n",
       "20  GI000A0F6407                       Europe       Gibraltar              GI   \n",
       "24  DK0010244508                       Europe         Denmark              DK   \n",
       "\n",
       "     IQ_INDUSTRY_GROUP  \n",
       "13  Financial Services  \n",
       "14       Capital Goods  \n",
       "15              Energy  \n",
       "20   Consumer Services  \n",
       "24      Transportation  "
      ]
     },
     "execution_count": 6,
     "metadata": {},
     "output_type": "execute_result"
    }
   ],
   "source": [
    "listed_df = df[df['SP_TICKER'].notnull()]\n",
    "listed_df.head()"
   ]
  },
  {
   "cell_type": "code",
   "execution_count": 7,
   "id": "5d28b98b",
   "metadata": {},
   "outputs": [
    {
     "data": {
      "text/plain": [
       "(2522, 11)"
      ]
     },
     "execution_count": 7,
     "metadata": {},
     "output_type": "execute_result"
    }
   ],
   "source": [
    "listed_df.shape"
   ]
  },
  {
   "cell_type": "code",
   "execution_count": 8,
   "id": "388a6456",
   "metadata": {},
   "outputs": [
    {
     "data": {
      "text/plain": [
       "array(['LSE', 'NYSE', 'BOVESPA', 'CPSE', 'BIT', 'OM', 'NSEL', 'SWX',\n",
       "       'ENXTAM', 'ADX', 'NASDAQGS', 'ENXTPA', 'BME', 'NSEI', 'NASDAQCM',\n",
       "       'OB', 'XTRA', 'SET', 'ENXTBR', 'TSE', 'SNSE', 'SEHK', 'ISE', 'TSX',\n",
       "       'HLSE', 'DSM', 'SASE', 'KWSE', 'BMV', 'WSE', 'ATSE', 'ASX', 'IBSE',\n",
       "       'NASDAQGM', 'BAX', 'BVMT', 'ICSE', 'CBSE', 'NZSE', 'KLSE', 'BSE',\n",
       "       'BVL', 'ENXTLS', 'BVC', 'BASE', 'TASE', 'MSM', 'CSE', 'PSE',\n",
       "       'MTSE', 'SHSE', 'SZSE', 'DSE', 'AIM', 'OTCPK', 'SGX', 'TWSE',\n",
       "       'BATS', 'PSGM', 'SEP', 'CASE', 'KOSE', 'BVB', 'OTCQB', 'NGSE',\n",
       "       'DFM', 'OTCEM', 'WBAG', 'TTSE', 'JSE', 'KAS', 'DB', 'NYSEAM',\n",
       "       'HMSE', 'HOSE', 'ASE', 'BUSE', 'LJSE', 'IDX', 'OTCQX', 'TPEX'],\n",
       "      dtype=object)"
      ]
     },
     "execution_count": 8,
     "metadata": {},
     "output_type": "execute_result"
    }
   ],
   "source": [
    "listed_df['SP_EXCHANGE'].unique()"
   ]
  },
  {
   "cell_type": "markdown",
   "id": "af3bbe08",
   "metadata": {},
   "source": [
    "# Explore global listed US dataset"
   ]
  },
  {
   "cell_type": "code",
   "execution_count": 9,
   "id": "cfbd7056",
   "metadata": {},
   "outputs": [
    {
     "data": {
      "text/plain": [
       "array(['Europe', 'United States and Canada',\n",
       "       'Latin America and Caribbean', 'Middle East', 'Asia-Pacific',\n",
       "       'Africa'], dtype=object)"
      ]
     },
     "execution_count": 9,
     "metadata": {},
     "output_type": "execute_result"
    }
   ],
   "source": [
    "listed_df['SP_GEOGRAPHY'].unique()"
   ]
  },
  {
   "cell_type": "code",
   "execution_count": 10,
   "id": "57573a0e",
   "metadata": {},
   "outputs": [
    {
     "data": {
      "text/html": [
       "<div>\n",
       "<style scoped>\n",
       "    .dataframe tbody tr th:only-of-type {\n",
       "        vertical-align: middle;\n",
       "    }\n",
       "\n",
       "    .dataframe tbody tr th {\n",
       "        vertical-align: top;\n",
       "    }\n",
       "\n",
       "    .dataframe thead th {\n",
       "        text-align: right;\n",
       "    }\n",
       "</style>\n",
       "<table border=\"1\" class=\"dataframe\">\n",
       "  <thead>\n",
       "    <tr style=\"text-align: right;\">\n",
       "      <th></th>\n",
       "      <th>SP_ENTITY_NAME</th>\n",
       "      <th>SP_ENTITY_ID</th>\n",
       "      <th>RD_CREDIT_RATING_GLOBAL</th>\n",
       "      <th>RD_CREDIT_RATING_GLOBAL.1</th>\n",
       "      <th>SP_TICKER</th>\n",
       "      <th>SP_EXCHANGE</th>\n",
       "      <th>SP_ISIN</th>\n",
       "      <th>SP_GEOGRAPHY</th>\n",
       "      <th>SP_COUNTRY_NAME</th>\n",
       "      <th>SP_COUNTRY_CODE</th>\n",
       "      <th>IQ_INDUSTRY_GROUP</th>\n",
       "    </tr>\n",
       "  </thead>\n",
       "  <tbody>\n",
       "    <tr>\n",
       "      <th>0</th>\n",
       "      <td>3M Company (NYSE:MMM)</td>\n",
       "      <td>105135</td>\n",
       "      <td>BBB+</td>\n",
       "      <td>BBB+</td>\n",
       "      <td>MMM</td>\n",
       "      <td>NYSE</td>\n",
       "      <td>US88579Y1010</td>\n",
       "      <td>United States and Canada</td>\n",
       "      <td>USA</td>\n",
       "      <td>US</td>\n",
       "      <td>Capital Goods</td>\n",
       "    </tr>\n",
       "    <tr>\n",
       "      <th>1</th>\n",
       "      <td>AAR Corp. (NYSE:AIR)</td>\n",
       "      <td>4157610</td>\n",
       "      <td>BB+</td>\n",
       "      <td>BB+</td>\n",
       "      <td>AIR</td>\n",
       "      <td>NYSE</td>\n",
       "      <td>US0003611052</td>\n",
       "      <td>United States and Canada</td>\n",
       "      <td>USA</td>\n",
       "      <td>US</td>\n",
       "      <td>Capital Goods</td>\n",
       "    </tr>\n",
       "    <tr>\n",
       "      <th>2</th>\n",
       "      <td>Abbott Laboratories (NYSE:ABT)</td>\n",
       "      <td>4004092</td>\n",
       "      <td>AA-</td>\n",
       "      <td>AA-</td>\n",
       "      <td>ABT</td>\n",
       "      <td>NYSE</td>\n",
       "      <td>US0028241000</td>\n",
       "      <td>United States and Canada</td>\n",
       "      <td>USA</td>\n",
       "      <td>US</td>\n",
       "      <td>Health Care Equipment and Services</td>\n",
       "    </tr>\n",
       "    <tr>\n",
       "      <th>3</th>\n",
       "      <td>AbbVie Inc. (NYSE:ABBV)</td>\n",
       "      <td>4558282</td>\n",
       "      <td>A-</td>\n",
       "      <td>A-</td>\n",
       "      <td>ABBV</td>\n",
       "      <td>NYSE</td>\n",
       "      <td>US00287Y1091</td>\n",
       "      <td>United States and Canada</td>\n",
       "      <td>USA</td>\n",
       "      <td>US</td>\n",
       "      <td>Pharmaceuticals, Biotechnology and Life Sciences</td>\n",
       "    </tr>\n",
       "    <tr>\n",
       "      <th>4</th>\n",
       "      <td>Abercrombie &amp; Fitch Co. (NYSE:ANF)</td>\n",
       "      <td>4066681</td>\n",
       "      <td>BB-</td>\n",
       "      <td>BB-</td>\n",
       "      <td>ANF</td>\n",
       "      <td>NYSE</td>\n",
       "      <td>US0028962076</td>\n",
       "      <td>United States and Canada</td>\n",
       "      <td>USA</td>\n",
       "      <td>US</td>\n",
       "      <td>Consumer Discretionary Distribution and Retail</td>\n",
       "    </tr>\n",
       "  </tbody>\n",
       "</table>\n",
       "</div>"
      ],
      "text/plain": [
       "                       SP_ENTITY_NAME  SP_ENTITY_ID RD_CREDIT_RATING_GLOBAL  \\\n",
       "0               3M Company (NYSE:MMM)        105135                    BBB+   \n",
       "1                AAR Corp. (NYSE:AIR)       4157610                     BB+   \n",
       "2      Abbott Laboratories (NYSE:ABT)       4004092                     AA-   \n",
       "3             AbbVie Inc. (NYSE:ABBV)       4558282                      A-   \n",
       "4  Abercrombie & Fitch Co. (NYSE:ANF)       4066681                     BB-   \n",
       "\n",
       "  RD_CREDIT_RATING_GLOBAL.1 SP_TICKER SP_EXCHANGE       SP_ISIN  \\\n",
       "0                      BBB+       MMM        NYSE  US88579Y1010   \n",
       "1                       BB+       AIR        NYSE  US0003611052   \n",
       "2                       AA-       ABT        NYSE  US0028241000   \n",
       "3                        A-      ABBV        NYSE  US00287Y1091   \n",
       "4                       BB-       ANF        NYSE  US0028962076   \n",
       "\n",
       "               SP_GEOGRAPHY SP_COUNTRY_NAME SP_COUNTRY_CODE  \\\n",
       "0  United States and Canada             USA              US   \n",
       "1  United States and Canada             USA              US   \n",
       "2  United States and Canada             USA              US   \n",
       "3  United States and Canada             USA              US   \n",
       "4  United States and Canada             USA              US   \n",
       "\n",
       "                                  IQ_INDUSTRY_GROUP  \n",
       "0                                     Capital Goods  \n",
       "1                                     Capital Goods  \n",
       "2                Health Care Equipment and Services  \n",
       "3  Pharmaceuticals, Biotechnology and Life Sciences  \n",
       "4    Consumer Discretionary Distribution and Retail  "
      ]
     },
     "execution_count": 10,
     "metadata": {},
     "output_type": "execute_result"
    }
   ],
   "source": [
    "listed_US_df = listed_df[listed_df['SP_COUNTRY_NAME']=='USA'].reset_index(drop = True)\n",
    "listed_US_df.head()"
   ]
  },
  {
   "cell_type": "code",
   "execution_count": 11,
   "id": "b221e7e5",
   "metadata": {},
   "outputs": [
    {
     "data": {
      "text/plain": [
       "(1163, 11)"
      ]
     },
     "execution_count": 11,
     "metadata": {},
     "output_type": "execute_result"
    }
   ],
   "source": [
    "listed_US_df.shape"
   ]
  },
  {
   "cell_type": "markdown",
   "id": "813633a4",
   "metadata": {},
   "source": [
    "# Get US dollars tickers"
   ]
  },
  {
   "cell_type": "code",
   "execution_count": 12,
   "id": "c30df17c",
   "metadata": {},
   "outputs": [],
   "source": [
    "listed_US_dollar_df = listed_US_df[listed_US_df['SP_EXCHANGE'].isin(['NYSE', 'NASDAQGS', 'NASDAQCM', 'NASDAQGM'])]"
   ]
  },
  {
   "cell_type": "markdown",
   "id": "7fcdb352",
   "metadata": {},
   "source": [
    "## Try to deal with the problematic tickers"
   ]
  },
  {
   "cell_type": "code",
   "execution_count": 13,
   "id": "cb3429ae",
   "metadata": {
    "scrolled": true
   },
   "outputs": [],
   "source": [
    "#listed_US_dollar_df['SP_TICKER'] = np.where(True, listed_US_dollar_df['SP_TICKER'].str.replace('.', ''), listed_US_dollar_df['SP_TICKER'])"
   ]
  },
  {
   "cell_type": "code",
   "execution_count": 14,
   "id": "7ad4f6f8",
   "metadata": {},
   "outputs": [],
   "source": [
    "# Export\n",
    "#listed_US_dollar_df.to_csv('listed_US_dollar_df.csv', index = False)"
   ]
  },
  {
   "cell_type": "code",
   "execution_count": 15,
   "id": "f645b8dc",
   "metadata": {},
   "outputs": [],
   "source": [
    "useable_US_tickerlist = ' '.join(list(listed_US_dollar_df['SP_TICKER']))"
   ]
  },
  {
   "cell_type": "markdown",
   "id": "b0c66525",
   "metadata": {},
   "source": [
    "# Download and export US price data"
   ]
  },
  {
   "cell_type": "code",
   "execution_count": 16,
   "id": "d7be6599",
   "metadata": {
    "scrolled": false
   },
   "outputs": [
    {
     "name": "stderr",
     "output_type": "stream",
     "text": [
      "[*********************100%%**********************]  1148 of 1148 completed\n",
      "\n",
      "9 Failed downloads:\n",
      "['MOG.A', 'QRTE.A', 'IMKT.A', 'CWEN.A', 'UONE.K', 'BRK.A', 'LGF.A', 'FCNC.A']: Exception('%ticker%: No timezone found, symbol may be delisted')\n",
      "['BF.B']: Exception('%ticker%: No price data found, symbol may be delisted (1d 1925-03-05 -> 2024-02-10)')\n"
     ]
    }
   ],
   "source": [
    "#US_price = yf.download(useable_US_tickerlist)"
   ]
  },
  {
   "cell_type": "code",
   "execution_count": 21,
   "id": "b5dc1355",
   "metadata": {},
   "outputs": [],
   "source": [
    "# US_price.to_csv('US stock prices.csv')"
   ]
  },
  {
   "cell_type": "markdown",
   "id": "2dfeae23",
   "metadata": {},
   "source": [
    "## Drop unavailable stocks for now"
   ]
  },
  {
   "cell_type": "code",
   "execution_count": 17,
   "id": "6e3ae7f6",
   "metadata": {},
   "outputs": [
    {
     "data": {
      "text/plain": [
       "Int64Index([136, 176, 254, 424, 548, 630, 698, 841, 1072], dtype='int64')"
      ]
     },
     "execution_count": 17,
     "metadata": {},
     "output_type": "execute_result"
    }
   ],
   "source": [
    "listed_US_dollar_df[listed_US_dollar_df['SP_TICKER'].isin(['MOG.A', 'QRTE.A', 'IMKT.A', 'CWEN.A', 'UONE.K', 'BRK.A', 'LGF.A', 'FCNC.A', 'BF.B'])].index"
   ]
  },
  {
   "cell_type": "code",
   "execution_count": 19,
   "id": "f9bb6fc4",
   "metadata": {},
   "outputs": [
    {
     "name": "stderr",
     "output_type": "stream",
     "text": [
      "C:\\Users\\thinkpad\\AppData\\Local\\Temp\\ipykernel_5376\\4083664948.py:1: SettingWithCopyWarning: \n",
      "A value is trying to be set on a copy of a slice from a DataFrame\n",
      "\n",
      "See the caveats in the documentation: https://pandas.pydata.org/pandas-docs/stable/user_guide/indexing.html#returning-a-view-versus-a-copy\n",
      "  listed_US_dollar_df.drop(index = [136, 176, 254, 424, 548, 630, 698, 841, 1072],inplace = True)\n"
     ]
    }
   ],
   "source": [
    "listed_US_dollar_df.drop(index = [136, 176, 254, 424, 548, 630, 698, 841, 1072],inplace = True)"
   ]
  },
  {
   "cell_type": "markdown",
   "id": "6d914929",
   "metadata": {
    "collapsed": true
   },
   "source": [
    "# Check price data availability"
   ]
  },
  {
   "cell_type": "code",
   "execution_count": 22,
   "id": "788823a4",
   "metadata": {},
   "outputs": [
    {
     "data": {
      "text/plain": [
       "1148"
      ]
     },
     "execution_count": 22,
     "metadata": {},
     "output_type": "execute_result"
    }
   ],
   "source": [
    "US_price['Open'].shape[1]"
   ]
  },
  {
   "cell_type": "code",
   "execution_count": 23,
   "id": "77f3d239",
   "metadata": {},
   "outputs": [],
   "source": [
    "num_datapoint = np.sum(US_price['Open'].notnull(), axis = 1)"
   ]
  },
  {
   "cell_type": "code",
   "execution_count": 25,
   "id": "a9d933c3",
   "metadata": {},
   "outputs": [
    {
     "data": {
      "image/png": "[encoded data removed]",
      "text/plain": [
       "<Figure size 640x480 with 1 Axes>"
      ]
     },
     "metadata": {},
     "output_type": "display_data"
    }
   ],
   "source": [
    "plt.plot(num_datapoint);\n",
    "plt.title('Number of US companies that have stock price data available');"
   ]
  },
  {
   "cell_type": "markdown",
   "id": "57fe40ab",
   "metadata": {},
   "source": [
    "# Get US liability data"
   ]
  },
  {
   "cell_type": "code",
   "execution_count": 26,
   "id": "485aa579",
   "metadata": {},
   "outputs": [],
   "source": [
    "isin = ', '.join(list(listed_US_dollar_df['SP_ISIN']))"
   ]
  },
  {
   "cell_type": "code",
   "execution_count": 29,
   "id": "ec1fb46d",
   "metadata": {
    "collapsed": true
   },
   "outputs": [
    {
     "data": {
      "text/plain": [
       "'US88579Y1010, US0003611052, US0028241000, US00287Y1091, US0028962076, US00402L1070, US00404A1097, US00081T1088, US0044981019, US00508Y1029, US0050981085, US00653Q1022, US00676P1075, US00724F1012, US00090Q1031, US00737L1035, US00751Y1064, US00790R1041, US0079031078, US00791N1028, US00766T1007, US0082521081, US0010551028, US0010841023, US00846U1016, US00848J1043, US0084921008, US00912X3026, US0091581068, US00922R1059, US00971T1016, US0116591092, US0126531013, US0130911037, US0138721065, US0152711091, US01748X1028, US01749D1054, US0185223007, US01877R1086, US0188021085, US02005N1000, US0207641061, US02079K3059, US02128L1061, US02156B1035, US02156K1034, US02209S1033, US0231351067, US00165C3025, US00164V1035, GB0022569080, US0236081024, US02376R1023, US0240131047, US0240611030, US0255371017, US0256762065, US0258161092, US0259321042, US02665T3068, US0268747849, US02913V1035, US0298991011, US03027X1000, US0304201033, US03076C1062, US0311001004, US0311621009, US0316521006, US0017441017, US03168L1052, US0320951017, US0326541051, US00183L1026, GB00BRXH2664, US00182C1036, US03674X1063, US03750L1098, US00187Y1001, US03762U1051, US03769M1062, US0378331005, US0382221051, US03831W1080, US0383361039, US03852U1060, US03940R1077, US0394831020, US03957W1062, US0396531008, US04010L1035, US03990B1017, US04041L1061, US0412421085, US04271T1007, US0427351004, US3635761097, US0434361046, US00191U1025, US0441861046, US0454871056, US04621X1081, US00206R1023, US01741R1023, US0476491081, US0495601058, US0527691069, US0530151036, US05329W1027, US0533321024, US0534841012, US05351W1036, US05352A1007, US0536111091, US05368V1061, US0537741052, US05379B1070, US0538071038, BMG0750C1082, US0024741045, US05508R1068, US05722G1004, US0584981064, US05875B1061, US0605051046, US0678061096, US0708301041, US0718131099, US0736851090, US0740141017, US07556Q8814, US0758871091, US0774541066, US07831C1036, US08579X1019, US08579W1036, US0865161014, US0889291045, US09062X1037, US0905722072, US05550J1016, US0921131092, US09247X1019, US09260D1072, US09257W1009, US09261X1028, US8522341036, US0942351083, US69121K1043, US09581B1035, US09624H2085, US09739D1000, US05561Q2012, US09857L1089, US0997241064, US1011211018, US1011371077, US10258P1021, US1033041013, US1053682035, US0185811082, US1091941005, US10922N1037, US10948W1036, US1096411004, US1101221083, US11040G1031, US11120U1051, US11135F1012, US11133T1034, US11135E2037, US1152361010, US05589G1022, US1170431092, US12008R1077, US12047B1052, CH1300646267, US1220171060, US05605H1005, US12541W2098, US12685J1051, US1270551013, US1271903049, US12740C1036, US1273871087, US12769G1004, US1295001044, US13057Q3056, US13123X5086, US1314761032, US1331311027, US1344291091, US14040H1059, US14149Y1082, US14174T1079, US1423391002, US1442851036, US1439051079, US14448C1045, US14574X1046, US14575E1055, US1462291097, US1468691027, US14713L1026, US1474481041, US1488061029, US1491231015, US1248308785, US12504L1098, US12510Q1004, US12514G1085, US1501851067, US1508701034, US03073E1055, US15135B1017, US15189T1079, US1535271068, US1564311082, US1564921005, US1565043007, US1252691001, US15872M1045, US1598641074, US16115Q3083, US16119P1084, US16411Q1013, US16411R2085, US1651677353, US1667641005, US1699051066, US6742152076, US1713401024, US1714841087, US1717793095, US1720621010, US17243V1026, US1729081059, US17275R1023, US1729674242, US1746101054, CA17878Y2078, US17888H1032, US18270D1063, US1844961078, US18453H1068, US18538R1032, US1858991011, US12572Q1058, US1258961002, US1261171003, US12621E1038, US12653C1080, US1910981026, US1921085049, US19247G1076, US1925761066, US19260Q1076, US1941621039, US1972361026, US1993331057, US20030N1019, US2003401070, US2005251036, US2017231034, US2026081057, US20337X1090, US2036681086, US20451N1019, US2057683029, US2058871029, US20602D1019, US2067041085, US2067871036, US20825C1045, US20848V1052, US20854L1089, US2090341072, US2091151041, US21036P1084, US21676P1030, US22002T1088, US21871X1090, US21871N1019, US2193501051, US22041X1028, US22052L1044, US22160N1090, US22160K1051, US1270971039, US2220702037, US12634H2004, US2244411052, US2253101016, US44952J1043, US2270461096, US22788C1053, US22822V1017, US2283681060, US1263491094, US12637A1034, US1264081035, US2296631094, US2298991090, US2310211063, US2310828015, US23131L1070, US23204X1037, US12662P1084, US1266332055, US1266501006, US23331A1097, US2358252052, US2358511028, US2371941053, US2372661015, US23753F1075, US23918K1088, US15677J1088, US2441991054, US24664T1034, US24665A1034, US24703L2025, US2473617023, US2480191012, US24906P1093, US25179M1036, US25271C2017, US25278X1090, US2533931026, US2536512021, US2538681030, US2540671011, US2547091080, US25525P1075, US2566771059, US2567461080, US25746U1097, US2600031080, US26154D1000, US26210V1026, US23345M1071, US2333311072, US26441C2044, US26484T1060, US26614N1028, US23355L1061, US2333774071, US2674751019, US26969P1084, US27579R1041, US2774321002, US2774614067, US2786421030, US2787681061, US2788651006, US28035Q1022, US2810201077, US28176E1082, US28414H1032, US2855121099, US28618M1062, US0367521038, US5324571083, US9396531017, US29082K1051, US29084Q1004, US29089Q1058, US2910111044, US29249E1091, US29261A1007, US29260Y1091, US29272W1099, US29273V1008, US29275Y1029, US29336T1007, US29357K1034, US29355X1072, US29362U1043, US29364G1031, US2937921078, US4158641070, US29415B1035, US26875P1012, US26884U1097, US26884L1098, US2944291051, US29444U7000, US29452E1010, US2946001011, US29476L1070, US29670E1073, US29670G1022, US2971781057, US2987361092, US29977X1054, US30034W1062, US30034T1034, US30040W1080, PR30040P1032, US30162V8054, US30161N1019, US30212P3038, US30225T1025, US30231G1022, US3025201019, US3032501047, US3137451015, US31428X1063, US31620R3030, US31620M1062, US3167731005, US31847R1023, US3198291078, US32054K1034, US33768G1076, US3379321074, US3377381088, US33833Q1067, US3390411052, US3397501012, US3434981011, US34354P1057, US3434121022, US3024913036, US3448491049, US3453708600, US3462321015, US34959E1091, US34959J1088, US34965K1079, US34964C1062, US34984V2097, US3498531017, US34988V1061, US35137L1052, US3546131018, US35671D8570, US35905A1097, KYG3730V1059, US35953C1062, US3029411093, US3596781092, US36467J1088, US3666511072, US3614481030, US36266G1076, US6687711084, US3695501086, US3696043013, US3703341046, US37045V1008, US3719271047, US3724601055, US37247D1063, US3742751056, US36237H1014, US3755581036, US3773201062, US37890B1008, US3793782018, US37946R1095, US37940X1028, US37959E1029, US36251C1036, US38046C1099, US3810131017, US38173M1027, US3843135084, US3846371041, US3893751061, US3906071093, US3984331021, US3989051095, US4026355028, US36262G1013, US4040301081, US0936711052, US3596941068, US4062161017, US4101201097, US4103451021, US41068X1000, US4128221086, US4180561072, US4198701009, US4198791018, US4212981009, US40412C1018, US42226K1051, US42226A1079, US42250P1030, US4227041062, US42330P1075, US4234521015, KYG4412G1010, US42704L1044, US42806J7000, US42809H1077, US42824C1099, US4282911084, US4039491000, US4312841087, US4315711089, US4316361090, US43283X1054, US43300A2033, US43538H1032, US4364401012, US4385161066, US4403271046, US4404521001, US44107P1049, US4424874018, US44267T1025, US4432011082, US40434L1052, US4435106079, US4440971095, US4448591028, US4461501045, US4464131063, US4470111075, US4485791028, US4491721050, US44891N2080, US4511001012, US44930G1076, US4511071064, US45167R1041, US45174J5092, US4523081093, US4523271090, US45674M1018, US45687V1061, US4571871023, US45784J1051, US45780R1014, US45784P1012, US45826H1095, US4581401001, US45866F1049, US4586653044, US4592001014, US4595061015, US4601461035, US4612021034, BMG491BT1088, US46187W1071, US46266C1053, US46269C1027, US46284V1017, US45073V1089, US4456581077, US4663131039, US46817M1071, US46982L1089, US47103N1063, US47233W1099, US4771431016, US47768J1016, US4781601046, US48020Q1076, US46625H1005, US48203R1041, US4830077040, US4835481031, US48666K1097, US48242W1062, US4878361082, US4884011002, US4891701009, US4893981070, US49177J1025, US49271V1008, US4932671088, US49338L1035, US49427F1084, US4943681035, US49446R1095, US49456B1017, US02215L2097, US4972661064, US49803T3005, US48251W1045, US48251K1007, US4824801009, US48253L2051, US4988941047, US5002551043, US50050N1037, US50060P1066, US5006432000, US5006881065, US50105F1057, US50155Q1004, US5024311095, US50540R4092, US5128071082, US5128161099, US5132721045, US5178341070, US51819L1070, US5184151042, US5218652049, US5246601075, US5253271028, US52603B1070, US5260571048, US5261071071, US52736R1023, US50187T1060, US53222Q1031, US80874P1093, US5341871094, US5352191093, US5367971034, US5380341090, US5018892084, US5398301094, US5404241086, US5463471053, US5486611073, US5021601043, US5502411037, US55024U1097, US5290431015, NL0009434992, US55261F1049, US5526761086, US55305B1017, US55616P1049, US55955D1000, US5596631094, US56035L1044, US56418H1005, US5658491064, US56585A1025, US5705351048, US5719032022, US57164Y1073, US5717481023, US5732841060, US5733311055, US5738741041, US5745991068, CA5753851099, US5763231090, US57636Q1040, US5764852050, US57667L1070, US8085411069, US5770811025, US5771281012, US5779331041, US57776J1007, US5797802064, US5801351017, US58155Q1031, US5526901096, US58463J3041, US58933Y1055, US58985J1051, US59001A1025, US30303M1027, US59156R1086, US5528481030, US5529531015, US5951121038, US5949181045, US5949724083, US59522J1034, US5966801087, US6005441000, US6031581068, US60471A1016, US55306N1046, US60783X1046, US6081901042, US60855R1005, US60871R2094, US6092071058, US6153691059, US6174464486, US6200763075, US55336V1008, US62482R1077, US55354G1004, US6247581084, US62548M1009, US6267171022, US6267551025, US62878D1000, US6311031081, US6323471002, US6361801011, US63633D1046, US63938C1080, US63001N1063, US62886E1082, US6404911066, US64110D1046, US64110L1061, US6443931000, US6512291062, US65158N1028, US6515871076, US6516391066, US65249B1098, US65336K1034, US65341B1061, US65339F1012, US62913M1071, US6541061031, US65441V1017, US65473P1057, US6292093050, US6374171063, GB00BMXNWH07, US6556631025, US6556641008, US6558441084, US6655313079, US6658591044, US6668071029, US66765N1054, US6680743050, US62955J1034, US6293775085, US6703461052, US67058H1023, US67066G1040, US62944T1051, US6745991058, US6752321025, US6757466064, US67623C1099, PR67103X1020, US6708371033, US67098H1041, US6802231042, US6806652052, US6819361006, US6819191064, US6821891057, US68235P1084, US68268W1036, US6826801036, US48238T1097, US6837971042, US68404L2016, US68389X1054, US67103H1077, US68622V1061, LU1092234845, US6882392011, US68902V1070, US6896481032, US69007J1060, US6907321029, US6907421019, US6937181088, US6951561090, US69526K1051, US6988131024, US92556H2067, US7005171050, US7010941042, US7033431039, US7034811015, US70450Y1038, US58502B1061, US7075691094, US70932M1071, US70959W1036, US7134481081, US71424F1057, US71601V1052, US71639T1060, US7170811035, US69331C1080, US69336V1017, US7181721090, US7185461040, US71844V2016, US71880K1016, US71943U1043, US7201902068, US72147K1088, US7234841010, US7237871071, US7244791007, US7265031051, NL0012170237, US69349H1077, US7310681025, PR7331747001, US7365088472, US7374461041, US7376301039, US73939C1062, US6935061076, US69351T1060, US69354N1063, US74112D1019, US74164M1080, US74251V1026, US74275G1076, US74319R1014, US74340W1036, US74348T1025, US7443201022, US69370C1009, US7445731067, US74460D1090, US7458671010, US6936561009, US74736K1016, US7473011093, US7475251036, US74762E1029, US74834L1008, US77634L1052, US7502361014, US7504911022, US7512121010, US75281A1097, US7547301090, US75508B1044, US7549071030, CA74935Q1072, US75524B1044, US7561091049, US7587501039, US7588491032, US75886F1075, US7591EP1005, US7593516047, US7595091023, US7607591002, US76118Y1047, US76131N1019, US7140461093, US76169C1009, US76171L1061, US76680R2067, US64828T2015, US7496071074, US74965L1017, US7710491033, US7739031091, US7766961061, US7782961038, LR0008862868, GB00BMVP7Y09, US7496851038, US75513E1010, US74982T1034, US78351F1075, US7835491082, US7837541041, US78377T1079, US78573L1061, US78573M1045, US79466L3024, US79546E1047, US8010561020, US80517M1099, US78410G1040, AN8068571086, US8086251076, US81211K1007, US8163001071, US8168511090, US8175651046, US81761L1026, US81762P1021, US8270481091, US8288061091, US8292421067, US82981J1097, US82982L1035, US82983N1081, US83001A1025, US83012A1097, US7843051043, US83066P3091, US83067L2088, US83088M1027, US78440X8873, US78442P1066, US78454L1008, US83303Y1055, US8330341012, US83545G1022, US8354951027, US84265V1052, US8447411088, US8448951025, US8454671095, US84612U1079, US84790A1051, US84857L1017, US8485771021, US78467J1007, US85256A1097, US8545021011, US8552441094, US85571B1052, US8574771031, US8581191009, US8581552036, US8589121081, US8606301021, US86183P1021, US8618961085, US8636671013, US8644821048, US8661424098, US8666741041, US86722A1034, US86765K1097, US8681681057, US86881A1007, US8713321029, US87157D1090, US87165B1035, US87161C5013, US8718291078, US87200P1093, IL0011754137, US8740541094, US87484T1088, US8754651060, US8760301072, US87612G1013, US87612E1064, US87615L1070, US87724P1066, US87162W1009, US87901J1051, US8793601050, US8793691069, US8794338298, US88023U1016, US88025T1025, US88033G4073, US8803451033, US8807791038, US88160R1014, US88224Q1076, US8825081040, US8832031012, US00130H1059, US0200021014, US0640581007, US0970231058, US1096961040, US14316J1088, US8085131055, US1630861011, US1638511089, US1255231003, US1890541097, US1912161007, US2107511030, US8110544025, US5184391044, US3647601083, US36162J1060, US38141G1040, US3825501014, US3936571013, US4108671052, US4165151048, US4278661081, US4370761029, US4606901001, US8326964058, US5007541064, US5010441013, US5635714059, US61945C1036, US6934751057, US7427181091, US7433151039, US8101861065, US8243481061, US82900L1026, US8425871071, US8873891043, US8725401090, US8910921084, US89417E1091, US2546871060, US95058W1009, US9598021098, US9694571004, US9871841089, US8835561023, US8851601018, US8860292064, US88830M1027, US8725901040, US8894781033, US89055F1030, US1311931042, US8922311019, US8923561067, US89269P1030, US89400J1079, US8941641024, US89469A1043, US87265H1095, US8962152091, US8962391004, US8962881079, US8965221091, IE0000QBK8U7, US8969452015, US8968181011, GB00BJT16S69, US89832Q1094, US8984021027, US87305R1095, US90041L1052, US9011091082, US90138F1021, US9024941034, US9029733048, US90353T1007, US9026531049, US90385V1070, US9027881088, US9043111072, US9078181081, US9092143067, US9100471096, US9111631035, US9113121068, US9113631090, US9116841084, US9129091081, US91324P1021, US91325V1089, US9132591077, US9134561094, US9139031002, US91529Y1064, US76009N1000, US91544A1097, US90290N1090, US9180901012, US9182041080, US92242T1016, US91879Q1094, US91913Y1001, US9197941076, US9202531011, US92047W1018, US92214X1063, US92240M1080, US92276F1003, US92338C1036, US92343X1000, US92343E1029, US92345Y1064, US92343V1044, US92511U1025, US92534K1079, US29430C1027, US92552R4065, US92552V1008, US92556V1061, US9255501051, US9256521090, US9264001028, US92645B1035, US9279591062, US92828Q1094, US92826C8394, US9282981086, US9283771007, US92839U2069, US92840M1027, US5168062058, US9288811014, US9290421091, US9290891004, US9291601097, US92922P1066, US92936U1097, US0844231029, US3848021040, US9295661071, US9314271084, US93148P1021, US9311421039, US9344231041, US9345502036, US93627C1018, US94106L1098, IE00BLNN3691, US9478901096, US92939U1060, US9497461015, US95040Q1040, US95082P1057, US9581021055, US9297401088, US9604131022, US96145D1054, US96208T1043, US9621661043, US9633201069, US96684W1009, US9713781048, US9746371007, US9780971035, US98138H1014, US9814191048, US9818111026, US98262P1012, US98311A1051, US9831341071, US98389B1008, US9840171030, US98421M1062, US9837931008, US98419M1009, US9884981013, US9892071054, US48123V1026, US98956P1021, US9897011071, US98980B1035, US98978V1035, US98980F1049, US98983L1089'"
      ]
     },
     "execution_count": 29,
     "metadata": {},
     "output_type": "execute_result"
    }
   ],
   "source": [
    "isin"
   ]
  },
  {
   "cell_type": "markdown",
   "id": "602e5fc5",
   "metadata": {},
   "source": [
    "## Use the liability data retrieved from Orbis"
   ]
  },
  {
   "cell_type": "code",
   "execution_count": 33,
   "id": "26ca3d7c",
   "metadata": {
    "scrolled": true
   },
   "outputs": [
    {
     "data": {
      "text/html": [
       "<div>\n",
       "<style scoped>\n",
       "    .dataframe tbody tr th:only-of-type {\n",
       "        vertical-align: middle;\n",
       "    }\n",
       "\n",
       "    .dataframe tbody tr th {\n",
       "        vertical-align: top;\n",
       "    }\n",
       "\n",
       "    .dataframe thead th {\n",
       "        text-align: right;\n",
       "    }\n",
       "</style>\n",
       "<table border=\"1\" class=\"dataframe\">\n",
       "  <thead>\n",
       "    <tr style=\"text-align: right;\">\n",
       "      <th></th>\n",
       "      <th>Company name Latin alphabet</th>\n",
       "      <th>ISIN number</th>\n",
       "      <th>Last avail. year</th>\n",
       "      <th>Total liabilities\\nth USD 2023</th>\n",
       "      <th>Total liabilities\\nth USD 2022</th>\n",
       "      <th>Total liabilities\\nth USD 2021</th>\n",
       "      <th>Total liabilities\\nth USD 2020</th>\n",
       "      <th>Total liabilities\\nth USD 2019</th>\n",
       "      <th>Total liabilities\\nth USD 2018</th>\n",
       "      <th>Total liabilities\\nth USD 2017</th>\n",
       "      <th>...</th>\n",
       "      <th>Total liabilities\\nth USD 2003</th>\n",
       "      <th>Total liabilities\\nth USD 2002</th>\n",
       "      <th>Total liabilities\\nth USD 2001</th>\n",
       "      <th>Total liabilities\\nth USD 2000</th>\n",
       "      <th>Total liabilities\\nth USD 1999</th>\n",
       "      <th>Total liabilities\\nth USD 1998</th>\n",
       "      <th>Total liabilities\\nth USD 1997</th>\n",
       "      <th>Total liabilities\\nth USD 1996</th>\n",
       "      <th>Total liabilities\\nth USD 1995</th>\n",
       "      <th>Total liabilities\\nth USD 1994</th>\n",
       "    </tr>\n",
       "  </thead>\n",
       "  <tbody>\n",
       "    <tr>\n",
       "      <th>0</th>\n",
       "      <td>WALMART INC.</td>\n",
       "      <td>US9311421039</td>\n",
       "      <td>2022.0</td>\n",
       "      <td>n.a.</td>\n",
       "      <td>166504000</td>\n",
       "      <td>161607000</td>\n",
       "      <td>171571000</td>\n",
       "      <td>161826000</td>\n",
       "      <td>146799000</td>\n",
       "      <td>126653000</td>\n",
       "      <td>...</td>\n",
       "      <td>61782000</td>\n",
       "      <td>55347000</td>\n",
       "      <td>48425000</td>\n",
       "      <td>46787000</td>\n",
       "      <td>44515000</td>\n",
       "      <td>28884000</td>\n",
       "      <td>26881000</td>\n",
       "      <td>22461000</td>\n",
       "      <td>22785000</td>\n",
       "      <td>20093000</td>\n",
       "    </tr>\n",
       "    <tr>\n",
       "      <th>1</th>\n",
       "      <td>AMAZON.COM, INC.</td>\n",
       "      <td>US0231351067</td>\n",
       "      <td>2022.0</td>\n",
       "      <td>n.a.</td>\n",
       "      <td>316632000</td>\n",
       "      <td>282304000</td>\n",
       "      <td>227791000</td>\n",
       "      <td>163188000</td>\n",
       "      <td>119099000</td>\n",
       "      <td>103601000</td>\n",
       "      <td>...</td>\n",
       "      <td>3198140</td>\n",
       "      <td>3343263</td>\n",
       "      <td>3077547</td>\n",
       "      <td>3102420</td>\n",
       "      <td>2199572</td>\n",
       "      <td>509715</td>\n",
       "      <td>121253</td>\n",
       "      <td>4870</td>\n",
       "      <td>107</td>\n",
       "      <td>n.a.</td>\n",
       "    </tr>\n",
       "    <tr>\n",
       "      <th>2</th>\n",
       "      <td>EXXON MOBIL CORP</td>\n",
       "      <td>US30231G1022</td>\n",
       "      <td>2022.0</td>\n",
       "      <td>n.a.</td>\n",
       "      <td>174018000</td>\n",
       "      <td>170346000</td>\n",
       "      <td>175600000</td>\n",
       "      <td>170947000</td>\n",
       "      <td>154402000</td>\n",
       "      <td>161003000</td>\n",
       "      <td>...</td>\n",
       "      <td>84363000</td>\n",
       "      <td>78047000</td>\n",
       "      <td>70013000</td>\n",
       "      <td>78243000</td>\n",
       "      <td>81055000</td>\n",
       "      <td>77215000</td>\n",
       "      <td>76502000</td>\n",
       "      <td>79321000</td>\n",
       "      <td>75047000</td>\n",
       "      <td>74843000</td>\n",
       "    </tr>\n",
       "    <tr>\n",
       "      <th>3</th>\n",
       "      <td>APPLE INC.</td>\n",
       "      <td>US0378331005</td>\n",
       "      <td>2023.0</td>\n",
       "      <td>290437000</td>\n",
       "      <td>302083000</td>\n",
       "      <td>287912000</td>\n",
       "      <td>258549000</td>\n",
       "      <td>248028000</td>\n",
       "      <td>258578000</td>\n",
       "      <td>241272000</td>\n",
       "      <td>...</td>\n",
       "      <td>2592000</td>\n",
       "      <td>2203000</td>\n",
       "      <td>2101000</td>\n",
       "      <td>2696000</td>\n",
       "      <td>2057000</td>\n",
       "      <td>2647000</td>\n",
       "      <td>3033000</td>\n",
       "      <td>3306000</td>\n",
       "      <td>3330000</td>\n",
       "      <td>2919445</td>\n",
       "    </tr>\n",
       "    <tr>\n",
       "      <th>4</th>\n",
       "      <td>CVS HEALTH CORPORATION</td>\n",
       "      <td>US1266501006</td>\n",
       "      <td>2022.0</td>\n",
       "      <td>n.a.</td>\n",
       "      <td>157260000</td>\n",
       "      <td>157924000</td>\n",
       "      <td>161326000</td>\n",
       "      <td>158585000</td>\n",
       "      <td>138231000</td>\n",
       "      <td>57440000</td>\n",
       "      <td>...</td>\n",
       "      <td>4521300</td>\n",
       "      <td>4448300</td>\n",
       "      <td>4069400</td>\n",
       "      <td>3644900</td>\n",
       "      <td>3595700</td>\n",
       "      <td>3575600</td>\n",
       "      <td>3364300</td>\n",
       "      <td>3497300</td>\n",
       "      <td>2413799</td>\n",
       "      <td>2353884</td>\n",
       "    </tr>\n",
       "  </tbody>\n",
       "</table>\n",
       "<p>5 rows × 33 columns</p>\n",
       "</div>"
      ],
      "text/plain": [
       "  Company name Latin alphabet   ISIN number  Last avail. year  \\\n",
       "0                WALMART INC.  US9311421039            2022.0   \n",
       "1            AMAZON.COM, INC.  US0231351067            2022.0   \n",
       "2            EXXON MOBIL CORP  US30231G1022            2022.0   \n",
       "3                  APPLE INC.  US0378331005            2023.0   \n",
       "4      CVS HEALTH CORPORATION  US1266501006            2022.0   \n",
       "\n",
       "  Total liabilities\\nth USD 2023 Total liabilities\\nth USD 2022  \\\n",
       "0                           n.a.                      166504000   \n",
       "1                           n.a.                      316632000   \n",
       "2                           n.a.                      174018000   \n",
       "3                      290437000                      302083000   \n",
       "4                           n.a.                      157260000   \n",
       "\n",
       "  Total liabilities\\nth USD 2021 Total liabilities\\nth USD 2020  \\\n",
       "0                      161607000                      171571000   \n",
       "1                      282304000                      227791000   \n",
       "2                      170346000                      175600000   \n",
       "3                      287912000                      258549000   \n",
       "4                      157924000                      161326000   \n",
       "\n",
       "  Total liabilities\\nth USD 2019 Total liabilities\\nth USD 2018  \\\n",
       "0                      161826000                      146799000   \n",
       "1                      163188000                      119099000   \n",
       "2                      170947000                      154402000   \n",
       "3                      248028000                      258578000   \n",
       "4                      158585000                      138231000   \n",
       "\n",
       "  Total liabilities\\nth USD 2017  ... Total liabilities\\nth USD 2003  \\\n",
       "0                      126653000  ...                       61782000   \n",
       "1                      103601000  ...                        3198140   \n",
       "2                      161003000  ...                       84363000   \n",
       "3                      241272000  ...                        2592000   \n",
       "4                       57440000  ...                        4521300   \n",
       "\n",
       "  Total liabilities\\nth USD 2002 Total liabilities\\nth USD 2001  \\\n",
       "0                       55347000                       48425000   \n",
       "1                        3343263                        3077547   \n",
       "2                       78047000                       70013000   \n",
       "3                        2203000                        2101000   \n",
       "4                        4448300                        4069400   \n",
       "\n",
       "  Total liabilities\\nth USD 2000 Total liabilities\\nth USD 1999  \\\n",
       "0                       46787000                       44515000   \n",
       "1                        3102420                        2199572   \n",
       "2                       78243000                       81055000   \n",
       "3                        2696000                        2057000   \n",
       "4                        3644900                        3595700   \n",
       "\n",
       "  Total liabilities\\nth USD 1998 Total liabilities\\nth USD 1997  \\\n",
       "0                       28884000                       26881000   \n",
       "1                         509715                         121253   \n",
       "2                       77215000                       76502000   \n",
       "3                        2647000                        3033000   \n",
       "4                        3575600                        3364300   \n",
       "\n",
       "  Total liabilities\\nth USD 1996 Total liabilities\\nth USD 1995  \\\n",
       "0                       22461000                       22785000   \n",
       "1                           4870                            107   \n",
       "2                       79321000                       75047000   \n",
       "3                        3306000                        3330000   \n",
       "4                        3497300                        2413799   \n",
       "\n",
       "  Total liabilities\\nth USD 1994  \n",
       "0                       20093000  \n",
       "1                           n.a.  \n",
       "2                       74843000  \n",
       "3                        2919445  \n",
       "4                        2353884  \n",
       "\n",
       "[5 rows x 33 columns]"
      ]
     },
     "execution_count": 33,
     "metadata": {},
     "output_type": "execute_result"
    }
   ],
   "source": [
    "US_liability_df = pd.read_excel('US listed companies total liabilities.xlsx')\n",
    "US_liability_df.head()"
   ]
  },
  {
   "cell_type": "code",
   "execution_count": 34,
   "id": "6d6abfb7",
   "metadata": {},
   "outputs": [],
   "source": [
    "year_list = []\n",
    "for i in range(-2023, -1993, 1):\n",
    "    year_list.append(str(-i))"
   ]
  },
  {
   "cell_type": "code",
   "execution_count": 35,
   "id": "b5c7c394",
   "metadata": {},
   "outputs": [],
   "source": [
    "US_liability_df.columns = ['Company name Latin alphabet', 'ISIN number', 'Last avail. year'] + year_list"
   ]
  },
  {
   "cell_type": "code",
   "execution_count": 36,
   "id": "65c5adc6",
   "metadata": {},
   "outputs": [
    {
     "data": {
      "text/html": [
       "<div>\n",
       "<style scoped>\n",
       "    .dataframe tbody tr th:only-of-type {\n",
       "        vertical-align: middle;\n",
       "    }\n",
       "\n",
       "    .dataframe tbody tr th {\n",
       "        vertical-align: top;\n",
       "    }\n",
       "\n",
       "    .dataframe thead th {\n",
       "        text-align: right;\n",
       "    }\n",
       "</style>\n",
       "<table border=\"1\" class=\"dataframe\">\n",
       "  <thead>\n",
       "    <tr style=\"text-align: right;\">\n",
       "      <th></th>\n",
       "      <th>Company name Latin alphabet</th>\n",
       "      <th>ISIN number</th>\n",
       "      <th>Last avail. year</th>\n",
       "      <th>2023</th>\n",
       "      <th>2022</th>\n",
       "      <th>2021</th>\n",
       "      <th>2020</th>\n",
       "      <th>2019</th>\n",
       "      <th>2018</th>\n",
       "      <th>2017</th>\n",
       "      <th>...</th>\n",
       "      <th>2003</th>\n",
       "      <th>2002</th>\n",
       "      <th>2001</th>\n",
       "      <th>2000</th>\n",
       "      <th>1999</th>\n",
       "      <th>1998</th>\n",
       "      <th>1997</th>\n",
       "      <th>1996</th>\n",
       "      <th>1995</th>\n",
       "      <th>1994</th>\n",
       "    </tr>\n",
       "  </thead>\n",
       "  <tbody>\n",
       "    <tr>\n",
       "      <th>0</th>\n",
       "      <td>WALMART INC.</td>\n",
       "      <td>US9311421039</td>\n",
       "      <td>2022.0</td>\n",
       "      <td>n.a.</td>\n",
       "      <td>166504000</td>\n",
       "      <td>161607000</td>\n",
       "      <td>171571000</td>\n",
       "      <td>161826000</td>\n",
       "      <td>146799000</td>\n",
       "      <td>126653000</td>\n",
       "      <td>...</td>\n",
       "      <td>61782000</td>\n",
       "      <td>55347000</td>\n",
       "      <td>48425000</td>\n",
       "      <td>46787000</td>\n",
       "      <td>44515000</td>\n",
       "      <td>28884000</td>\n",
       "      <td>26881000</td>\n",
       "      <td>22461000</td>\n",
       "      <td>22785000</td>\n",
       "      <td>20093000</td>\n",
       "    </tr>\n",
       "    <tr>\n",
       "      <th>1</th>\n",
       "      <td>AMAZON.COM, INC.</td>\n",
       "      <td>US0231351067</td>\n",
       "      <td>2022.0</td>\n",
       "      <td>n.a.</td>\n",
       "      <td>316632000</td>\n",
       "      <td>282304000</td>\n",
       "      <td>227791000</td>\n",
       "      <td>163188000</td>\n",
       "      <td>119099000</td>\n",
       "      <td>103601000</td>\n",
       "      <td>...</td>\n",
       "      <td>3198140</td>\n",
       "      <td>3343263</td>\n",
       "      <td>3077547</td>\n",
       "      <td>3102420</td>\n",
       "      <td>2199572</td>\n",
       "      <td>509715</td>\n",
       "      <td>121253</td>\n",
       "      <td>4870</td>\n",
       "      <td>107</td>\n",
       "      <td>n.a.</td>\n",
       "    </tr>\n",
       "    <tr>\n",
       "      <th>2</th>\n",
       "      <td>EXXON MOBIL CORP</td>\n",
       "      <td>US30231G1022</td>\n",
       "      <td>2022.0</td>\n",
       "      <td>n.a.</td>\n",
       "      <td>174018000</td>\n",
       "      <td>170346000</td>\n",
       "      <td>175600000</td>\n",
       "      <td>170947000</td>\n",
       "      <td>154402000</td>\n",
       "      <td>161003000</td>\n",
       "      <td>...</td>\n",
       "      <td>84363000</td>\n",
       "      <td>78047000</td>\n",
       "      <td>70013000</td>\n",
       "      <td>78243000</td>\n",
       "      <td>81055000</td>\n",
       "      <td>77215000</td>\n",
       "      <td>76502000</td>\n",
       "      <td>79321000</td>\n",
       "      <td>75047000</td>\n",
       "      <td>74843000</td>\n",
       "    </tr>\n",
       "    <tr>\n",
       "      <th>3</th>\n",
       "      <td>APPLE INC.</td>\n",
       "      <td>US0378331005</td>\n",
       "      <td>2023.0</td>\n",
       "      <td>290437000</td>\n",
       "      <td>302083000</td>\n",
       "      <td>287912000</td>\n",
       "      <td>258549000</td>\n",
       "      <td>248028000</td>\n",
       "      <td>258578000</td>\n",
       "      <td>241272000</td>\n",
       "      <td>...</td>\n",
       "      <td>2592000</td>\n",
       "      <td>2203000</td>\n",
       "      <td>2101000</td>\n",
       "      <td>2696000</td>\n",
       "      <td>2057000</td>\n",
       "      <td>2647000</td>\n",
       "      <td>3033000</td>\n",
       "      <td>3306000</td>\n",
       "      <td>3330000</td>\n",
       "      <td>2919445</td>\n",
       "    </tr>\n",
       "    <tr>\n",
       "      <th>4</th>\n",
       "      <td>CVS HEALTH CORPORATION</td>\n",
       "      <td>US1266501006</td>\n",
       "      <td>2022.0</td>\n",
       "      <td>n.a.</td>\n",
       "      <td>157260000</td>\n",
       "      <td>157924000</td>\n",
       "      <td>161326000</td>\n",
       "      <td>158585000</td>\n",
       "      <td>138231000</td>\n",
       "      <td>57440000</td>\n",
       "      <td>...</td>\n",
       "      <td>4521300</td>\n",
       "      <td>4448300</td>\n",
       "      <td>4069400</td>\n",
       "      <td>3644900</td>\n",
       "      <td>3595700</td>\n",
       "      <td>3575600</td>\n",
       "      <td>3364300</td>\n",
       "      <td>3497300</td>\n",
       "      <td>2413799</td>\n",
       "      <td>2353884</td>\n",
       "    </tr>\n",
       "  </tbody>\n",
       "</table>\n",
       "<p>5 rows × 33 columns</p>\n",
       "</div>"
      ],
      "text/plain": [
       "  Company name Latin alphabet   ISIN number  Last avail. year       2023  \\\n",
       "0                WALMART INC.  US9311421039            2022.0       n.a.   \n",
       "1            AMAZON.COM, INC.  US0231351067            2022.0       n.a.   \n",
       "2            EXXON MOBIL CORP  US30231G1022            2022.0       n.a.   \n",
       "3                  APPLE INC.  US0378331005            2023.0  290437000   \n",
       "4      CVS HEALTH CORPORATION  US1266501006            2022.0       n.a.   \n",
       "\n",
       "        2022       2021       2020       2019       2018       2017  ...  \\\n",
       "0  166504000  161607000  171571000  161826000  146799000  126653000  ...   \n",
       "1  316632000  282304000  227791000  163188000  119099000  103601000  ...   \n",
       "2  174018000  170346000  175600000  170947000  154402000  161003000  ...   \n",
       "3  302083000  287912000  258549000  248028000  258578000  241272000  ...   \n",
       "4  157260000  157924000  161326000  158585000  138231000   57440000  ...   \n",
       "\n",
       "       2003      2002      2001      2000      1999      1998      1997  \\\n",
       "0  61782000  55347000  48425000  46787000  44515000  28884000  26881000   \n",
       "1   3198140   3343263   3077547   3102420   2199572    509715    121253   \n",
       "2  84363000  78047000  70013000  78243000  81055000  77215000  76502000   \n",
       "3   2592000   2203000   2101000   2696000   2057000   2647000   3033000   \n",
       "4   4521300   4448300   4069400   3644900   3595700   3575600   3364300   \n",
       "\n",
       "       1996      1995      1994  \n",
       "0  22461000  22785000  20093000  \n",
       "1      4870       107      n.a.  \n",
       "2  79321000  75047000  74843000  \n",
       "3   3306000   3330000   2919445  \n",
       "4   3497300   2413799   2353884  \n",
       "\n",
       "[5 rows x 33 columns]"
      ]
     },
     "execution_count": 36,
     "metadata": {},
     "output_type": "execute_result"
    }
   ],
   "source": [
    "US_liability_df.head()"
   ]
  },
  {
   "cell_type": "markdown",
   "id": "2e587f36",
   "metadata": {},
   "source": [
    "## Convert `n.a.` to null values"
   ]
  },
  {
   "cell_type": "code",
   "execution_count": 37,
   "id": "a42f2a8e",
   "metadata": {},
   "outputs": [],
   "source": [
    "for i in range(US_liability_df.shape[0]):\n",
    "    for j in range(US_liability_df.shape[1]):\n",
    "        if US_liability_df.iloc[i,j] == 'n.a.':\n",
    "            US_liability_df.iloc[i,j]= np.nan"
   ]
  },
  {
   "cell_type": "code",
   "execution_count": 38,
   "id": "c55b85f1",
   "metadata": {},
   "outputs": [
    {
     "data": {
      "text/html": [
       "<div>\n",
       "<style scoped>\n",
       "    .dataframe tbody tr th:only-of-type {\n",
       "        vertical-align: middle;\n",
       "    }\n",
       "\n",
       "    .dataframe tbody tr th {\n",
       "        vertical-align: top;\n",
       "    }\n",
       "\n",
       "    .dataframe thead th {\n",
       "        text-align: right;\n",
       "    }\n",
       "</style>\n",
       "<table border=\"1\" class=\"dataframe\">\n",
       "  <thead>\n",
       "    <tr style=\"text-align: right;\">\n",
       "      <th></th>\n",
       "      <th>Company name Latin alphabet</th>\n",
       "      <th>ISIN number</th>\n",
       "      <th>Last avail. year</th>\n",
       "      <th>2023</th>\n",
       "      <th>2022</th>\n",
       "      <th>2021</th>\n",
       "      <th>2020</th>\n",
       "      <th>2019</th>\n",
       "      <th>2018</th>\n",
       "      <th>2017</th>\n",
       "      <th>...</th>\n",
       "      <th>2003</th>\n",
       "      <th>2002</th>\n",
       "      <th>2001</th>\n",
       "      <th>2000</th>\n",
       "      <th>1999</th>\n",
       "      <th>1998</th>\n",
       "      <th>1997</th>\n",
       "      <th>1996</th>\n",
       "      <th>1995</th>\n",
       "      <th>1994</th>\n",
       "    </tr>\n",
       "  </thead>\n",
       "  <tbody>\n",
       "    <tr>\n",
       "      <th>0</th>\n",
       "      <td>WALMART INC.</td>\n",
       "      <td>US9311421039</td>\n",
       "      <td>2022.0</td>\n",
       "      <td>NaN</td>\n",
       "      <td>166504000</td>\n",
       "      <td>161607000</td>\n",
       "      <td>171571000</td>\n",
       "      <td>161826000</td>\n",
       "      <td>146799000</td>\n",
       "      <td>126653000</td>\n",
       "      <td>...</td>\n",
       "      <td>61782000</td>\n",
       "      <td>55347000</td>\n",
       "      <td>48425000</td>\n",
       "      <td>46787000</td>\n",
       "      <td>44515000</td>\n",
       "      <td>28884000</td>\n",
       "      <td>26881000</td>\n",
       "      <td>22461000</td>\n",
       "      <td>22785000</td>\n",
       "      <td>20093000</td>\n",
       "    </tr>\n",
       "    <tr>\n",
       "      <th>1</th>\n",
       "      <td>AMAZON.COM, INC.</td>\n",
       "      <td>US0231351067</td>\n",
       "      <td>2022.0</td>\n",
       "      <td>NaN</td>\n",
       "      <td>316632000</td>\n",
       "      <td>282304000</td>\n",
       "      <td>227791000</td>\n",
       "      <td>163188000</td>\n",
       "      <td>119099000</td>\n",
       "      <td>103601000</td>\n",
       "      <td>...</td>\n",
       "      <td>3198140</td>\n",
       "      <td>3343263</td>\n",
       "      <td>3077547</td>\n",
       "      <td>3102420</td>\n",
       "      <td>2199572</td>\n",
       "      <td>509715</td>\n",
       "      <td>121253</td>\n",
       "      <td>4870</td>\n",
       "      <td>107</td>\n",
       "      <td>NaN</td>\n",
       "    </tr>\n",
       "    <tr>\n",
       "      <th>2</th>\n",
       "      <td>EXXON MOBIL CORP</td>\n",
       "      <td>US30231G1022</td>\n",
       "      <td>2022.0</td>\n",
       "      <td>NaN</td>\n",
       "      <td>174018000</td>\n",
       "      <td>170346000</td>\n",
       "      <td>175600000</td>\n",
       "      <td>170947000</td>\n",
       "      <td>154402000</td>\n",
       "      <td>161003000</td>\n",
       "      <td>...</td>\n",
       "      <td>84363000</td>\n",
       "      <td>78047000</td>\n",
       "      <td>70013000</td>\n",
       "      <td>78243000</td>\n",
       "      <td>81055000</td>\n",
       "      <td>77215000</td>\n",
       "      <td>76502000</td>\n",
       "      <td>79321000</td>\n",
       "      <td>75047000</td>\n",
       "      <td>74843000</td>\n",
       "    </tr>\n",
       "    <tr>\n",
       "      <th>3</th>\n",
       "      <td>APPLE INC.</td>\n",
       "      <td>US0378331005</td>\n",
       "      <td>2023.0</td>\n",
       "      <td>290437000</td>\n",
       "      <td>302083000</td>\n",
       "      <td>287912000</td>\n",
       "      <td>258549000</td>\n",
       "      <td>248028000</td>\n",
       "      <td>258578000</td>\n",
       "      <td>241272000</td>\n",
       "      <td>...</td>\n",
       "      <td>2592000</td>\n",
       "      <td>2203000</td>\n",
       "      <td>2101000</td>\n",
       "      <td>2696000</td>\n",
       "      <td>2057000</td>\n",
       "      <td>2647000</td>\n",
       "      <td>3033000</td>\n",
       "      <td>3306000</td>\n",
       "      <td>3330000</td>\n",
       "      <td>2919445</td>\n",
       "    </tr>\n",
       "    <tr>\n",
       "      <th>4</th>\n",
       "      <td>CVS HEALTH CORPORATION</td>\n",
       "      <td>US1266501006</td>\n",
       "      <td>2022.0</td>\n",
       "      <td>NaN</td>\n",
       "      <td>157260000</td>\n",
       "      <td>157924000</td>\n",
       "      <td>161326000</td>\n",
       "      <td>158585000</td>\n",
       "      <td>138231000</td>\n",
       "      <td>57440000</td>\n",
       "      <td>...</td>\n",
       "      <td>4521300</td>\n",
       "      <td>4448300</td>\n",
       "      <td>4069400</td>\n",
       "      <td>3644900</td>\n",
       "      <td>3595700</td>\n",
       "      <td>3575600</td>\n",
       "      <td>3364300</td>\n",
       "      <td>3497300</td>\n",
       "      <td>2413799</td>\n",
       "      <td>2353884</td>\n",
       "    </tr>\n",
       "  </tbody>\n",
       "</table>\n",
       "<p>5 rows × 33 columns</p>\n",
       "</div>"
      ],
      "text/plain": [
       "  Company name Latin alphabet   ISIN number  Last avail. year       2023  \\\n",
       "0                WALMART INC.  US9311421039            2022.0        NaN   \n",
       "1            AMAZON.COM, INC.  US0231351067            2022.0        NaN   \n",
       "2            EXXON MOBIL CORP  US30231G1022            2022.0        NaN   \n",
       "3                  APPLE INC.  US0378331005            2023.0  290437000   \n",
       "4      CVS HEALTH CORPORATION  US1266501006            2022.0        NaN   \n",
       "\n",
       "        2022       2021       2020       2019       2018       2017  ...  \\\n",
       "0  166504000  161607000  171571000  161826000  146799000  126653000  ...   \n",
       "1  316632000  282304000  227791000  163188000  119099000  103601000  ...   \n",
       "2  174018000  170346000  175600000  170947000  154402000  161003000  ...   \n",
       "3  302083000  287912000  258549000  248028000  258578000  241272000  ...   \n",
       "4  157260000  157924000  161326000  158585000  138231000   57440000  ...   \n",
       "\n",
       "       2003      2002      2001      2000      1999      1998      1997  \\\n",
       "0  61782000  55347000  48425000  46787000  44515000  28884000  26881000   \n",
       "1   3198140   3343263   3077547   3102420   2199572    509715    121253   \n",
       "2  84363000  78047000  70013000  78243000  81055000  77215000  76502000   \n",
       "3   2592000   2203000   2101000   2696000   2057000   2647000   3033000   \n",
       "4   4521300   4448300   4069400   3644900   3595700   3575600   3364300   \n",
       "\n",
       "       1996      1995      1994  \n",
       "0  22461000  22785000  20093000  \n",
       "1      4870       107       NaN  \n",
       "2  79321000  75047000  74843000  \n",
       "3   3306000   3330000   2919445  \n",
       "4   3497300   2413799   2353884  \n",
       "\n",
       "[5 rows x 33 columns]"
      ]
     },
     "execution_count": 38,
     "metadata": {},
     "output_type": "execute_result"
    }
   ],
   "source": [
    "US_liability_df.head()"
   ]
  },
  {
   "cell_type": "markdown",
   "id": "19413076",
   "metadata": {},
   "source": [
    "# Check liability data availability"
   ]
  },
  {
   "cell_type": "markdown",
   "id": "691f13ca",
   "metadata": {},
   "source": [
    "## Number of companies that have liability data available"
   ]
  },
  {
   "cell_type": "code",
   "execution_count": 39,
   "id": "54f373dc",
   "metadata": {},
   "outputs": [],
   "source": [
    "num_com_datapoint = np.sum(US_liability_df[year_list].notnull(), axis = 1)"
   ]
  },
  {
   "cell_type": "code",
   "execution_count": 40,
   "id": "6d529475",
   "metadata": {},
   "outputs": [
    {
     "data": {
      "text/plain": [
       "1013"
      ]
     },
     "execution_count": 40,
     "metadata": {},
     "output_type": "execute_result"
    }
   ],
   "source": [
    "sum(num_com_datapoint != 0)"
   ]
  },
  {
   "cell_type": "markdown",
   "id": "0151cbbf",
   "metadata": {},
   "source": [
    "## Data availability in terms of years"
   ]
  },
  {
   "cell_type": "code",
   "execution_count": 41,
   "id": "0e442026",
   "metadata": {},
   "outputs": [],
   "source": [
    "num_year_datapoint = np.sum(US_liability_df[year_list].notnull(), axis = 0)"
   ]
  },
  {
   "cell_type": "code",
   "execution_count": 42,
   "id": "f693e8d7",
   "metadata": {},
   "outputs": [],
   "source": [
    "num_year_datapoint.sort_index(inplace = True)"
   ]
  },
  {
   "cell_type": "code",
   "execution_count": 43,
   "id": "38f1c0b0",
   "metadata": {},
   "outputs": [
    {
     "data": {
      "image/png": "[encoded data removed]",
      "text/plain": [
       "<Figure size 640x480 with 1 Axes>"
      ]
     },
     "metadata": {},
     "output_type": "display_data"
    }
   ],
   "source": [
    "plt.plot(num_year_datapoint);\n",
    "plt.title('Number of US companies that have liability data available');\n",
    "plt.xticks(year_list, rotation = 90);"
   ]
  },
  {
   "cell_type": "code",
   "execution_count": null,
   "id": "e5a0eb48",
   "metadata": {},
   "outputs": [],
   "source": []
  }
 ],
 "metadata": {
  "kernelspec": {
   "display_name": "Python 3 (ipykernel)",
   "language": "python",
   "name": "python3"
  },
  "language_info": {
   "codemirror_mode": {
    "name": "ipython",
    "version": 3
   },
   "file_extension": ".py",
   "mimetype": "text/x-python",
   "name": "python",
   "nbconvert_exporter": "python",
   "pygments_lexer": "ipython3",
   "version": "3.9.16"
  }
 },
 "nbformat": 4,
 "nbformat_minor": 5
}
