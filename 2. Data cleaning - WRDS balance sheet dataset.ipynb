{
 "cells": [
  {
   "cell_type": "code",
   "execution_count": 1,
   "id": "08dbce1c",
   "metadata": {
    "scrolled": true
   },
   "outputs": [
    {
     "name": "stderr",
     "output_type": "stream",
     "text": [
      "C:\\Users\\thinkpad\\anaconda3\\envs\\r-tutorial\\lib\\site-packages\\yfinance\\base.py:48: FutureWarning: The default dtype for empty Series will be 'object' instead of 'float64' in a future version. Specify a dtype explicitly to silence this warning.\n",
      "  _empty_series = pd.Series()\n"
     ]
    }
   ],
   "source": [
    "import pandas as pd\n",
    "import numpy as np\n",
    "import yfinance as yf\n",
    "import matplotlib.pyplot as plt"
   ]
  },
  {
   "cell_type": "markdown",
   "id": "2b2ae45c",
   "metadata": {},
   "source": [
    "# Check the WRDS balance sheet data"
   ]
  },
  {
   "cell_type": "code",
   "execution_count": 2,
   "id": "f01519d4",
   "metadata": {},
   "outputs": [],
   "source": [
    "balance_sheet = pd.read_csv('balance sheet.csv')"
   ]
  },
  {
   "cell_type": "code",
   "execution_count": 3,
   "id": "2169bf08",
   "metadata": {},
   "outputs": [
    {
     "data": {
      "text/html": [
       "<div>\n",
       "<style scoped>\n",
       "    .dataframe tbody tr th:only-of-type {\n",
       "        vertical-align: middle;\n",
       "    }\n",
       "\n",
       "    .dataframe tbody tr th {\n",
       "        vertical-align: top;\n",
       "    }\n",
       "\n",
       "    .dataframe thead th {\n",
       "        text-align: right;\n",
       "    }\n",
       "</style>\n",
       "<table border=\"1\" class=\"dataframe\">\n",
       "  <thead>\n",
       "    <tr style=\"text-align: right;\">\n",
       "      <th></th>\n",
       "      <th>gvkey</th>\n",
       "      <th>fqtr</th>\n",
       "      <th>fyearq</th>\n",
       "      <th>datadate</th>\n",
       "      <th>actq</th>\n",
       "      <th>ancq</th>\n",
       "      <th>atq</th>\n",
       "      <th>lltq</th>\n",
       "      <th>ltq</th>\n",
       "      <th>isin</th>\n",
       "      <th>conm</th>\n",
       "      <th>gind</th>\n",
       "      <th>loc</th>\n",
       "    </tr>\n",
       "  </thead>\n",
       "  <tbody>\n",
       "    <tr>\n",
       "      <th>0</th>\n",
       "      <td>18075</td>\n",
       "      <td>4</td>\n",
       "      <td>2010</td>\n",
       "      <td>2010/12/31</td>\n",
       "      <td>197.081</td>\n",
       "      <td>1026.874</td>\n",
       "      <td>1223.955</td>\n",
       "      <td>707.319</td>\n",
       "      <td>1044.091</td>\n",
       "      <td>BRAZULACNPR4</td>\n",
       "      <td>AZUL SA</td>\n",
       "      <td>203020.0</td>\n",
       "      <td>BRA</td>\n",
       "    </tr>\n",
       "    <tr>\n",
       "      <th>1</th>\n",
       "      <td>18075</td>\n",
       "      <td>4</td>\n",
       "      <td>2011</td>\n",
       "      <td>2011/12/31</td>\n",
       "      <td>495.416</td>\n",
       "      <td>1468.587</td>\n",
       "      <td>1964.003</td>\n",
       "      <td>1322.385</td>\n",
       "      <td>1905.621</td>\n",
       "      <td>BRAZULACNPR4</td>\n",
       "      <td>AZUL SA</td>\n",
       "      <td>203020.0</td>\n",
       "      <td>BRA</td>\n",
       "    </tr>\n",
       "    <tr>\n",
       "      <th>2</th>\n",
       "      <td>18075</td>\n",
       "      <td>1</td>\n",
       "      <td>2012</td>\n",
       "      <td>2012/3/31</td>\n",
       "      <td>NaN</td>\n",
       "      <td>NaN</td>\n",
       "      <td>NaN</td>\n",
       "      <td>NaN</td>\n",
       "      <td>NaN</td>\n",
       "      <td>BRAZULACNPR4</td>\n",
       "      <td>AZUL SA</td>\n",
       "      <td>203020.0</td>\n",
       "      <td>BRA</td>\n",
       "    </tr>\n",
       "    <tr>\n",
       "      <th>3</th>\n",
       "      <td>18075</td>\n",
       "      <td>4</td>\n",
       "      <td>2012</td>\n",
       "      <td>2012/12/31</td>\n",
       "      <td>1011.983</td>\n",
       "      <td>3739.802</td>\n",
       "      <td>4751.785</td>\n",
       "      <td>2431.790</td>\n",
       "      <td>4400.754</td>\n",
       "      <td>BRAZULACNPR4</td>\n",
       "      <td>AZUL SA</td>\n",
       "      <td>203020.0</td>\n",
       "      <td>BRA</td>\n",
       "    </tr>\n",
       "    <tr>\n",
       "      <th>4</th>\n",
       "      <td>18075</td>\n",
       "      <td>1</td>\n",
       "      <td>2013</td>\n",
       "      <td>2013/3/31</td>\n",
       "      <td>926.338</td>\n",
       "      <td>3880.680</td>\n",
       "      <td>4807.018</td>\n",
       "      <td>2514.487</td>\n",
       "      <td>4423.179</td>\n",
       "      <td>BRAZULACNPR4</td>\n",
       "      <td>AZUL SA</td>\n",
       "      <td>203020.0</td>\n",
       "      <td>BRA</td>\n",
       "    </tr>\n",
       "  </tbody>\n",
       "</table>\n",
       "</div>"
      ],
      "text/plain": [
       "   gvkey  fqtr  fyearq    datadate      actq      ancq       atq      lltq  \\\n",
       "0  18075     4    2010  2010/12/31   197.081  1026.874  1223.955   707.319   \n",
       "1  18075     4    2011  2011/12/31   495.416  1468.587  1964.003  1322.385   \n",
       "2  18075     1    2012   2012/3/31       NaN       NaN       NaN       NaN   \n",
       "3  18075     4    2012  2012/12/31  1011.983  3739.802  4751.785  2431.790   \n",
       "4  18075     1    2013   2013/3/31   926.338  3880.680  4807.018  2514.487   \n",
       "\n",
       "        ltq          isin     conm      gind  loc  \n",
       "0  1044.091  BRAZULACNPR4  AZUL SA  203020.0  BRA  \n",
       "1  1905.621  BRAZULACNPR4  AZUL SA  203020.0  BRA  \n",
       "2       NaN  BRAZULACNPR4  AZUL SA  203020.0  BRA  \n",
       "3  4400.754  BRAZULACNPR4  AZUL SA  203020.0  BRA  \n",
       "4  4423.179  BRAZULACNPR4  AZUL SA  203020.0  BRA  "
      ]
     },
     "execution_count": 3,
     "metadata": {},
     "output_type": "execute_result"
    }
   ],
   "source": [
    "balance_sheet.head()"
   ]
  },
  {
   "cell_type": "markdown",
   "id": "ad21868d",
   "metadata": {},
   "source": [
    "## Drop the companies that do not have stock data available"
   ]
  },
  {
   "cell_type": "code",
   "execution_count": 4,
   "id": "e0f21b08",
   "metadata": {},
   "outputs": [],
   "source": [
    "balance_sheet = balance_sheet[balance_sheet['isin'].isin(['CL0002694637', 'CL0000000035', 'MXP000511016', 'BRABEVACNOR1', 'MX01AM050019', 'BRAMERACNOR6', 'MX01AX040009', 'BRABCBACNPR4', 'BRBBDCACNPR8', 'BRBPACUNT006', 'COB51PA00076', 'COB01PA00030', 'CLP0939W1081', 'CLP321331116', 'BRBBASACNOR3', 'BRBRSRACNPB4', 'BRBNBRACNOR8', 'CL0002209568', 'CL0002841873', 'PAP169941328', 'BRBPANACNPR1', 'ARMERI013163', 'BRSANBACNPR5', 'CLP1506A1070', 'BRBRKMACNPA4', 'BRBSLIACNPR2', 'BRBRFSACNOR8', 'CLP256251073', 'ARP2006N1025', 'MXP225611567', 'BRELETACNPB7', 'CLP3615W1037', 'BRCEEBACNOR3', 'BRSBSPACNOR5', 'BRCMIGACNPR3', 'BRCSRNACNOR0', 'BRCSNAACNOR6', 'CLP249051044', 'BRCSANACNOR6', 'BMG2519Y1084', 'MXP339881098', 'COC04PA00016', 'MXP369181377', 'CLP3697S1034', 'BREMBRACNOR4', 'ARENOR010020', 'CLP371151059', 'CL0000001314', 'CLP7847L1080', 'CLP371861061', 'CLP3710M1090', 'CL0001583070', 'CL0000006586', 'CLP3880F1085', 'MXP320321310', 'GB00B2QPKJ12', 'MX01GC2M0006', 'BMG383271050', 'BRGGBRACNPR8', 'BRGOLLACNPR4', 'MXP4948K1056', 'MXP495211262', 'COT13PA00086', 'MX01GI020004', 'MX01KU000012', 'MXP370841019', 'MXP791641105', 'MXP4987V1378', 'BRHYPEACNOR0', 'MX01ID000009', 'MXP554091415', 'BRMYPKACNOR7', 'BRJBSSACNOR8', 'MXP606941179', 'BRKLBNACNPR9', 'CL0000000423', 'BRRENTACNOR4', 'BRMRFGACNOR0', 'CLP969051075', 'BRBEEFACNOR6', 'CLP6877L1036', 'BRMRSAACNOR6', 'BRNTCOACNOR5', 'MX01NE000001', 'BRNEOEACNOR3', 'BROIBRACNPR8', 'MX01OR010004', 'ARP432631215', 'BRPETRACNPR6', 'BRRAILACNOR9', 'BRSMTOACNOR3', 'CL0002455229', 'BRSUZBACNOR0', 'ARP9028N1016', 'ARP9308R1039', 'BRTUPYACNOR1', 'BRUGPAACNOR8', 'BRUSIMACNPA6', 'BRVALEACNOR0', 'ARP9897X1319'])]"
   ]
  },
  {
   "cell_type": "code",
   "execution_count": 5,
   "id": "9283c67f",
   "metadata": {},
   "outputs": [],
   "source": [
    "isin_with_2006 = list(balance_sheet[balance_sheet['fyearq']==2006]['isin'].unique())"
   ]
  },
  {
   "cell_type": "code",
   "execution_count": 6,
   "id": "7057c6b5",
   "metadata": {},
   "outputs": [
    {
     "data": {
      "text/plain": [
       "100"
      ]
     },
     "execution_count": 6,
     "metadata": {},
     "output_type": "execute_result"
    }
   ],
   "source": [
    "len(isin_with_2006)"
   ]
  },
  {
   "cell_type": "code",
   "execution_count": 7,
   "id": "b5bd58a9",
   "metadata": {},
   "outputs": [],
   "source": [
    "balance_sheet_2006 = balance_sheet[balance_sheet['isin'].isin(isin_with_2006)].reset_index(drop = True)"
   ]
  },
  {
   "cell_type": "code",
   "execution_count": 8,
   "id": "22de1560",
   "metadata": {},
   "outputs": [
    {
     "data": {
      "text/html": [
       "<div>\n",
       "<style scoped>\n",
       "    .dataframe tbody tr th:only-of-type {\n",
       "        vertical-align: middle;\n",
       "    }\n",
       "\n",
       "    .dataframe tbody tr th {\n",
       "        vertical-align: top;\n",
       "    }\n",
       "\n",
       "    .dataframe thead th {\n",
       "        text-align: right;\n",
       "    }\n",
       "</style>\n",
       "<table border=\"1\" class=\"dataframe\">\n",
       "  <thead>\n",
       "    <tr style=\"text-align: right;\">\n",
       "      <th></th>\n",
       "      <th>gvkey</th>\n",
       "      <th>fqtr</th>\n",
       "      <th>fyearq</th>\n",
       "      <th>datadate</th>\n",
       "      <th>actq</th>\n",
       "      <th>ancq</th>\n",
       "      <th>atq</th>\n",
       "      <th>lltq</th>\n",
       "      <th>ltq</th>\n",
       "      <th>isin</th>\n",
       "      <th>conm</th>\n",
       "      <th>gind</th>\n",
       "      <th>loc</th>\n",
       "    </tr>\n",
       "  </thead>\n",
       "  <tbody>\n",
       "    <tr>\n",
       "      <th>0</th>\n",
       "      <td>25751</td>\n",
       "      <td>1</td>\n",
       "      <td>2006</td>\n",
       "      <td>2006/3/31</td>\n",
       "      <td>NaN</td>\n",
       "      <td>NaN</td>\n",
       "      <td>3105.000</td>\n",
       "      <td>NaN</td>\n",
       "      <td>2518.000</td>\n",
       "      <td>PAP169941328</td>\n",
       "      <td>BANCO LATINOAMERICANO DE COM</td>\n",
       "      <td>402010.0</td>\n",
       "      <td>PAN</td>\n",
       "    </tr>\n",
       "    <tr>\n",
       "      <th>1</th>\n",
       "      <td>25751</td>\n",
       "      <td>2</td>\n",
       "      <td>2006</td>\n",
       "      <td>2006/6/30</td>\n",
       "      <td>NaN</td>\n",
       "      <td>NaN</td>\n",
       "      <td>3532.000</td>\n",
       "      <td>NaN</td>\n",
       "      <td>2974.000</td>\n",
       "      <td>PAP169941328</td>\n",
       "      <td>BANCO LATINOAMERICANO DE COM</td>\n",
       "      <td>402010.0</td>\n",
       "      <td>PAN</td>\n",
       "    </tr>\n",
       "    <tr>\n",
       "      <th>2</th>\n",
       "      <td>25751</td>\n",
       "      <td>3</td>\n",
       "      <td>2006</td>\n",
       "      <td>2006/9/30</td>\n",
       "      <td>NaN</td>\n",
       "      <td>NaN</td>\n",
       "      <td>3521.000</td>\n",
       "      <td>NaN</td>\n",
       "      <td>2956.000</td>\n",
       "      <td>PAP169941328</td>\n",
       "      <td>BANCO LATINOAMERICANO DE COM</td>\n",
       "      <td>402010.0</td>\n",
       "      <td>PAN</td>\n",
       "    </tr>\n",
       "    <tr>\n",
       "      <th>3</th>\n",
       "      <td>25751</td>\n",
       "      <td>4</td>\n",
       "      <td>2006</td>\n",
       "      <td>2006/12/31</td>\n",
       "      <td>NaN</td>\n",
       "      <td>NaN</td>\n",
       "      <td>3978.337</td>\n",
       "      <td>NaN</td>\n",
       "      <td>3394.442</td>\n",
       "      <td>PAP169941328</td>\n",
       "      <td>BANCO LATINOAMERICANO DE COM</td>\n",
       "      <td>402010.0</td>\n",
       "      <td>PAN</td>\n",
       "    </tr>\n",
       "    <tr>\n",
       "      <th>4</th>\n",
       "      <td>25751</td>\n",
       "      <td>1</td>\n",
       "      <td>2007</td>\n",
       "      <td>2007/3/31</td>\n",
       "      <td>NaN</td>\n",
       "      <td>NaN</td>\n",
       "      <td>4274.000</td>\n",
       "      <td>NaN</td>\n",
       "      <td>3684.000</td>\n",
       "      <td>PAP169941328</td>\n",
       "      <td>BANCO LATINOAMERICANO DE COM</td>\n",
       "      <td>402010.0</td>\n",
       "      <td>PAN</td>\n",
       "    </tr>\n",
       "  </tbody>\n",
       "</table>\n",
       "</div>"
      ],
      "text/plain": [
       "   gvkey  fqtr  fyearq    datadate  actq  ancq       atq  lltq       ltq  \\\n",
       "0  25751     1    2006   2006/3/31   NaN   NaN  3105.000   NaN  2518.000   \n",
       "1  25751     2    2006   2006/6/30   NaN   NaN  3532.000   NaN  2974.000   \n",
       "2  25751     3    2006   2006/9/30   NaN   NaN  3521.000   NaN  2956.000   \n",
       "3  25751     4    2006  2006/12/31   NaN   NaN  3978.337   NaN  3394.442   \n",
       "4  25751     1    2007   2007/3/31   NaN   NaN  4274.000   NaN  3684.000   \n",
       "\n",
       "           isin                          conm      gind  loc  \n",
       "0  PAP169941328  BANCO LATINOAMERICANO DE COM  402010.0  PAN  \n",
       "1  PAP169941328  BANCO LATINOAMERICANO DE COM  402010.0  PAN  \n",
       "2  PAP169941328  BANCO LATINOAMERICANO DE COM  402010.0  PAN  \n",
       "3  PAP169941328  BANCO LATINOAMERICANO DE COM  402010.0  PAN  \n",
       "4  PAP169941328  BANCO LATINOAMERICANO DE COM  402010.0  PAN  "
      ]
     },
     "execution_count": 8,
     "metadata": {},
     "output_type": "execute_result"
    }
   ],
   "source": [
    "balance_sheet_2006.head()"
   ]
  },
  {
   "cell_type": "markdown",
   "id": "2a8ce17f",
   "metadata": {},
   "source": [
    "# Deal with missing values in `balance_sheet_2006`"
   ]
  },
  {
   "cell_type": "code",
   "execution_count": 9,
   "id": "cbefa6d9",
   "metadata": {},
   "outputs": [
    {
     "data": {
      "text/plain": [
       "100"
      ]
     },
     "execution_count": 9,
     "metadata": {},
     "output_type": "execute_result"
    }
   ],
   "source": [
    "balance_sheet_2006['isin'].nunique()"
   ]
  },
  {
   "cell_type": "code",
   "execution_count": 10,
   "id": "2b28cb8a",
   "metadata": {},
   "outputs": [
    {
     "data": {
      "text/plain": [
       "(7057, 13)"
      ]
     },
     "execution_count": 10,
     "metadata": {},
     "output_type": "execute_result"
    }
   ],
   "source": [
    "balance_sheet_2006.shape"
   ]
  },
  {
   "cell_type": "code",
   "execution_count": 11,
   "id": "204db8e6",
   "metadata": {},
   "outputs": [
    {
     "data": {
      "text/plain": [
       "gvkey          0\n",
       "fqtr           0\n",
       "fyearq         0\n",
       "datadate       0\n",
       "actq        1570\n",
       "ancq        1570\n",
       "atq           79\n",
       "lltq        1571\n",
       "ltq           79\n",
       "isin           0\n",
       "conm           0\n",
       "gind           0\n",
       "loc            0\n",
       "dtype: int64"
      ]
     },
     "execution_count": 11,
     "metadata": {},
     "output_type": "execute_result"
    }
   ],
   "source": [
    "np.sum(balance_sheet_2006.isnull(), axis = 0)"
   ]
  },
  {
   "cell_type": "code",
   "execution_count": 12,
   "id": "4cf705da",
   "metadata": {},
   "outputs": [],
   "source": [
    "# remove actq, ancq, lltq, as there are too many missing values\n",
    "balance_sheet_2006.drop(columns = ['actq', 'ancq', 'lltq'], inplace = True)"
   ]
  },
  {
   "cell_type": "code",
   "execution_count": 13,
   "id": "5629eade",
   "metadata": {},
   "outputs": [
    {
     "data": {
      "text/plain": [
       "Index(['gvkey', 'fqtr', 'fyearq', 'datadate', 'atq', 'ltq', 'isin', 'conm',\n",
       "       'gind', 'loc'],\n",
       "      dtype='object')"
      ]
     },
     "execution_count": 13,
     "metadata": {},
     "output_type": "execute_result"
    }
   ],
   "source": [
    "balance_sheet_2006.columns"
   ]
  },
  {
   "cell_type": "code",
   "execution_count": 14,
   "id": "c7501dac",
   "metadata": {},
   "outputs": [],
   "source": [
    "balance_sheet_2006.columns = ['key', 'fiscal_quarter', 'fiscal_year', 'datadate', 'total_assets', 'total_liabilities', 'isin', 'company_name', 'gic_industries', 'iso_country_code']"
   ]
  },
  {
   "cell_type": "code",
   "execution_count": 15,
   "id": "fba4cd68",
   "metadata": {},
   "outputs": [
    {
     "data": {
      "text/html": [
       "<div>\n",
       "<style scoped>\n",
       "    .dataframe tbody tr th:only-of-type {\n",
       "        vertical-align: middle;\n",
       "    }\n",
       "\n",
       "    .dataframe tbody tr th {\n",
       "        vertical-align: top;\n",
       "    }\n",
       "\n",
       "    .dataframe thead th {\n",
       "        text-align: right;\n",
       "    }\n",
       "</style>\n",
       "<table border=\"1\" class=\"dataframe\">\n",
       "  <thead>\n",
       "    <tr style=\"text-align: right;\">\n",
       "      <th></th>\n",
       "      <th>key</th>\n",
       "      <th>fiscal_quarter</th>\n",
       "      <th>fiscal_year</th>\n",
       "      <th>datadate</th>\n",
       "      <th>total_assets</th>\n",
       "      <th>total_liabilities</th>\n",
       "      <th>isin</th>\n",
       "      <th>company_name</th>\n",
       "      <th>gic_industries</th>\n",
       "      <th>iso_country_code</th>\n",
       "    </tr>\n",
       "  </thead>\n",
       "  <tbody>\n",
       "    <tr>\n",
       "      <th>7052</th>\n",
       "      <td>320759</td>\n",
       "      <td>3</td>\n",
       "      <td>2022</td>\n",
       "      <td>2022/9/30</td>\n",
       "      <td>4652883.0</td>\n",
       "      <td>4392316.0</td>\n",
       "      <td>CL0002209568</td>\n",
       "      <td>BANCO INTERNACIONAL SA</td>\n",
       "      <td>401010.0</td>\n",
       "      <td>CHL</td>\n",
       "    </tr>\n",
       "    <tr>\n",
       "      <th>7053</th>\n",
       "      <td>320759</td>\n",
       "      <td>4</td>\n",
       "      <td>2022</td>\n",
       "      <td>2022/12/31</td>\n",
       "      <td>4375726.0</td>\n",
       "      <td>4105241.0</td>\n",
       "      <td>CL0002209568</td>\n",
       "      <td>BANCO INTERNACIONAL SA</td>\n",
       "      <td>401010.0</td>\n",
       "      <td>CHL</td>\n",
       "    </tr>\n",
       "    <tr>\n",
       "      <th>7054</th>\n",
       "      <td>320759</td>\n",
       "      <td>1</td>\n",
       "      <td>2023</td>\n",
       "      <td>2023/3/31</td>\n",
       "      <td>4360215.0</td>\n",
       "      <td>4080433.0</td>\n",
       "      <td>CL0002209568</td>\n",
       "      <td>BANCO INTERNACIONAL SA</td>\n",
       "      <td>401010.0</td>\n",
       "      <td>CHL</td>\n",
       "    </tr>\n",
       "    <tr>\n",
       "      <th>7055</th>\n",
       "      <td>320759</td>\n",
       "      <td>2</td>\n",
       "      <td>2023</td>\n",
       "      <td>2023/6/30</td>\n",
       "      <td>4582879.0</td>\n",
       "      <td>4291507.0</td>\n",
       "      <td>CL0002209568</td>\n",
       "      <td>BANCO INTERNACIONAL SA</td>\n",
       "      <td>401010.0</td>\n",
       "      <td>CHL</td>\n",
       "    </tr>\n",
       "    <tr>\n",
       "      <th>7056</th>\n",
       "      <td>320759</td>\n",
       "      <td>3</td>\n",
       "      <td>2023</td>\n",
       "      <td>2023/9/30</td>\n",
       "      <td>4914894.0</td>\n",
       "      <td>4576074.0</td>\n",
       "      <td>CL0002209568</td>\n",
       "      <td>BANCO INTERNACIONAL SA</td>\n",
       "      <td>401010.0</td>\n",
       "      <td>CHL</td>\n",
       "    </tr>\n",
       "  </tbody>\n",
       "</table>\n",
       "</div>"
      ],
      "text/plain": [
       "         key  fiscal_quarter  fiscal_year    datadate  total_assets  \\\n",
       "7052  320759               3         2022   2022/9/30     4652883.0   \n",
       "7053  320759               4         2022  2022/12/31     4375726.0   \n",
       "7054  320759               1         2023   2023/3/31     4360215.0   \n",
       "7055  320759               2         2023   2023/6/30     4582879.0   \n",
       "7056  320759               3         2023   2023/9/30     4914894.0   \n",
       "\n",
       "      total_liabilities          isin            company_name  gic_industries  \\\n",
       "7052          4392316.0  CL0002209568  BANCO INTERNACIONAL SA        401010.0   \n",
       "7053          4105241.0  CL0002209568  BANCO INTERNACIONAL SA        401010.0   \n",
       "7054          4080433.0  CL0002209568  BANCO INTERNACIONAL SA        401010.0   \n",
       "7055          4291507.0  CL0002209568  BANCO INTERNACIONAL SA        401010.0   \n",
       "7056          4576074.0  CL0002209568  BANCO INTERNACIONAL SA        401010.0   \n",
       "\n",
       "     iso_country_code  \n",
       "7052              CHL  \n",
       "7053              CHL  \n",
       "7054              CHL  \n",
       "7055              CHL  \n",
       "7056              CHL  "
      ]
     },
     "execution_count": 15,
     "metadata": {},
     "output_type": "execute_result"
    }
   ],
   "source": [
    "balance_sheet_2006.tail()"
   ]
  },
  {
   "cell_type": "markdown",
   "id": "67e73c62",
   "metadata": {},
   "source": [
    "## Check the starting date of each company"
   ]
  },
  {
   "cell_type": "code",
   "execution_count": 16,
   "id": "74784a8d",
   "metadata": {},
   "outputs": [],
   "source": [
    "balance_sheet_2006['datadate'] = pd.to_datetime(balance_sheet_2006['datadate'])\n",
    "balance_sheet_2006['MM-DD'] = balance_sheet_2006['datadate'].dt.strftime('%m-%d')"
   ]
  },
  {
   "cell_type": "code",
   "execution_count": 17,
   "id": "0864a763",
   "metadata": {},
   "outputs": [
    {
     "data": {
      "text/plain": [
       "03-31    1761\n",
       "06-30    1756\n",
       "09-30    1750\n",
       "12-31    1698\n",
       "01-31      24\n",
       "04-30      22\n",
       "07-31      22\n",
       "10-31      22\n",
       "08-31       2\n",
       "Name: MM-DD, dtype: int64"
      ]
     },
     "execution_count": 17,
     "metadata": {},
     "output_type": "execute_result"
    }
   ],
   "source": [
    "balance_sheet_2006['MM-DD'].value_counts()"
   ]
  },
  {
   "cell_type": "code",
   "execution_count": 18,
   "id": "b9214963",
   "metadata": {},
   "outputs": [
    {
     "data": {
      "text/plain": [
       "array(['ARP2006N1025', 'CL0002841873', 'BRCSANACNOR6', 'BRSMTOACNOR3'],\n",
       "      dtype=object)"
      ]
     },
     "execution_count": 18,
     "metadata": {},
     "output_type": "execute_result"
    }
   ],
   "source": [
    "balance_sheet_2006[balance_sheet_2006['MM-DD'].isin(['01-31', '04-30', '07-31', '10-31', '08-31'])]['isin'].unique()"
   ]
  },
  {
   "cell_type": "code",
   "execution_count": 19,
   "id": "f8c47e87",
   "metadata": {},
   "outputs": [
    {
     "name": "stdout",
     "output_type": "stream",
     "text": [
      "ARP2006N1025 total: 72 unsuitable dates: 72\n",
      "CL0002841873 total: 73 unsuitable dates: 2\n",
      "BRCSANACNOR6 total: 72 unsuitable dates: 13\n",
      "BRSMTOACNOR3 total: 75 unsuitable dates: 5\n"
     ]
    }
   ],
   "source": [
    "# Count the number of unsuitable dates\n",
    "for isin in ['ARP2006N1025', 'CL0002841873', 'BRCSANACNOR6', 'BRSMTOACNOR3']:\n",
    "    temp = balance_sheet_2006[balance_sheet_2006['isin']==isin]\n",
    "    count = sum(temp['MM-DD'].isin(['01-31', '04-30', '07-31', '10-31', '08-31']))\n",
    "    print(isin, 'total:', temp.shape[0], 'unsuitable dates:', count)"
   ]
  },
  {
   "cell_type": "markdown",
   "id": "96fbf06e",
   "metadata": {},
   "source": [
    "### Decision:\n",
    "Drop ARP2006N1025, and the unsuitable rows for other isin."
   ]
  },
  {
   "cell_type": "code",
   "execution_count": 20,
   "id": "e834b2e6",
   "metadata": {},
   "outputs": [
    {
     "data": {
      "text/plain": [
       "(6965, 11)"
      ]
     },
     "execution_count": 20,
     "metadata": {},
     "output_type": "execute_result"
    }
   ],
   "source": [
    "balance_sheet_2006 = balance_sheet_2006[~(balance_sheet_2006['MM-DD'].isin(['01-31', '04-30', '07-31', '10-31', '08-31']))]\n",
    "balance_sheet_2006.shape"
   ]
  },
  {
   "cell_type": "code",
   "execution_count": 21,
   "id": "ab5910d9",
   "metadata": {
    "scrolled": false
   },
   "outputs": [
    {
     "data": {
      "text/html": [
       "<div>\n",
       "<style scoped>\n",
       "    .dataframe tbody tr th:only-of-type {\n",
       "        vertical-align: middle;\n",
       "    }\n",
       "\n",
       "    .dataframe tbody tr th {\n",
       "        vertical-align: top;\n",
       "    }\n",
       "\n",
       "    .dataframe thead th {\n",
       "        text-align: right;\n",
       "    }\n",
       "</style>\n",
       "<table border=\"1\" class=\"dataframe\">\n",
       "  <thead>\n",
       "    <tr style=\"text-align: right;\">\n",
       "      <th></th>\n",
       "      <th>key</th>\n",
       "      <th>fiscal_quarter</th>\n",
       "      <th>fiscal_year</th>\n",
       "      <th>datadate</th>\n",
       "      <th>total_assets</th>\n",
       "      <th>total_liabilities</th>\n",
       "      <th>isin</th>\n",
       "      <th>company_name</th>\n",
       "      <th>gic_industries</th>\n",
       "      <th>iso_country_code</th>\n",
       "      <th>MM-DD</th>\n",
       "    </tr>\n",
       "  </thead>\n",
       "  <tbody>\n",
       "    <tr>\n",
       "      <th>7052</th>\n",
       "      <td>320759</td>\n",
       "      <td>3</td>\n",
       "      <td>2022</td>\n",
       "      <td>2022-09-30</td>\n",
       "      <td>4652883.0</td>\n",
       "      <td>4392316.0</td>\n",
       "      <td>CL0002209568</td>\n",
       "      <td>BANCO INTERNACIONAL SA</td>\n",
       "      <td>401010.0</td>\n",
       "      <td>CHL</td>\n",
       "      <td>09-30</td>\n",
       "    </tr>\n",
       "    <tr>\n",
       "      <th>7053</th>\n",
       "      <td>320759</td>\n",
       "      <td>4</td>\n",
       "      <td>2022</td>\n",
       "      <td>2022-12-31</td>\n",
       "      <td>4375726.0</td>\n",
       "      <td>4105241.0</td>\n",
       "      <td>CL0002209568</td>\n",
       "      <td>BANCO INTERNACIONAL SA</td>\n",
       "      <td>401010.0</td>\n",
       "      <td>CHL</td>\n",
       "      <td>12-31</td>\n",
       "    </tr>\n",
       "    <tr>\n",
       "      <th>7054</th>\n",
       "      <td>320759</td>\n",
       "      <td>1</td>\n",
       "      <td>2023</td>\n",
       "      <td>2023-03-31</td>\n",
       "      <td>4360215.0</td>\n",
       "      <td>4080433.0</td>\n",
       "      <td>CL0002209568</td>\n",
       "      <td>BANCO INTERNACIONAL SA</td>\n",
       "      <td>401010.0</td>\n",
       "      <td>CHL</td>\n",
       "      <td>03-31</td>\n",
       "    </tr>\n",
       "    <tr>\n",
       "      <th>7055</th>\n",
       "      <td>320759</td>\n",
       "      <td>2</td>\n",
       "      <td>2023</td>\n",
       "      <td>2023-06-30</td>\n",
       "      <td>4582879.0</td>\n",
       "      <td>4291507.0</td>\n",
       "      <td>CL0002209568</td>\n",
       "      <td>BANCO INTERNACIONAL SA</td>\n",
       "      <td>401010.0</td>\n",
       "      <td>CHL</td>\n",
       "      <td>06-30</td>\n",
       "    </tr>\n",
       "    <tr>\n",
       "      <th>7056</th>\n",
       "      <td>320759</td>\n",
       "      <td>3</td>\n",
       "      <td>2023</td>\n",
       "      <td>2023-09-30</td>\n",
       "      <td>4914894.0</td>\n",
       "      <td>4576074.0</td>\n",
       "      <td>CL0002209568</td>\n",
       "      <td>BANCO INTERNACIONAL SA</td>\n",
       "      <td>401010.0</td>\n",
       "      <td>CHL</td>\n",
       "      <td>09-30</td>\n",
       "    </tr>\n",
       "  </tbody>\n",
       "</table>\n",
       "</div>"
      ],
      "text/plain": [
       "         key  fiscal_quarter  fiscal_year   datadate  total_assets  \\\n",
       "7052  320759               3         2022 2022-09-30     4652883.0   \n",
       "7053  320759               4         2022 2022-12-31     4375726.0   \n",
       "7054  320759               1         2023 2023-03-31     4360215.0   \n",
       "7055  320759               2         2023 2023-06-30     4582879.0   \n",
       "7056  320759               3         2023 2023-09-30     4914894.0   \n",
       "\n",
       "      total_liabilities          isin            company_name  gic_industries  \\\n",
       "7052          4392316.0  CL0002209568  BANCO INTERNACIONAL SA        401010.0   \n",
       "7053          4105241.0  CL0002209568  BANCO INTERNACIONAL SA        401010.0   \n",
       "7054          4080433.0  CL0002209568  BANCO INTERNACIONAL SA        401010.0   \n",
       "7055          4291507.0  CL0002209568  BANCO INTERNACIONAL SA        401010.0   \n",
       "7056          4576074.0  CL0002209568  BANCO INTERNACIONAL SA        401010.0   \n",
       "\n",
       "     iso_country_code  MM-DD  \n",
       "7052              CHL  09-30  \n",
       "7053              CHL  12-31  \n",
       "7054              CHL  03-31  \n",
       "7055              CHL  06-30  \n",
       "7056              CHL  09-30  "
      ]
     },
     "execution_count": 21,
     "metadata": {},
     "output_type": "execute_result"
    }
   ],
   "source": [
    "balance_sheet_2006.tail()"
   ]
  },
  {
   "cell_type": "code",
   "execution_count": 22,
   "id": "79a7f0fc",
   "metadata": {},
   "outputs": [
    {
     "data": {
      "text/plain": [
       "99"
      ]
     },
     "execution_count": 22,
     "metadata": {},
     "output_type": "execute_result"
    }
   ],
   "source": [
    "# find the number of companies available in balance_sheet_2006\n",
    "balance_sheet_2006['isin'].nunique()"
   ]
  },
  {
   "cell_type": "code",
   "execution_count": 23,
   "id": "b92cb2a3",
   "metadata": {},
   "outputs": [
    {
     "data": {
      "text/html": [
       "<div>\n",
       "<style scoped>\n",
       "    .dataframe tbody tr th:only-of-type {\n",
       "        vertical-align: middle;\n",
       "    }\n",
       "\n",
       "    .dataframe tbody tr th {\n",
       "        vertical-align: top;\n",
       "    }\n",
       "\n",
       "    .dataframe thead th {\n",
       "        text-align: right;\n",
       "    }\n",
       "</style>\n",
       "<table border=\"1\" class=\"dataframe\">\n",
       "  <thead>\n",
       "    <tr style=\"text-align: right;\">\n",
       "      <th></th>\n",
       "      <th>datadate</th>\n",
       "    </tr>\n",
       "  </thead>\n",
       "  <tbody>\n",
       "    <tr>\n",
       "      <th>0</th>\n",
       "      <td>2006-03-31</td>\n",
       "    </tr>\n",
       "    <tr>\n",
       "      <th>1</th>\n",
       "      <td>2006-06-30</td>\n",
       "    </tr>\n",
       "    <tr>\n",
       "      <th>2</th>\n",
       "      <td>2006-09-30</td>\n",
       "    </tr>\n",
       "    <tr>\n",
       "      <th>3</th>\n",
       "      <td>2006-12-31</td>\n",
       "    </tr>\n",
       "    <tr>\n",
       "      <th>4</th>\n",
       "      <td>2007-03-31</td>\n",
       "    </tr>\n",
       "  </tbody>\n",
       "</table>\n",
       "</div>"
      ],
      "text/plain": [
       "    datadate\n",
       "0 2006-03-31\n",
       "1 2006-06-30\n",
       "2 2006-09-30\n",
       "3 2006-12-31\n",
       "4 2007-03-31"
      ]
     },
     "execution_count": 23,
     "metadata": {},
     "output_type": "execute_result"
    }
   ],
   "source": [
    "quarterly_dates = pd.date_range(start='2006-01-01', end='2023-12-31', freq='Q').to_list()\n",
    "correct_datetime = pd.DataFrame({'datadate': quarterly_dates})\n",
    "correct_datetime.head()"
   ]
  },
  {
   "cell_type": "code",
   "execution_count": 24,
   "id": "8fd8c4ac",
   "metadata": {},
   "outputs": [
    {
     "data": {
      "text/plain": [
       "7128"
      ]
     },
     "execution_count": 24,
     "metadata": {},
     "output_type": "execute_result"
    }
   ],
   "source": [
    "# find the expected length of the dataframe\n",
    "len(quarterly_dates*(balance_sheet_2006['isin'].nunique()))"
   ]
  },
  {
   "cell_type": "code",
   "execution_count": 25,
   "id": "8b9b3b53",
   "metadata": {},
   "outputs": [],
   "source": [
    "correct_datetime.set_index('datadate', inplace = True)"
   ]
  },
  {
   "cell_type": "code",
   "execution_count": 26,
   "id": "cc8b7e9f",
   "metadata": {},
   "outputs": [],
   "source": [
    "company_list = list(balance_sheet_2006['isin'].unique())"
   ]
  },
  {
   "cell_type": "code",
   "execution_count": 27,
   "id": "88b90432",
   "metadata": {},
   "outputs": [],
   "source": [
    "first_company_info = balance_sheet_2006[balance_sheet_2006['isin'] == company_list[0]].set_index('datadate')\n",
    "balance_sheet_adjusted = first_company_info.join(correct_datetime, how = 'outer').reset_index()\n",
    "\n",
    "for column in ['key', 'isin', 'company_name', 'gic_industries', 'iso_country_code']:\n",
    "    balance_sheet_adjusted[column] = balance_sheet_adjusted[balance_sheet_adjusted[column].notnull()][column].unique().item()\n",
    "    \n",
    "balance_sheet_adjusted['fiscal_quarter']=balance_sheet_adjusted['datadate'].dt.quarter\n",
    "balance_sheet_adjusted['fiscal_year']=balance_sheet_adjusted['datadate'].dt.year"
   ]
  },
  {
   "cell_type": "code",
   "execution_count": 28,
   "id": "2931d945",
   "metadata": {},
   "outputs": [],
   "source": [
    "for isin in company_list[1:]:\n",
    "    temp = balance_sheet_2006[balance_sheet_2006['isin'] == isin].set_index('datadate')\n",
    "    temp = temp.join(correct_datetime, how = 'outer').reset_index()\n",
    "    for column in ['key', 'isin', 'company_name', 'gic_industries', 'iso_country_code']:\n",
    "        temp[column] = temp[temp[column].notnull()][column].unique().item()\n",
    "    temp['fiscal_quarter']=temp['datadate'].dt.quarter\n",
    "    temp['fiscal_year']=temp['datadate'].dt.year\n",
    "    balance_sheet_adjusted = pd.concat([balance_sheet_adjusted, temp], axis = 0)"
   ]
  },
  {
   "cell_type": "code",
   "execution_count": 29,
   "id": "4c62878d",
   "metadata": {},
   "outputs": [
    {
     "data": {
      "text/plain": [
       "7128"
      ]
     },
     "execution_count": 29,
     "metadata": {},
     "output_type": "execute_result"
    }
   ],
   "source": [
    "# Check that the number of rows is correct\n",
    "balance_sheet_adjusted.reset_index(inplace = True, drop = True)\n",
    "balance_sheet_adjusted.drop(columns = ['MM-DD'], inplace = True)\n",
    "balance_sheet_adjusted.shape[0]"
   ]
  },
  {
   "cell_type": "code",
   "execution_count": 30,
   "id": "f4223d8d",
   "metadata": {},
   "outputs": [
    {
     "data": {
      "text/html": [
       "<div>\n",
       "<style scoped>\n",
       "    .dataframe tbody tr th:only-of-type {\n",
       "        vertical-align: middle;\n",
       "    }\n",
       "\n",
       "    .dataframe tbody tr th {\n",
       "        vertical-align: top;\n",
       "    }\n",
       "\n",
       "    .dataframe thead th {\n",
       "        text-align: right;\n",
       "    }\n",
       "</style>\n",
       "<table border=\"1\" class=\"dataframe\">\n",
       "  <thead>\n",
       "    <tr style=\"text-align: right;\">\n",
       "      <th></th>\n",
       "      <th>datadate</th>\n",
       "      <th>key</th>\n",
       "      <th>fiscal_quarter</th>\n",
       "      <th>fiscal_year</th>\n",
       "      <th>total_assets</th>\n",
       "      <th>total_liabilities</th>\n",
       "      <th>isin</th>\n",
       "      <th>company_name</th>\n",
       "      <th>gic_industries</th>\n",
       "      <th>iso_country_code</th>\n",
       "    </tr>\n",
       "  </thead>\n",
       "  <tbody>\n",
       "    <tr>\n",
       "      <th>0</th>\n",
       "      <td>2006-03-31</td>\n",
       "      <td>25751.0</td>\n",
       "      <td>1</td>\n",
       "      <td>2006</td>\n",
       "      <td>3105.000</td>\n",
       "      <td>2518.000</td>\n",
       "      <td>PAP169941328</td>\n",
       "      <td>BANCO LATINOAMERICANO DE COM</td>\n",
       "      <td>402010.0</td>\n",
       "      <td>PAN</td>\n",
       "    </tr>\n",
       "    <tr>\n",
       "      <th>1</th>\n",
       "      <td>2006-06-30</td>\n",
       "      <td>25751.0</td>\n",
       "      <td>2</td>\n",
       "      <td>2006</td>\n",
       "      <td>3532.000</td>\n",
       "      <td>2974.000</td>\n",
       "      <td>PAP169941328</td>\n",
       "      <td>BANCO LATINOAMERICANO DE COM</td>\n",
       "      <td>402010.0</td>\n",
       "      <td>PAN</td>\n",
       "    </tr>\n",
       "    <tr>\n",
       "      <th>2</th>\n",
       "      <td>2006-09-30</td>\n",
       "      <td>25751.0</td>\n",
       "      <td>3</td>\n",
       "      <td>2006</td>\n",
       "      <td>3521.000</td>\n",
       "      <td>2956.000</td>\n",
       "      <td>PAP169941328</td>\n",
       "      <td>BANCO LATINOAMERICANO DE COM</td>\n",
       "      <td>402010.0</td>\n",
       "      <td>PAN</td>\n",
       "    </tr>\n",
       "    <tr>\n",
       "      <th>3</th>\n",
       "      <td>2006-12-31</td>\n",
       "      <td>25751.0</td>\n",
       "      <td>4</td>\n",
       "      <td>2006</td>\n",
       "      <td>3978.337</td>\n",
       "      <td>3394.442</td>\n",
       "      <td>PAP169941328</td>\n",
       "      <td>BANCO LATINOAMERICANO DE COM</td>\n",
       "      <td>402010.0</td>\n",
       "      <td>PAN</td>\n",
       "    </tr>\n",
       "    <tr>\n",
       "      <th>4</th>\n",
       "      <td>2007-03-31</td>\n",
       "      <td>25751.0</td>\n",
       "      <td>1</td>\n",
       "      <td>2007</td>\n",
       "      <td>4274.000</td>\n",
       "      <td>3684.000</td>\n",
       "      <td>PAP169941328</td>\n",
       "      <td>BANCO LATINOAMERICANO DE COM</td>\n",
       "      <td>402010.0</td>\n",
       "      <td>PAN</td>\n",
       "    </tr>\n",
       "  </tbody>\n",
       "</table>\n",
       "</div>"
      ],
      "text/plain": [
       "    datadate      key  fiscal_quarter  fiscal_year  total_assets  \\\n",
       "0 2006-03-31  25751.0               1         2006      3105.000   \n",
       "1 2006-06-30  25751.0               2         2006      3532.000   \n",
       "2 2006-09-30  25751.0               3         2006      3521.000   \n",
       "3 2006-12-31  25751.0               4         2006      3978.337   \n",
       "4 2007-03-31  25751.0               1         2007      4274.000   \n",
       "\n",
       "   total_liabilities          isin                  company_name  \\\n",
       "0           2518.000  PAP169941328  BANCO LATINOAMERICANO DE COM   \n",
       "1           2974.000  PAP169941328  BANCO LATINOAMERICANO DE COM   \n",
       "2           2956.000  PAP169941328  BANCO LATINOAMERICANO DE COM   \n",
       "3           3394.442  PAP169941328  BANCO LATINOAMERICANO DE COM   \n",
       "4           3684.000  PAP169941328  BANCO LATINOAMERICANO DE COM   \n",
       "\n",
       "   gic_industries iso_country_code  \n",
       "0        402010.0              PAN  \n",
       "1        402010.0              PAN  \n",
       "2        402010.0              PAN  \n",
       "3        402010.0              PAN  \n",
       "4        402010.0              PAN  "
      ]
     },
     "execution_count": 30,
     "metadata": {},
     "output_type": "execute_result"
    }
   ],
   "source": [
    "balance_sheet_adjusted.head()"
   ]
  },
  {
   "cell_type": "code",
   "execution_count": 31,
   "id": "2aba5147",
   "metadata": {},
   "outputs": [
    {
     "data": {
      "text/plain": [
       "datadate               0\n",
       "key                    0\n",
       "fiscal_quarter         0\n",
       "fiscal_year            0\n",
       "total_assets         239\n",
       "total_liabilities    239\n",
       "isin                   0\n",
       "company_name           0\n",
       "gic_industries         0\n",
       "iso_country_code       0\n",
       "dtype: int64"
      ]
     },
     "execution_count": 31,
     "metadata": {},
     "output_type": "execute_result"
    }
   ],
   "source": [
    "np.sum(balance_sheet_adjusted.isnull(), axis = 0)"
   ]
  },
  {
   "cell_type": "code",
   "execution_count": 32,
   "id": "28e560e9",
   "metadata": {},
   "outputs": [
    {
     "data": {
      "text/plain": [
       "datadate\n",
       "2023-12-31    81\n",
       "2006-03-31    18\n",
       "2006-06-30    16\n",
       "2006-09-30    13\n",
       "2023-09-30    13\n",
       "2008-03-31    10\n",
       "2007-03-31     9\n",
       "2007-06-30     8\n",
       "2007-09-30     7\n",
       "2008-06-30     7\n",
       "2008-09-30     7\n",
       "2009-03-31     5\n",
       "2010-06-30     4\n",
       "2010-09-30     4\n",
       "2009-09-30     4\n",
       "2006-12-31     3\n",
       "2010-03-31     3\n",
       "2009-06-30     3\n",
       "2011-09-30     3\n",
       "2012-03-31     2\n",
       "2011-06-30     2\n",
       "2011-03-31     2\n",
       "2008-12-31     1\n",
       "2012-06-30     1\n",
       "2012-09-30     1\n",
       "2013-03-31     1\n",
       "2013-06-30     1\n",
       "2014-03-31     1\n",
       "2014-06-30     1\n",
       "2017-06-30     1\n",
       "2018-09-30     1\n",
       "2020-03-31     1\n",
       "2020-09-30     1\n",
       "2021-09-30     1\n",
       "2023-03-31     1\n",
       "2023-06-30     1\n",
       "2007-12-31     1\n",
       "dtype: int64"
      ]
     },
     "execution_count": 32,
     "metadata": {},
     "output_type": "execute_result"
    }
   ],
   "source": [
    "null_rows = balance_sheet_adjusted[balance_sheet_adjusted['total_assets'].isnull()]\n",
    "null_rows[['datadate','total_assets', 'total_liabilities']].groupby(['datadate']).size().sort_values(ascending = False)"
   ]
  },
  {
   "cell_type": "code",
   "execution_count": 33,
   "id": "e123b43e",
   "metadata": {},
   "outputs": [
    {
     "data": {
      "text/plain": [
       "isin\n",
       "COT13PA00086    16\n",
       "CL0002209568    15\n",
       "BRCSANACNOR6    13\n",
       "MX01GI020004    12\n",
       "CL0000006586    10\n",
       "                ..\n",
       "CL0002694637     1\n",
       "CL0002841873     1\n",
       "CLP249051044     1\n",
       "CLP256251073     1\n",
       "PAP169941328     1\n",
       "Length: 87, dtype: int64"
      ]
     },
     "execution_count": 33,
     "metadata": {},
     "output_type": "execute_result"
    }
   ],
   "source": [
    "null_rows[['isin','total_assets', 'total_liabilities']].groupby(['isin']).size().sort_values(ascending = False)"
   ]
  },
  {
   "cell_type": "markdown",
   "id": "c59f88ba",
   "metadata": {},
   "source": [
    "# After noticing that there are only 69 available:"
   ]
  },
  {
   "cell_type": "code",
   "execution_count": 34,
   "id": "af48eb4c",
   "metadata": {},
   "outputs": [],
   "source": [
    "isin_list = ['CL0002694637', 'CL0000000035', 'MXP000511016', 'BRABEVACNOR1', 'MX01AM050019', 'BRAMERACNOR6', 'MX01AX040009', 'COB01PA00030', 'BRBBASACNOR3', 'BRBNBRACNOR8', 'PAP169941328', 'BRSANBACNPR5', 'CLP1506A1070', 'BRBRKMACNPA4', 'BRBRFSACNOR8', 'CLP256251073', 'MXP225611567', 'CLP3615W1037', 'BRCEEBACNOR3', 'BRSBSPACNOR5', 'BRCMIGACNPR3', 'BRCSRNACNOR0', 'BRCSNAACNOR6', 'CLP249051044', 'BRCSANACNOR6', 'BMG2519Y1084', 'MXP339881098', 'MXP369181377', 'CLP3697S1034', 'BREMBRACNOR4', 'CLP371151059', 'CL0000001314', 'CLP7847L1080', 'CLP371861061', 'CLP3710M1090', 'CL0001583070', 'CLP3880F1085', 'MXP320321310', 'MX01GC2M0006', 'BRGGBRACNPR8', 'BRGOLLACNPR4', 'MXP4948K1056', 'MXP495211262', 'COT13PA00086', 'MX01KU000012', 'MXP370841019', 'MXP791641105', 'MXP4987V1378', 'MX01ID000009', 'MXP554091415', 'BRMYPKACNOR7', 'MXP606941179', 'CL0000000423', 'BRRENTACNOR4', 'CLP969051075', 'CLP6877L1036', 'BROIBRACNPR8', 'MX01OR010004', 'ARP432631215', 'BRPETRACNPR6', 'CL0002455229', 'BRSUZBACNOR0', 'ARP9028N1016', 'ARP9308R1039', 'BRTUPYACNOR1', 'BRUGPAACNOR8', 'BRUSIMACNPA6', 'BRVALEACNOR0', 'ARP9897X1319']"
   ]
  },
  {
   "cell_type": "code",
   "execution_count": 35,
   "id": "7afcd5b1",
   "metadata": {},
   "outputs": [],
   "source": [
    "balance_sheet_adjusted = balance_sheet_adjusted[balance_sheet_adjusted['isin'].isin(isin_list)]"
   ]
  },
  {
   "cell_type": "code",
   "execution_count": 36,
   "id": "df141b6e",
   "metadata": {
    "scrolled": true
   },
   "outputs": [
    {
     "data": {
      "text/plain": [
       "(4968, 10)"
      ]
     },
     "execution_count": 36,
     "metadata": {},
     "output_type": "execute_result"
    }
   ],
   "source": [
    "balance_sheet_adjusted.shape"
   ]
  },
  {
   "cell_type": "code",
   "execution_count": 37,
   "id": "ee2ac644",
   "metadata": {},
   "outputs": [
    {
     "data": {
      "text/plain": [
       "datadate               0\n",
       "key                    0\n",
       "fiscal_quarter         0\n",
       "fiscal_year            0\n",
       "total_assets         119\n",
       "total_liabilities    119\n",
       "isin                   0\n",
       "company_name           0\n",
       "gic_industries         0\n",
       "iso_country_code       0\n",
       "dtype: int64"
      ]
     },
     "execution_count": 37,
     "metadata": {},
     "output_type": "execute_result"
    }
   ],
   "source": [
    "np.sum(balance_sheet_adjusted.isnull(), axis = 0)"
   ]
  },
  {
   "cell_type": "markdown",
   "id": "a2caba4a",
   "metadata": {},
   "source": [
    "# Linear interpolation"
   ]
  },
  {
   "cell_type": "code",
   "execution_count": 38,
   "id": "db5c5c44",
   "metadata": {},
   "outputs": [],
   "source": [
    "interpolated_balance_sheet = balance_sheet_adjusted"
   ]
  },
  {
   "cell_type": "code",
   "execution_count": 39,
   "id": "dd60357e",
   "metadata": {},
   "outputs": [],
   "source": [
    "interpolated_balance_sheet['total_assets'] = balance_sheet_adjusted['total_assets'].interpolate(method='linear')\n",
    "interpolated_balance_sheet['total_liabilities'] = balance_sheet_adjusted['total_liabilities'].interpolate(method='linear')"
   ]
  },
  {
   "cell_type": "code",
   "execution_count": 40,
   "id": "3d9d741e",
   "metadata": {
    "scrolled": true
   },
   "outputs": [
    {
     "data": {
      "text/html": [
       "<div>\n",
       "<style scoped>\n",
       "    .dataframe tbody tr th:only-of-type {\n",
       "        vertical-align: middle;\n",
       "    }\n",
       "\n",
       "    .dataframe tbody tr th {\n",
       "        vertical-align: top;\n",
       "    }\n",
       "\n",
       "    .dataframe thead th {\n",
       "        text-align: right;\n",
       "    }\n",
       "</style>\n",
       "<table border=\"1\" class=\"dataframe\">\n",
       "  <thead>\n",
       "    <tr style=\"text-align: right;\">\n",
       "      <th></th>\n",
       "      <th>datadate</th>\n",
       "      <th>key</th>\n",
       "      <th>fiscal_quarter</th>\n",
       "      <th>fiscal_year</th>\n",
       "      <th>total_assets</th>\n",
       "      <th>total_liabilities</th>\n",
       "      <th>isin</th>\n",
       "      <th>company_name</th>\n",
       "      <th>gic_industries</th>\n",
       "      <th>iso_country_code</th>\n",
       "    </tr>\n",
       "  </thead>\n",
       "  <tbody>\n",
       "    <tr>\n",
       "      <th>0</th>\n",
       "      <td>2006-03-31</td>\n",
       "      <td>25751.0</td>\n",
       "      <td>1</td>\n",
       "      <td>2006</td>\n",
       "      <td>3105.000</td>\n",
       "      <td>2518.000</td>\n",
       "      <td>PAP169941328</td>\n",
       "      <td>BANCO LATINOAMERICANO DE COM</td>\n",
       "      <td>402010.0</td>\n",
       "      <td>PAN</td>\n",
       "    </tr>\n",
       "    <tr>\n",
       "      <th>1</th>\n",
       "      <td>2006-06-30</td>\n",
       "      <td>25751.0</td>\n",
       "      <td>2</td>\n",
       "      <td>2006</td>\n",
       "      <td>3532.000</td>\n",
       "      <td>2974.000</td>\n",
       "      <td>PAP169941328</td>\n",
       "      <td>BANCO LATINOAMERICANO DE COM</td>\n",
       "      <td>402010.0</td>\n",
       "      <td>PAN</td>\n",
       "    </tr>\n",
       "    <tr>\n",
       "      <th>2</th>\n",
       "      <td>2006-09-30</td>\n",
       "      <td>25751.0</td>\n",
       "      <td>3</td>\n",
       "      <td>2006</td>\n",
       "      <td>3521.000</td>\n",
       "      <td>2956.000</td>\n",
       "      <td>PAP169941328</td>\n",
       "      <td>BANCO LATINOAMERICANO DE COM</td>\n",
       "      <td>402010.0</td>\n",
       "      <td>PAN</td>\n",
       "    </tr>\n",
       "    <tr>\n",
       "      <th>3</th>\n",
       "      <td>2006-12-31</td>\n",
       "      <td>25751.0</td>\n",
       "      <td>4</td>\n",
       "      <td>2006</td>\n",
       "      <td>3978.337</td>\n",
       "      <td>3394.442</td>\n",
       "      <td>PAP169941328</td>\n",
       "      <td>BANCO LATINOAMERICANO DE COM</td>\n",
       "      <td>402010.0</td>\n",
       "      <td>PAN</td>\n",
       "    </tr>\n",
       "    <tr>\n",
       "      <th>4</th>\n",
       "      <td>2007-03-31</td>\n",
       "      <td>25751.0</td>\n",
       "      <td>1</td>\n",
       "      <td>2007</td>\n",
       "      <td>4274.000</td>\n",
       "      <td>3684.000</td>\n",
       "      <td>PAP169941328</td>\n",
       "      <td>BANCO LATINOAMERICANO DE COM</td>\n",
       "      <td>402010.0</td>\n",
       "      <td>PAN</td>\n",
       "    </tr>\n",
       "  </tbody>\n",
       "</table>\n",
       "</div>"
      ],
      "text/plain": [
       "    datadate      key  fiscal_quarter  fiscal_year  total_assets  \\\n",
       "0 2006-03-31  25751.0               1         2006      3105.000   \n",
       "1 2006-06-30  25751.0               2         2006      3532.000   \n",
       "2 2006-09-30  25751.0               3         2006      3521.000   \n",
       "3 2006-12-31  25751.0               4         2006      3978.337   \n",
       "4 2007-03-31  25751.0               1         2007      4274.000   \n",
       "\n",
       "   total_liabilities          isin                  company_name  \\\n",
       "0           2518.000  PAP169941328  BANCO LATINOAMERICANO DE COM   \n",
       "1           2974.000  PAP169941328  BANCO LATINOAMERICANO DE COM   \n",
       "2           2956.000  PAP169941328  BANCO LATINOAMERICANO DE COM   \n",
       "3           3394.442  PAP169941328  BANCO LATINOAMERICANO DE COM   \n",
       "4           3684.000  PAP169941328  BANCO LATINOAMERICANO DE COM   \n",
       "\n",
       "   gic_industries iso_country_code  \n",
       "0        402010.0              PAN  \n",
       "1        402010.0              PAN  \n",
       "2        402010.0              PAN  \n",
       "3        402010.0              PAN  \n",
       "4        402010.0              PAN  "
      ]
     },
     "execution_count": 40,
     "metadata": {},
     "output_type": "execute_result"
    }
   ],
   "source": [
    "interpolated_balance_sheet.head()"
   ]
  },
  {
   "cell_type": "code",
   "execution_count": 42,
   "id": "ae29a1ba",
   "metadata": {},
   "outputs": [
    {
     "data": {
      "text/plain": [
       "datadate             0\n",
       "key                  0\n",
       "fiscal_quarter       0\n",
       "fiscal_year          0\n",
       "total_assets         0\n",
       "total_liabilities    0\n",
       "isin                 0\n",
       "company_name         0\n",
       "gic_industries       0\n",
       "iso_country_code     0\n",
       "dtype: int64"
      ]
     },
     "execution_count": 42,
     "metadata": {},
     "output_type": "execute_result"
    }
   ],
   "source": [
    "np.sum(interpolated_balance_sheet.isnull(), axis = 0)"
   ]
  },
  {
   "cell_type": "markdown",
   "id": "87483992",
   "metadata": {},
   "source": [
    "# Export the interpolated balance sheet"
   ]
  },
  {
   "cell_type": "code",
   "execution_count": 43,
   "id": "ddd1fb97",
   "metadata": {},
   "outputs": [],
   "source": [
    "#interpolated_balance_sheet.to_csv('interpolated balance sheet.csv', index=False)"
   ]
  }
 ],
 "metadata": {
  "kernelspec": {
   "display_name": "Python 3 (ipykernel)",
   "language": "python",
   "name": "python3"
  },
  "language_info": {
   "codemirror_mode": {
    "name": "ipython",
    "version": 3
   },
   "file_extension": ".py",
   "mimetype": "text/x-python",
   "name": "python",
   "nbconvert_exporter": "python",
   "pygments_lexer": "ipython3",
   "version": "3.9.16"
  }
 },
 "nbformat": 4,
 "nbformat_minor": 5
}
