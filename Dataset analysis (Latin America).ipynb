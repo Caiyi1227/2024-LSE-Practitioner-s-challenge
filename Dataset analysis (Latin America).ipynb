{
 "cells": [
  {
   "cell_type": "code",
   "execution_count": 1,
   "id": "08dbce1c",
   "metadata": {},
   "outputs": [
    {
     "name": "stderr",
     "output_type": "stream",
     "text": [
      "C:\\Users\\thinkpad\\anaconda3\\envs\\r-tutorial\\lib\\site-packages\\yfinance\\base.py:48: FutureWarning: The default dtype for empty Series will be 'object' instead of 'float64' in a future version. Specify a dtype explicitly to silence this warning.\n",
      "  _empty_series = pd.Series()\n"
     ]
    }
   ],
   "source": [
    "import pandas as pd\n",
    "import numpy as np\n",
    "import yfinance as yf\n",
    "import matplotlib.pyplot as plt"
   ]
  },
  {
   "cell_type": "markdown",
   "id": "f4abd484",
   "metadata": {},
   "source": [
    "# Explore global dataset"
   ]
  },
  {
   "cell_type": "code",
   "execution_count": 2,
   "id": "d7999d9b",
   "metadata": {},
   "outputs": [],
   "source": [
    "df = pd.read_excel('S&P Global rated companies.xlsx')"
   ]
  },
  {
   "cell_type": "code",
   "execution_count": 3,
   "id": "84e88125",
   "metadata": {},
   "outputs": [
    {
     "data": {
      "text/html": [
       "<div>\n",
       "<style scoped>\n",
       "    .dataframe tbody tr th:only-of-type {\n",
       "        vertical-align: middle;\n",
       "    }\n",
       "\n",
       "    .dataframe tbody tr th {\n",
       "        vertical-align: top;\n",
       "    }\n",
       "\n",
       "    .dataframe thead th {\n",
       "        text-align: right;\n",
       "    }\n",
       "</style>\n",
       "<table border=\"1\" class=\"dataframe\">\n",
       "  <thead>\n",
       "    <tr style=\"text-align: right;\">\n",
       "      <th></th>\n",
       "      <th>SP_ENTITY_NAME</th>\n",
       "      <th>SP_ENTITY_ID</th>\n",
       "      <th>RD_CREDIT_RATING_GLOBAL</th>\n",
       "      <th>RD_CREDIT_RATING_GLOBAL.1</th>\n",
       "      <th>SP_TICKER</th>\n",
       "      <th>SP_EXCHANGE</th>\n",
       "      <th>SP_ISIN</th>\n",
       "      <th>SP_GEOGRAPHY</th>\n",
       "      <th>SP_COUNTRY_NAME</th>\n",
       "      <th>SP_COUNTRY_CODE</th>\n",
       "      <th>IQ_INDUSTRY_GROUP</th>\n",
       "    </tr>\n",
       "  </thead>\n",
       "  <tbody>\n",
       "    <tr>\n",
       "      <th>0</th>\n",
       "      <td>\"TEMIRYO'L-SUG'URTA\" LLC</td>\n",
       "      <td>20023199</td>\n",
       "      <td>NaN</td>\n",
       "      <td>B+</td>\n",
       "      <td>NaN</td>\n",
       "      <td>NaN</td>\n",
       "      <td>NaN</td>\n",
       "      <td>Europe</td>\n",
       "      <td>Uzbekistan</td>\n",
       "      <td>UZ</td>\n",
       "      <td>Insurance</td>\n",
       "    </tr>\n",
       "    <tr>\n",
       "      <th>1</th>\n",
       "      <td>\"TransteleCom\" JSC</td>\n",
       "      <td>7661998</td>\n",
       "      <td>B</td>\n",
       "      <td>B</td>\n",
       "      <td>NaN</td>\n",
       "      <td>NaN</td>\n",
       "      <td>NaN</td>\n",
       "      <td>Europe</td>\n",
       "      <td>Kazakhstan</td>\n",
       "      <td>KZ</td>\n",
       "      <td>Telecommunication Services</td>\n",
       "    </tr>\n",
       "    <tr>\n",
       "      <th>2</th>\n",
       "      <td>1011778 B.C. Unlimited Liability Company</td>\n",
       "      <td>6561202</td>\n",
       "      <td>BB</td>\n",
       "      <td>BB</td>\n",
       "      <td>NaN</td>\n",
       "      <td>NaN</td>\n",
       "      <td>NaN</td>\n",
       "      <td>United States and Canada</td>\n",
       "      <td>Canada</td>\n",
       "      <td>CA</td>\n",
       "      <td>Consumer Services</td>\n",
       "    </tr>\n",
       "    <tr>\n",
       "      <th>3</th>\n",
       "      <td>21st Century Casualty Company</td>\n",
       "      <td>16700</td>\n",
       "      <td>NaN</td>\n",
       "      <td>A</td>\n",
       "      <td>NaN</td>\n",
       "      <td>NaN</td>\n",
       "      <td>NaN</td>\n",
       "      <td>United States and Canada</td>\n",
       "      <td>USA</td>\n",
       "      <td>US</td>\n",
       "      <td>Insurance</td>\n",
       "    </tr>\n",
       "    <tr>\n",
       "      <th>4</th>\n",
       "      <td>21st Century Centennial Insurance Company</td>\n",
       "      <td>12057</td>\n",
       "      <td>NaN</td>\n",
       "      <td>A</td>\n",
       "      <td>NaN</td>\n",
       "      <td>NaN</td>\n",
       "      <td>NaN</td>\n",
       "      <td>United States and Canada</td>\n",
       "      <td>USA</td>\n",
       "      <td>US</td>\n",
       "      <td>Insurance</td>\n",
       "    </tr>\n",
       "  </tbody>\n",
       "</table>\n",
       "</div>"
      ],
      "text/plain": [
       "                              SP_ENTITY_NAME  SP_ENTITY_ID  \\\n",
       "0                   \"TEMIRYO'L-SUG'URTA\" LLC      20023199   \n",
       "1                         \"TransteleCom\" JSC       7661998   \n",
       "2   1011778 B.C. Unlimited Liability Company       6561202   \n",
       "3              21st Century Casualty Company         16700   \n",
       "4  21st Century Centennial Insurance Company         12057   \n",
       "\n",
       "  RD_CREDIT_RATING_GLOBAL RD_CREDIT_RATING_GLOBAL.1 SP_TICKER SP_EXCHANGE  \\\n",
       "0                     NaN                        B+       NaN         NaN   \n",
       "1                       B                         B       NaN         NaN   \n",
       "2                      BB                        BB       NaN         NaN   \n",
       "3                     NaN                         A       NaN         NaN   \n",
       "4                     NaN                         A       NaN         NaN   \n",
       "\n",
       "  SP_ISIN              SP_GEOGRAPHY SP_COUNTRY_NAME SP_COUNTRY_CODE  \\\n",
       "0     NaN                    Europe      Uzbekistan              UZ   \n",
       "1     NaN                    Europe      Kazakhstan              KZ   \n",
       "2     NaN  United States and Canada          Canada              CA   \n",
       "3     NaN  United States and Canada             USA              US   \n",
       "4     NaN  United States and Canada             USA              US   \n",
       "\n",
       "            IQ_INDUSTRY_GROUP  \n",
       "0                   Insurance  \n",
       "1  Telecommunication Services  \n",
       "2           Consumer Services  \n",
       "3                   Insurance  \n",
       "4                   Insurance  "
      ]
     },
     "execution_count": 3,
     "metadata": {},
     "output_type": "execute_result"
    }
   ],
   "source": [
    "df.head()"
   ]
  },
  {
   "cell_type": "code",
   "execution_count": 4,
   "id": "41edfe63",
   "metadata": {},
   "outputs": [
    {
     "data": {
      "text/plain": [
       "Index(['SP_ENTITY_NAME', 'SP_ENTITY_ID', 'RD_CREDIT_RATING_GLOBAL',\n",
       "       'RD_CREDIT_RATING_GLOBAL.1', 'SP_TICKER', 'SP_EXCHANGE', 'SP_ISIN',\n",
       "       'SP_GEOGRAPHY', 'SP_COUNTRY_NAME', 'SP_COUNTRY_CODE',\n",
       "       'IQ_INDUSTRY_GROUP'],\n",
       "      dtype='object')"
      ]
     },
     "execution_count": 4,
     "metadata": {},
     "output_type": "execute_result"
    }
   ],
   "source": [
    "df.columns"
   ]
  },
  {
   "cell_type": "code",
   "execution_count": 5,
   "id": "024efe89",
   "metadata": {
    "scrolled": true
   },
   "outputs": [
    {
     "data": {
      "text/plain": [
       "(8957, 11)"
      ]
     },
     "execution_count": 5,
     "metadata": {},
     "output_type": "execute_result"
    }
   ],
   "source": [
    "df.shape"
   ]
  },
  {
   "cell_type": "markdown",
   "id": "670a1378",
   "metadata": {},
   "source": [
    "# Explore global listed dataset"
   ]
  },
  {
   "cell_type": "code",
   "execution_count": 6,
   "id": "572338d0",
   "metadata": {},
   "outputs": [
    {
     "data": {
      "text/html": [
       "<div>\n",
       "<style scoped>\n",
       "    .dataframe tbody tr th:only-of-type {\n",
       "        vertical-align: middle;\n",
       "    }\n",
       "\n",
       "    .dataframe tbody tr th {\n",
       "        vertical-align: top;\n",
       "    }\n",
       "\n",
       "    .dataframe thead th {\n",
       "        text-align: right;\n",
       "    }\n",
       "</style>\n",
       "<table border=\"1\" class=\"dataframe\">\n",
       "  <thead>\n",
       "    <tr style=\"text-align: right;\">\n",
       "      <th></th>\n",
       "      <th>SP_ENTITY_NAME</th>\n",
       "      <th>SP_ENTITY_ID</th>\n",
       "      <th>RD_CREDIT_RATING_GLOBAL</th>\n",
       "      <th>RD_CREDIT_RATING_GLOBAL.1</th>\n",
       "      <th>SP_TICKER</th>\n",
       "      <th>SP_EXCHANGE</th>\n",
       "      <th>SP_ISIN</th>\n",
       "      <th>SP_GEOGRAPHY</th>\n",
       "      <th>SP_COUNTRY_NAME</th>\n",
       "      <th>SP_COUNTRY_CODE</th>\n",
       "      <th>IQ_INDUSTRY_GROUP</th>\n",
       "    </tr>\n",
       "  </thead>\n",
       "  <tbody>\n",
       "    <tr>\n",
       "      <th>13</th>\n",
       "      <td>3i Group plc (LSE:III)</td>\n",
       "      <td>4147418</td>\n",
       "      <td>BBB+</td>\n",
       "      <td>BBB+</td>\n",
       "      <td>III</td>\n",
       "      <td>LSE</td>\n",
       "      <td>GB00B1YW4409</td>\n",
       "      <td>Europe</td>\n",
       "      <td>United Kingdom</td>\n",
       "      <td>GB</td>\n",
       "      <td>Financial Services</td>\n",
       "    </tr>\n",
       "    <tr>\n",
       "      <th>14</th>\n",
       "      <td>3M Company (NYSE:MMM)</td>\n",
       "      <td>105135</td>\n",
       "      <td>BBB+</td>\n",
       "      <td>BBB+</td>\n",
       "      <td>MMM</td>\n",
       "      <td>NYSE</td>\n",
       "      <td>US88579Y1010</td>\n",
       "      <td>United States and Canada</td>\n",
       "      <td>USA</td>\n",
       "      <td>US</td>\n",
       "      <td>Capital Goods</td>\n",
       "    </tr>\n",
       "    <tr>\n",
       "      <th>15</th>\n",
       "      <td>3R Petroleum Óleo e Gás S.A. (BOVESPA:RRRP3)</td>\n",
       "      <td>7163456</td>\n",
       "      <td>B+</td>\n",
       "      <td>B+</td>\n",
       "      <td>RRRP3</td>\n",
       "      <td>BOVESPA</td>\n",
       "      <td>BRRRRPACNOR5</td>\n",
       "      <td>Latin America and Caribbean</td>\n",
       "      <td>Brazil</td>\n",
       "      <td>BR</td>\n",
       "      <td>Energy</td>\n",
       "    </tr>\n",
       "    <tr>\n",
       "      <th>20</th>\n",
       "      <td>888 Holdings plc (LSE:888)</td>\n",
       "      <td>4988507</td>\n",
       "      <td>B</td>\n",
       "      <td>B</td>\n",
       "      <td>888</td>\n",
       "      <td>LSE</td>\n",
       "      <td>GI000A0F6407</td>\n",
       "      <td>Europe</td>\n",
       "      <td>Gibraltar</td>\n",
       "      <td>GI</td>\n",
       "      <td>Consumer Services</td>\n",
       "    </tr>\n",
       "    <tr>\n",
       "      <th>24</th>\n",
       "      <td>A.P. Møller - Mærsk A/S (CPSE:MAERSK B)</td>\n",
       "      <td>4232116</td>\n",
       "      <td>BBB+</td>\n",
       "      <td>BBB+</td>\n",
       "      <td>MAERSK B</td>\n",
       "      <td>CPSE</td>\n",
       "      <td>DK0010244508</td>\n",
       "      <td>Europe</td>\n",
       "      <td>Denmark</td>\n",
       "      <td>DK</td>\n",
       "      <td>Transportation</td>\n",
       "    </tr>\n",
       "  </tbody>\n",
       "</table>\n",
       "</div>"
      ],
      "text/plain": [
       "                                  SP_ENTITY_NAME  SP_ENTITY_ID  \\\n",
       "13                        3i Group plc (LSE:III)       4147418   \n",
       "14                         3M Company (NYSE:MMM)        105135   \n",
       "15  3R Petroleum Óleo e Gás S.A. (BOVESPA:RRRP3)       7163456   \n",
       "20                    888 Holdings plc (LSE:888)       4988507   \n",
       "24       A.P. Møller - Mærsk A/S (CPSE:MAERSK B)       4232116   \n",
       "\n",
       "   RD_CREDIT_RATING_GLOBAL RD_CREDIT_RATING_GLOBAL.1 SP_TICKER SP_EXCHANGE  \\\n",
       "13                    BBB+                      BBB+       III         LSE   \n",
       "14                    BBB+                      BBB+       MMM        NYSE   \n",
       "15                      B+                        B+     RRRP3     BOVESPA   \n",
       "20                       B                         B       888         LSE   \n",
       "24                    BBB+                      BBB+  MAERSK B        CPSE   \n",
       "\n",
       "         SP_ISIN                 SP_GEOGRAPHY SP_COUNTRY_NAME SP_COUNTRY_CODE  \\\n",
       "13  GB00B1YW4409                       Europe  United Kingdom              GB   \n",
       "14  US88579Y1010     United States and Canada             USA              US   \n",
       "15  BRRRRPACNOR5  Latin America and Caribbean          Brazil              BR   \n",
       "20  GI000A0F6407                       Europe       Gibraltar              GI   \n",
       "24  DK0010244508                       Europe         Denmark              DK   \n",
       "\n",
       "     IQ_INDUSTRY_GROUP  \n",
       "13  Financial Services  \n",
       "14       Capital Goods  \n",
       "15              Energy  \n",
       "20   Consumer Services  \n",
       "24      Transportation  "
      ]
     },
     "execution_count": 6,
     "metadata": {},
     "output_type": "execute_result"
    }
   ],
   "source": [
    "listed_df = df[df['SP_TICKER'].notnull()]\n",
    "listed_df.head()"
   ]
  },
  {
   "cell_type": "code",
   "execution_count": 7,
   "id": "5d28b98b",
   "metadata": {},
   "outputs": [
    {
     "data": {
      "text/plain": [
       "(2522, 11)"
      ]
     },
     "execution_count": 7,
     "metadata": {},
     "output_type": "execute_result"
    }
   ],
   "source": [
    "listed_df.shape"
   ]
  },
  {
   "cell_type": "code",
   "execution_count": 8,
   "id": "388a6456",
   "metadata": {},
   "outputs": [
    {
     "data": {
      "text/plain": [
       "array(['LSE', 'NYSE', 'BOVESPA', 'CPSE', 'BIT', 'OM', 'NSEL', 'SWX',\n",
       "       'ENXTAM', 'ADX', 'NASDAQGS', 'ENXTPA', 'BME', 'NSEI', 'NASDAQCM',\n",
       "       'OB', 'XTRA', 'SET', 'ENXTBR', 'TSE', 'SNSE', 'SEHK', 'ISE', 'TSX',\n",
       "       'HLSE', 'DSM', 'SASE', 'KWSE', 'BMV', 'WSE', 'ATSE', 'ASX', 'IBSE',\n",
       "       'NASDAQGM', 'BAX', 'BVMT', 'ICSE', 'CBSE', 'NZSE', 'KLSE', 'BSE',\n",
       "       'BVL', 'ENXTLS', 'BVC', 'BASE', 'TASE', 'MSM', 'CSE', 'PSE',\n",
       "       'MTSE', 'SHSE', 'SZSE', 'DSE', 'AIM', 'OTCPK', 'SGX', 'TWSE',\n",
       "       'BATS', 'PSGM', 'SEP', 'CASE', 'KOSE', 'BVB', 'OTCQB', 'NGSE',\n",
       "       'DFM', 'OTCEM', 'WBAG', 'TTSE', 'JSE', 'KAS', 'DB', 'NYSEAM',\n",
       "       'HMSE', 'HOSE', 'ASE', 'BUSE', 'LJSE', 'IDX', 'OTCQX', 'TPEX'],\n",
       "      dtype=object)"
      ]
     },
     "execution_count": 8,
     "metadata": {},
     "output_type": "execute_result"
    }
   ],
   "source": [
    "listed_df['SP_EXCHANGE'].unique()"
   ]
  },
  {
   "cell_type": "markdown",
   "id": "af3bbe08",
   "metadata": {},
   "source": [
    "# Explore global listed US&Canada dataset"
   ]
  },
  {
   "cell_type": "code",
   "execution_count": 9,
   "id": "cfbd7056",
   "metadata": {},
   "outputs": [
    {
     "data": {
      "text/plain": [
       "array(['Europe', 'United States and Canada',\n",
       "       'Latin America and Caribbean', 'Middle East', 'Asia-Pacific',\n",
       "       'Africa'], dtype=object)"
      ]
     },
     "execution_count": 9,
     "metadata": {},
     "output_type": "execute_result"
    }
   ],
   "source": [
    "listed_df['SP_GEOGRAPHY'].unique()"
   ]
  },
  {
   "cell_type": "code",
   "execution_count": 10,
   "id": "57573a0e",
   "metadata": {},
   "outputs": [
    {
     "data": {
      "text/html": [
       "<div>\n",
       "<style scoped>\n",
       "    .dataframe tbody tr th:only-of-type {\n",
       "        vertical-align: middle;\n",
       "    }\n",
       "\n",
       "    .dataframe tbody tr th {\n",
       "        vertical-align: top;\n",
       "    }\n",
       "\n",
       "    .dataframe thead th {\n",
       "        text-align: right;\n",
       "    }\n",
       "</style>\n",
       "<table border=\"1\" class=\"dataframe\">\n",
       "  <thead>\n",
       "    <tr style=\"text-align: right;\">\n",
       "      <th></th>\n",
       "      <th>SP_ENTITY_NAME</th>\n",
       "      <th>SP_ENTITY_ID</th>\n",
       "      <th>RD_CREDIT_RATING_GLOBAL</th>\n",
       "      <th>RD_CREDIT_RATING_GLOBAL.1</th>\n",
       "      <th>SP_TICKER</th>\n",
       "      <th>SP_EXCHANGE</th>\n",
       "      <th>SP_ISIN</th>\n",
       "      <th>SP_GEOGRAPHY</th>\n",
       "      <th>SP_COUNTRY_NAME</th>\n",
       "      <th>SP_COUNTRY_CODE</th>\n",
       "      <th>IQ_INDUSTRY_GROUP</th>\n",
       "    </tr>\n",
       "  </thead>\n",
       "  <tbody>\n",
       "    <tr>\n",
       "      <th>0</th>\n",
       "      <td>3M Company (NYSE:MMM)</td>\n",
       "      <td>105135</td>\n",
       "      <td>BBB+</td>\n",
       "      <td>BBB+</td>\n",
       "      <td>MMM</td>\n",
       "      <td>NYSE</td>\n",
       "      <td>US88579Y1010</td>\n",
       "      <td>United States and Canada</td>\n",
       "      <td>USA</td>\n",
       "      <td>US</td>\n",
       "      <td>Capital Goods</td>\n",
       "    </tr>\n",
       "    <tr>\n",
       "      <th>1</th>\n",
       "      <td>AAR Corp. (NYSE:AIR)</td>\n",
       "      <td>4157610</td>\n",
       "      <td>BB+</td>\n",
       "      <td>BB+</td>\n",
       "      <td>AIR</td>\n",
       "      <td>NYSE</td>\n",
       "      <td>US0003611052</td>\n",
       "      <td>United States and Canada</td>\n",
       "      <td>USA</td>\n",
       "      <td>US</td>\n",
       "      <td>Capital Goods</td>\n",
       "    </tr>\n",
       "    <tr>\n",
       "      <th>2</th>\n",
       "      <td>Abbott Laboratories (NYSE:ABT)</td>\n",
       "      <td>4004092</td>\n",
       "      <td>AA-</td>\n",
       "      <td>AA-</td>\n",
       "      <td>ABT</td>\n",
       "      <td>NYSE</td>\n",
       "      <td>US0028241000</td>\n",
       "      <td>United States and Canada</td>\n",
       "      <td>USA</td>\n",
       "      <td>US</td>\n",
       "      <td>Health Care Equipment and Services</td>\n",
       "    </tr>\n",
       "    <tr>\n",
       "      <th>3</th>\n",
       "      <td>AbbVie Inc. (NYSE:ABBV)</td>\n",
       "      <td>4558282</td>\n",
       "      <td>A-</td>\n",
       "      <td>A-</td>\n",
       "      <td>ABBV</td>\n",
       "      <td>NYSE</td>\n",
       "      <td>US00287Y1091</td>\n",
       "      <td>United States and Canada</td>\n",
       "      <td>USA</td>\n",
       "      <td>US</td>\n",
       "      <td>Pharmaceuticals, Biotechnology and Life Sciences</td>\n",
       "    </tr>\n",
       "    <tr>\n",
       "      <th>4</th>\n",
       "      <td>Abercrombie &amp; Fitch Co. (NYSE:ANF)</td>\n",
       "      <td>4066681</td>\n",
       "      <td>BB-</td>\n",
       "      <td>BB-</td>\n",
       "      <td>ANF</td>\n",
       "      <td>NYSE</td>\n",
       "      <td>US0028962076</td>\n",
       "      <td>United States and Canada</td>\n",
       "      <td>USA</td>\n",
       "      <td>US</td>\n",
       "      <td>Consumer Discretionary Distribution and Retail</td>\n",
       "    </tr>\n",
       "  </tbody>\n",
       "</table>\n",
       "</div>"
      ],
      "text/plain": [
       "                       SP_ENTITY_NAME  SP_ENTITY_ID RD_CREDIT_RATING_GLOBAL  \\\n",
       "0               3M Company (NYSE:MMM)        105135                    BBB+   \n",
       "1                AAR Corp. (NYSE:AIR)       4157610                     BB+   \n",
       "2      Abbott Laboratories (NYSE:ABT)       4004092                     AA-   \n",
       "3             AbbVie Inc. (NYSE:ABBV)       4558282                      A-   \n",
       "4  Abercrombie & Fitch Co. (NYSE:ANF)       4066681                     BB-   \n",
       "\n",
       "  RD_CREDIT_RATING_GLOBAL.1 SP_TICKER SP_EXCHANGE       SP_ISIN  \\\n",
       "0                      BBB+       MMM        NYSE  US88579Y1010   \n",
       "1                       BB+       AIR        NYSE  US0003611052   \n",
       "2                       AA-       ABT        NYSE  US0028241000   \n",
       "3                        A-      ABBV        NYSE  US00287Y1091   \n",
       "4                       BB-       ANF        NYSE  US0028962076   \n",
       "\n",
       "               SP_GEOGRAPHY SP_COUNTRY_NAME SP_COUNTRY_CODE  \\\n",
       "0  United States and Canada             USA              US   \n",
       "1  United States and Canada             USA              US   \n",
       "2  United States and Canada             USA              US   \n",
       "3  United States and Canada             USA              US   \n",
       "4  United States and Canada             USA              US   \n",
       "\n",
       "                                  IQ_INDUSTRY_GROUP  \n",
       "0                                     Capital Goods  \n",
       "1                                     Capital Goods  \n",
       "2                Health Care Equipment and Services  \n",
       "3  Pharmaceuticals, Biotechnology and Life Sciences  \n",
       "4    Consumer Discretionary Distribution and Retail  "
      ]
     },
     "execution_count": 10,
     "metadata": {},
     "output_type": "execute_result"
    }
   ],
   "source": [
    "listed_US_df = listed_df[listed_df['SP_GEOGRAPHY']=='United States and Canada'].reset_index(drop = True)\n",
    "listed_US_df.head()"
   ]
  },
  {
   "cell_type": "code",
   "execution_count": 11,
   "id": "b221e7e5",
   "metadata": {},
   "outputs": [
    {
     "data": {
      "text/plain": [
       "(1300, 11)"
      ]
     },
     "execution_count": 11,
     "metadata": {},
     "output_type": "execute_result"
    }
   ],
   "source": [
    "listed_US_df.shape"
   ]
  },
  {
   "cell_type": "code",
   "execution_count": 12,
   "id": "add6544b",
   "metadata": {},
   "outputs": [
    {
     "data": {
      "text/plain": [
       "117"
      ]
     },
     "execution_count": 12,
     "metadata": {},
     "output_type": "execute_result"
    }
   ],
   "source": [
    "sum(listed_US_df['SP_COUNTRY_NAME'] == 'Canada')"
   ]
  },
  {
   "cell_type": "markdown",
   "id": "813633a4",
   "metadata": {},
   "source": [
    "## Get US tickers"
   ]
  },
  {
   "cell_type": "code",
   "execution_count": 13,
   "id": "a5021002",
   "metadata": {},
   "outputs": [
    {
     "data": {
      "text/plain": [
       "['MMM', 'AIR', 'ABT', 'ABBV', 'ANF', 'ASO', 'ACHC', 'ACCO', 'ACIW', 'AYI']"
      ]
     },
     "execution_count": 13,
     "metadata": {},
     "output_type": "execute_result"
    }
   ],
   "source": [
    "US_tickers_list = list(listed_US_df['SP_TICKER'])\n",
    "US_tickers_list[:10]"
   ]
  },
  {
   "cell_type": "markdown",
   "id": "44633f3f",
   "metadata": {},
   "source": [
    "# Explore global listed Latin America&Carribean dataset"
   ]
  },
  {
   "cell_type": "code",
   "execution_count": 14,
   "id": "e6b340d9",
   "metadata": {},
   "outputs": [
    {
     "data": {
      "text/html": [
       "<div>\n",
       "<style scoped>\n",
       "    .dataframe tbody tr th:only-of-type {\n",
       "        vertical-align: middle;\n",
       "    }\n",
       "\n",
       "    .dataframe tbody tr th {\n",
       "        vertical-align: top;\n",
       "    }\n",
       "\n",
       "    .dataframe thead th {\n",
       "        text-align: right;\n",
       "    }\n",
       "</style>\n",
       "<table border=\"1\" class=\"dataframe\">\n",
       "  <thead>\n",
       "    <tr style=\"text-align: right;\">\n",
       "      <th></th>\n",
       "      <th>SP_ENTITY_NAME</th>\n",
       "      <th>SP_ENTITY_ID</th>\n",
       "      <th>RD_CREDIT_RATING_GLOBAL</th>\n",
       "      <th>RD_CREDIT_RATING_GLOBAL.1</th>\n",
       "      <th>SP_TICKER</th>\n",
       "      <th>SP_EXCHANGE</th>\n",
       "      <th>SP_ISIN</th>\n",
       "      <th>SP_GEOGRAPHY</th>\n",
       "      <th>SP_COUNTRY_NAME</th>\n",
       "      <th>SP_COUNTRY_CODE</th>\n",
       "      <th>IQ_INDUSTRY_GROUP</th>\n",
       "    </tr>\n",
       "  </thead>\n",
       "  <tbody>\n",
       "    <tr>\n",
       "      <th>0</th>\n",
       "      <td>3R Petroleum Óleo e Gás S.A. (BOVESPA:RRRP3)</td>\n",
       "      <td>7163456</td>\n",
       "      <td>B+</td>\n",
       "      <td>B+</td>\n",
       "      <td>RRRP3</td>\n",
       "      <td>BOVESPA</td>\n",
       "      <td>BRRRRPACNOR5</td>\n",
       "      <td>Latin America and Caribbean</td>\n",
       "      <td>Brazil</td>\n",
       "      <td>BR</td>\n",
       "      <td>Energy</td>\n",
       "    </tr>\n",
       "    <tr>\n",
       "      <th>1</th>\n",
       "      <td>AES Andes S.A. (SNSE:AESANDES)</td>\n",
       "      <td>4149664</td>\n",
       "      <td>BBB-</td>\n",
       "      <td>BBB-</td>\n",
       "      <td>AESANDES</td>\n",
       "      <td>SNSE</td>\n",
       "      <td>CL0002694637</td>\n",
       "      <td>Latin America and Caribbean</td>\n",
       "      <td>Chile</td>\n",
       "      <td>CL</td>\n",
       "      <td>Utilities</td>\n",
       "    </tr>\n",
       "    <tr>\n",
       "      <th>2</th>\n",
       "      <td>Aguas Andinas S.A. (SNSE:AGUAS.A)</td>\n",
       "      <td>5000828</td>\n",
       "      <td>A-</td>\n",
       "      <td>A-</td>\n",
       "      <td>AGUAS.A</td>\n",
       "      <td>SNSE</td>\n",
       "      <td>CL0000000035</td>\n",
       "      <td>Latin America and Caribbean</td>\n",
       "      <td>Chile</td>\n",
       "      <td>CL</td>\n",
       "      <td>Utilities</td>\n",
       "    </tr>\n",
       "    <tr>\n",
       "      <th>3</th>\n",
       "      <td>Alfa S.A.B. de C.V. (BMV:ALFA A)</td>\n",
       "      <td>4284215</td>\n",
       "      <td>BBB-</td>\n",
       "      <td>BBB-</td>\n",
       "      <td>ALFA A</td>\n",
       "      <td>BMV</td>\n",
       "      <td>MXP000511016</td>\n",
       "      <td>Latin America and Caribbean</td>\n",
       "      <td>Mexico</td>\n",
       "      <td>MX</td>\n",
       "      <td>Capital Goods</td>\n",
       "    </tr>\n",
       "    <tr>\n",
       "      <th>4</th>\n",
       "      <td>ALPEK, S.A.B. de C.V. (BMV:ALPEK A)</td>\n",
       "      <td>4986459</td>\n",
       "      <td>BBB-</td>\n",
       "      <td>BBB-</td>\n",
       "      <td>ALPEK A</td>\n",
       "      <td>BMV</td>\n",
       "      <td>MX01AL0C0004</td>\n",
       "      <td>Latin America and Caribbean</td>\n",
       "      <td>Mexico</td>\n",
       "      <td>MX</td>\n",
       "      <td>Materials</td>\n",
       "    </tr>\n",
       "  </tbody>\n",
       "</table>\n",
       "</div>"
      ],
      "text/plain": [
       "                                 SP_ENTITY_NAME  SP_ENTITY_ID  \\\n",
       "0  3R Petroleum Óleo e Gás S.A. (BOVESPA:RRRP3)       7163456   \n",
       "1                AES Andes S.A. (SNSE:AESANDES)       4149664   \n",
       "2             Aguas Andinas S.A. (SNSE:AGUAS.A)       5000828   \n",
       "3              Alfa S.A.B. de C.V. (BMV:ALFA A)       4284215   \n",
       "4           ALPEK, S.A.B. de C.V. (BMV:ALPEK A)       4986459   \n",
       "\n",
       "  RD_CREDIT_RATING_GLOBAL RD_CREDIT_RATING_GLOBAL.1 SP_TICKER SP_EXCHANGE  \\\n",
       "0                      B+                        B+     RRRP3     BOVESPA   \n",
       "1                    BBB-                      BBB-  AESANDES        SNSE   \n",
       "2                      A-                        A-   AGUAS.A        SNSE   \n",
       "3                    BBB-                      BBB-    ALFA A         BMV   \n",
       "4                    BBB-                      BBB-   ALPEK A         BMV   \n",
       "\n",
       "        SP_ISIN                 SP_GEOGRAPHY SP_COUNTRY_NAME SP_COUNTRY_CODE  \\\n",
       "0  BRRRRPACNOR5  Latin America and Caribbean          Brazil              BR   \n",
       "1  CL0002694637  Latin America and Caribbean           Chile              CL   \n",
       "2  CL0000000035  Latin America and Caribbean           Chile              CL   \n",
       "3  MXP000511016  Latin America and Caribbean          Mexico              MX   \n",
       "4  MX01AL0C0004  Latin America and Caribbean          Mexico              MX   \n",
       "\n",
       "  IQ_INDUSTRY_GROUP  \n",
       "0            Energy  \n",
       "1         Utilities  \n",
       "2         Utilities  \n",
       "3     Capital Goods  \n",
       "4         Materials  "
      ]
     },
     "execution_count": 14,
     "metadata": {},
     "output_type": "execute_result"
    }
   ],
   "source": [
    "listed_Latin_df = listed_df[listed_df['SP_GEOGRAPHY']=='Latin America and Caribbean'].reset_index(drop = True)\n",
    "listed_Latin_df.head()"
   ]
  },
  {
   "cell_type": "code",
   "execution_count": 15,
   "id": "6e053ea6",
   "metadata": {},
   "outputs": [
    {
     "data": {
      "text/plain": [
       "(142, 11)"
      ]
     },
     "execution_count": 15,
     "metadata": {},
     "output_type": "execute_result"
    }
   ],
   "source": [
    "listed_Latin_df.shape"
   ]
  },
  {
   "cell_type": "markdown",
   "id": "595e1179",
   "metadata": {},
   "source": [
    "## Get Latin American tickers"
   ]
  },
  {
   "cell_type": "code",
   "execution_count": 16,
   "id": "e64b6b1d",
   "metadata": {},
   "outputs": [
    {
     "data": {
      "text/plain": [
       "['RRRP3',\n",
       " 'AESANDES',\n",
       " 'AGUAS.A',\n",
       " 'ALFA A',\n",
       " 'ALPEK A',\n",
       " 'ABEV3',\n",
       " 'AMBP3',\n",
       " 'AMX B',\n",
       " 'AMER3',\n",
       " 'AXTEL CPO']"
      ]
     },
     "execution_count": 16,
     "metadata": {},
     "output_type": "execute_result"
    }
   ],
   "source": [
    "Latin_tickers_list = list(listed_Latin_df['SP_TICKER'])\n",
    "Latin_tickers_list[:10]"
   ]
  },
  {
   "cell_type": "markdown",
   "id": "7fcdb352",
   "metadata": {},
   "source": [
    "# Try to deal with the problematic tickers"
   ]
  },
  {
   "cell_type": "markdown",
   "id": "2dfeae23",
   "metadata": {},
   "source": [
    "## Drop BVL stocks for now\n",
    "The Lima Stock Exchange in Peru, data not available on yahoo finance. 8 tickers can't be used."
   ]
  },
  {
   "cell_type": "code",
   "execution_count": 17,
   "id": "a102c8c6",
   "metadata": {},
   "outputs": [],
   "source": [
    "listed_Latin_df.reset_index(drop=True, inplace = True)"
   ]
  },
  {
   "cell_type": "code",
   "execution_count": 18,
   "id": "5e540d08",
   "metadata": {},
   "outputs": [
    {
     "data": {
      "text/plain": [
       "Int64Index([12, 18, 24, 91, 103, 106, 126, 136], dtype='int64')"
      ]
     },
     "execution_count": 18,
     "metadata": {},
     "output_type": "execute_result"
    }
   ],
   "source": [
    "listed_Latin_df[listed_Latin_df['SP_EXCHANGE']=='BVL'].index"
   ]
  },
  {
   "cell_type": "code",
   "execution_count": 19,
   "id": "5190c378",
   "metadata": {},
   "outputs": [],
   "source": [
    "listed_Latin_df.drop(index = [12, 18, 24, 91, 103, 106, 126, 136], inplace = True)"
   ]
  },
  {
   "cell_type": "markdown",
   "id": "619f0e72",
   "metadata": {},
   "source": [
    "## Adjust ticker based on the stock exchange it is traded in"
   ]
  },
  {
   "cell_type": "code",
   "execution_count": 20,
   "id": "92aa38ed",
   "metadata": {
    "scrolled": false
   },
   "outputs": [
    {
     "name": "stderr",
     "output_type": "stream",
     "text": [
      "C:\\Users\\thinkpad\\AppData\\Local\\Temp\\ipykernel_22884\\2376721267.py:3: FutureWarning: The default value of regex will change from True to False in a future version. In addition, single character regular expressions will *not* be treated as literal strings when regex=True.\n",
      "  listed_Latin_df['SP_TICKER'] = np.where(listed_Latin_df['SP_EXCHANGE']=='BMV', listed_Latin_df['SP_TICKER'].str.replace('*', ''), listed_Latin_df['SP_TICKER'])\n",
      "C:\\Users\\thinkpad\\AppData\\Local\\Temp\\ipykernel_22884\\2376721267.py:4: FutureWarning: The default value of regex will change from True to False in a future version. In addition, single character regular expressions will *not* be treated as literal strings when regex=True.\n",
      "  listed_Latin_df['SP_TICKER'] = np.where(listed_Latin_df['SP_EXCHANGE']=='BMV', listed_Latin_df['SP_TICKER'].str.replace('.', '-'), listed_Latin_df['SP_TICKER'])\n",
      "C:\\Users\\thinkpad\\AppData\\Local\\Temp\\ipykernel_22884\\2376721267.py:17: FutureWarning: The default value of regex will change from True to False in a future version. In addition, single character regular expressions will *not* be treated as literal strings when regex=True.\n",
      "  listed_Latin_df['SP_TICKER'] = np.where(listed_Latin_df['SP_EXCHANGE']=='SNSE', listed_Latin_df['SP_TICKER'].str.replace('.', '-'), listed_Latin_df['SP_TICKER'])\n",
      "C:\\Users\\thinkpad\\AppData\\Local\\Temp\\ipykernel_22884\\2376721267.py:21: FutureWarning: The default value of regex will change from True to False in a future version. In addition, single character regular expressions will *not* be treated as literal strings when regex=True.\n",
      "  listed_Latin_df['SP_TICKER'] = np.where(listed_Latin_df['SP_EXCHANGE']=='TSX', listed_Latin_df['SP_TICKER'].str.replace('.', '-'), listed_Latin_df['SP_TICKER'])\n",
      "C:\\Users\\thinkpad\\AppData\\Local\\Temp\\ipykernel_22884\\2376721267.py:25: FutureWarning: The default value of regex will change from True to False in a future version. In addition, single character regular expressions will *not* be treated as literal strings when regex=True.\n",
      "  listed_Latin_df['SP_TICKER'] = np.where(listed_Latin_df['SP_EXCHANGE']=='PSGM', listed_Latin_df['SP_TICKER'].str.replace('.', ''), listed_Latin_df['SP_TICKER'])\n"
     ]
    }
   ],
   "source": [
    "# Traded in BMV\n",
    "listed_Latin_df['SP_TICKER'] = np.where(listed_Latin_df['SP_EXCHANGE']=='BMV', listed_Latin_df['SP_TICKER'].str.replace(' ', ''), listed_Latin_df['SP_TICKER'])\n",
    "listed_Latin_df['SP_TICKER'] = np.where(listed_Latin_df['SP_EXCHANGE']=='BMV', listed_Latin_df['SP_TICKER'].str.replace('*', ''), listed_Latin_df['SP_TICKER'])\n",
    "listed_Latin_df['SP_TICKER'] = np.where(listed_Latin_df['SP_EXCHANGE']=='BMV', listed_Latin_df['SP_TICKER'].str.replace('.', '-'), listed_Latin_df['SP_TICKER'])\n",
    "listed_Latin_df['SP_TICKER'] = np.where(listed_Latin_df['SP_EXCHANGE']=='BMV', listed_Latin_df['SP_TICKER']+'.MX', listed_Latin_df['SP_TICKER'])\n",
    "\n",
    "# Traded in BOVESPA\n",
    "listed_Latin_df['SP_TICKER'] = np.where(listed_Latin_df['SP_EXCHANGE']=='BOVESPA', listed_Latin_df['SP_TICKER']+'.SA', listed_Latin_df['SP_TICKER'])\n",
    "\n",
    "# Traded in BVC\n",
    "listed_Latin_df['SP_TICKER'] = np.where(listed_Latin_df['SP_EXCHANGE']=='BVC', listed_Latin_df['SP_TICKER']+'.CL', listed_Latin_df['SP_TICKER'])\n",
    "\n",
    "# Traded in BASE\n",
    "listed_Latin_df['SP_TICKER'] = np.where(listed_Latin_df['SP_EXCHANGE']=='BASE', listed_Latin_df['SP_TICKER']+'.BA', listed_Latin_df['SP_TICKER'])\n",
    "\n",
    "# Traded in SNSE\n",
    "listed_Latin_df['SP_TICKER'] = np.where(listed_Latin_df['SP_EXCHANGE']=='SNSE', listed_Latin_df['SP_TICKER'].str.replace('.', '-'), listed_Latin_df['SP_TICKER'])\n",
    "listed_Latin_df['SP_TICKER'] = np.where(listed_Latin_df['SP_EXCHANGE']=='SNSE', listed_Latin_df['SP_TICKER']+'.SN', listed_Latin_df['SP_TICKER'])\n",
    "\n",
    "# Traded in TSX\n",
    "listed_Latin_df['SP_TICKER'] = np.where(listed_Latin_df['SP_EXCHANGE']=='TSX', listed_Latin_df['SP_TICKER'].str.replace('.', '-'), listed_Latin_df['SP_TICKER'])\n",
    "listed_Latin_df['SP_TICKER'] = np.where(listed_Latin_df['SP_EXCHANGE']=='TSX', listed_Latin_df['SP_TICKER']+'.TO', listed_Latin_df['SP_TICKER'])\n",
    "\n",
    "# Traded in PSGM\n",
    "listed_Latin_df['SP_TICKER'] = np.where(listed_Latin_df['SP_EXCHANGE']=='PSGM', listed_Latin_df['SP_TICKER'].str.replace('.', ''), listed_Latin_df['SP_TICKER'])"
   ]
  },
  {
   "cell_type": "markdown",
   "id": "1cd4daff",
   "metadata": {},
   "source": [
    "## special problem: wrongly recorded ticker `CAPXD.BA` to `CAPX.BA`"
   ]
  },
  {
   "cell_type": "code",
   "execution_count": 21,
   "id": "1e8abd0d",
   "metadata": {},
   "outputs": [],
   "source": [
    "listed_Latin_df['SP_TICKER'] = np.where(listed_Latin_df['SP_TICKER']=='CAPXD.BA', 'CAPX.BA', listed_Latin_df['SP_TICKER'])"
   ]
  },
  {
   "cell_type": "code",
   "execution_count": 22,
   "id": "49867bc9",
   "metadata": {},
   "outputs": [],
   "source": [
    "useable_Latin_tickerlist = ' '.join(list(listed_Latin_df['SP_TICKER']))"
   ]
  },
  {
   "cell_type": "markdown",
   "id": "86664b2b",
   "metadata": {},
   "source": [
    "# Download stock price data"
   ]
  },
  {
   "cell_type": "code",
   "execution_count": 23,
   "id": "b784f0b0",
   "metadata": {
    "scrolled": true
   },
   "outputs": [
    {
     "name": "stderr",
     "output_type": "stream",
     "text": [
      "[*********************100%%**********************]  134 of 134 completed\n",
      "\n",
      "2 Failed downloads:\n",
      "['FCGFH', 'COLTEL.CL']: Exception('%ticker%: No timezone found, symbol may be delisted')\n"
     ]
    }
   ],
   "source": [
    "Latin_price = yf.download(useable_Latin_tickerlist)"
   ]
  },
  {
   "cell_type": "markdown",
   "id": "8ce47bb4",
   "metadata": {},
   "source": [
    "## The rest of the problematic tickers"
   ]
  },
  {
   "cell_type": "markdown",
   "id": "e03d3c0b",
   "metadata": {},
   "source": [
    "**'COLTEL.CL'**: Colombia Telecomunicaciones S. A. E.S.P. BIC (BVC:COLTEL), from BVC, not available. Delisted?  \n",
    "**'FCGFH'**: First Citizens Group Financial Holdings Limited (TTSE:FCGFH), from Trinidad and Tobago's stock exchange"
   ]
  },
  {
   "cell_type": "markdown",
   "id": "d11c6254",
   "metadata": {},
   "source": [
    "# Export the Latin American price data"
   ]
  },
  {
   "cell_type": "code",
   "execution_count": 24,
   "id": "0e0e835a",
   "metadata": {},
   "outputs": [],
   "source": [
    "Latin_price.to_csv('Latin American stock prices.csv')"
   ]
  },
  {
   "cell_type": "markdown",
   "id": "6d914929",
   "metadata": {
    "collapsed": true
   },
   "source": [
    "# Check price data availability"
   ]
  },
  {
   "cell_type": "code",
   "execution_count": 25,
   "id": "788823a4",
   "metadata": {},
   "outputs": [
    {
     "data": {
      "text/plain": [
       "134"
      ]
     },
     "execution_count": 25,
     "metadata": {},
     "output_type": "execute_result"
    }
   ],
   "source": [
    "Latin_price['Open'].shape[1]"
   ]
  },
  {
   "cell_type": "code",
   "execution_count": 26,
   "id": "77f3d239",
   "metadata": {},
   "outputs": [],
   "source": [
    "num_datapoint = np.sum(Latin_price['Open'].notnull(), axis = 1)"
   ]
  },
  {
   "cell_type": "code",
   "execution_count": 27,
   "id": "a9d933c3",
   "metadata": {},
   "outputs": [
    {
     "data": {
      "image/png": "[encoded data removed]",
      "text/plain": [
       "<Figure size 640x480 with 1 Axes>"
      ]
     },
     "metadata": {},
     "output_type": "display_data"
    }
   ],
   "source": [
    "plt.plot(num_datapoint);\n",
    "plt.title('Number of Latin American companies that have stock price data available');"
   ]
  },
  {
   "cell_type": "markdown",
   "id": "57fe40ab",
   "metadata": {},
   "source": [
    "# Get Latin American liability data"
   ]
  },
  {
   "cell_type": "code",
   "execution_count": 28,
   "id": "485aa579",
   "metadata": {},
   "outputs": [],
   "source": [
    "isin = ', '.join(list(listed_Latin_df['SP_ISIN']))"
   ]
  },
  {
   "cell_type": "code",
   "execution_count": 29,
   "id": "ec1fb46d",
   "metadata": {},
   "outputs": [
    {
     "data": {
      "text/plain": [
       "'BRRRRPACNOR5, CL0002694637, CL0000000035, MXP000511016, MX01AL0C0004, BRABEVACNOR1, BRAMBPACNOR6, MX01AM050019, BRAMERACNOR6, MX01AX040009, BRAZULACNPR4, BRABCBACNPR4, BRBBDCACNPR8, BRBPACUNT006, COB51PA00076, COB01PA00030, CLP0939W1081, CLP321331116, BRBBASACNOR3, BRBRSRACNPB4, BRBNBRACNOR8, CL0002209568, CL0002841873, PAP169941328, BRBPANACNPR1, ARMERI013163, BRSANBACNPR5, CLP1506A1070, COB07PA00078, MX01CU010003, BRBRKMACNPA4, BRBSLIACNPR2, BRBRFSACNOR8, BRCAMLACNOR3, CLP256251073, ARP2006N1025, KYG1899E1465, MXP225611567, BRELETACNPB7, US1912411089, CLP3615W1037, COI06PA00026, BRCEEBACNOR3, BRSBSPACNOR5, BRCMIGACNPR3, BRCSRNACNOR0, BRCSNAACNOR6, CLP249051044, MX01VE0M0003, BRCSANACNOR6, BMG2519Y1084, MXP339881098, COC04PA00016, MXP369181377, CLP3697S1034, BREMBRACNOR4, ARENOR010020, CLP371151059, CL0000001314, CLP7847L1080, CLP371861061, CL0002266774, CLP3710M1090, BRENGIACNOR0, CL0001583070, CL0000006586, CLP3880F1085, MXCFFI170008, MXCFTE0B0005, TTE000000140, MXP320321310, CLP419131071, GB00B2QPKJ12, MX01GC2M0006, BMG383271050, BRGGBRACNPR8, BRGOLLACNPR4, MXP4948K1056, MXP495211262, COT13PA00086, MX01GI020004, MX01KU000012, MXP370841019, MXP791641105, MXP4987V1378, BRHYPEACNOR0, MX01ID000009, MXP554091415, CL0001892547, BRMYPKACNOR7, BRJALLACNOR0, BRJBSSACNOR8, BRJSLGACNOR2, MXP606941179, BRKLBNACNPR9, CL0000000423, BRRENTACNOR4, BRMRFGACNOR0, US58733R1023, CLP969051075, BRBEEFACNOR6, CLP6877L1036, BRMOVIACNOR0, BRMRSAACNOR6, BRNTCOACNOR5, MX01NE000001, BRNEOEACNOR3, KYG6683N1034, BROIBRACNPR8, MX01SI0C0002, MX01OR010004, ARP432631215, BRPETRACNPR6, BRPRIOACNOR1, BRRAIZACNPR6, BRRDORACNOR8, BRRAILACNOR9, BM78669Q1007, BRSMTOACNOR3, CL0002455229, BRSIMHACNOR0, MX01LA080009, US8336351056, BRSUZBACNOR0, ARP9028N1016, MXP904131325, ARP9308R1039, BRTUPYACNOR1, BRUGPAACNOR8, BRUSIMACNPA6, BRVALEACNOR0, BRVAMOACNOR7, MX01VI050002, ARP9897X1319'"
      ]
     },
     "execution_count": 29,
     "metadata": {},
     "output_type": "execute_result"
    }
   ],
   "source": [
    "isin"
   ]
  },
  {
   "cell_type": "markdown",
   "id": "602e5fc5",
   "metadata": {},
   "source": [
    "## Use the liability data retrieved from Orbis"
   ]
  },
  {
   "cell_type": "code",
   "execution_count": 100,
   "id": "26ca3d7c",
   "metadata": {
    "scrolled": true
   },
   "outputs": [
    {
     "data": {
      "text/html": [
       "<div>\n",
       "<style scoped>\n",
       "    .dataframe tbody tr th:only-of-type {\n",
       "        vertical-align: middle;\n",
       "    }\n",
       "\n",
       "    .dataframe tbody tr th {\n",
       "        vertical-align: top;\n",
       "    }\n",
       "\n",
       "    .dataframe thead th {\n",
       "        text-align: right;\n",
       "    }\n",
       "</style>\n",
       "<table border=\"1\" class=\"dataframe\">\n",
       "  <thead>\n",
       "    <tr style=\"text-align: right;\">\n",
       "      <th></th>\n",
       "      <th>Company name Latin alphabet</th>\n",
       "      <th>ISIN number</th>\n",
       "      <th>Last avail. year</th>\n",
       "      <th>Total liabilities\\nth USD 2023</th>\n",
       "      <th>Total liabilities\\nth USD 2022</th>\n",
       "      <th>Total liabilities\\nth USD 2021</th>\n",
       "      <th>Total liabilities\\nth USD 2020</th>\n",
       "      <th>Total liabilities\\nth USD 2019</th>\n",
       "      <th>Total liabilities\\nth USD 2018</th>\n",
       "      <th>Total liabilities\\nth USD 2017</th>\n",
       "      <th>...</th>\n",
       "      <th>Total liabilities\\nth USD 2003</th>\n",
       "      <th>Total liabilities\\nth USD 2002</th>\n",
       "      <th>Total liabilities\\nth USD 2001</th>\n",
       "      <th>Total liabilities\\nth USD 2000</th>\n",
       "      <th>Total liabilities\\nth USD 1999</th>\n",
       "      <th>Total liabilities\\nth USD 1998</th>\n",
       "      <th>Total liabilities\\nth USD 1997</th>\n",
       "      <th>Total liabilities\\nth USD 1996</th>\n",
       "      <th>Total liabilities\\nth USD 1995</th>\n",
       "      <th>Total liabilities\\nth USD 1994</th>\n",
       "    </tr>\n",
       "  </thead>\n",
       "  <tbody>\n",
       "    <tr>\n",
       "      <th>0</th>\n",
       "      <td>PETROLEO BRASILEIRO S.A.</td>\n",
       "      <td>BRPETRACNOR9</td>\n",
       "      <td>2022</td>\n",
       "      <td>n.a.</td>\n",
       "      <td>117368648.841977</td>\n",
       "      <td>104548471.462429</td>\n",
       "      <td>130149340.78981</td>\n",
       "      <td>155547997.792661</td>\n",
       "      <td>148915899.463892</td>\n",
       "      <td>169893576.668501</td>\n",
       "      <td>...</td>\n",
       "      <td>30078613.820327</td>\n",
       "      <td>17816044.843642</td>\n",
       "      <td>19906952.638806</td>\n",
       "      <td>21500509.564335</td>\n",
       "      <td>21849368.392716</td>\n",
       "      <td>15198528.964807</td>\n",
       "      <td>15360570.273095</td>\n",
       "      <td>14518343.525402</td>\n",
       "      <td>11471424.948018</td>\n",
       "      <td>n.a.</td>\n",
       "    </tr>\n",
       "    <tr>\n",
       "      <th>1</th>\n",
       "      <td>JBS S.A.</td>\n",
       "      <td>BRJBSSACNOR8</td>\n",
       "      <td>2022</td>\n",
       "      <td>n.a.</td>\n",
       "      <td>30342851.637829</td>\n",
       "      <td>28551121.049792</td>\n",
       "      <td>23143822.321448</td>\n",
       "      <td>23289083.618158</td>\n",
       "      <td>22249656.359658</td>\n",
       "      <td>24960780.453938</td>\n",
       "      <td>...</td>\n",
       "      <td>n.a.</td>\n",
       "      <td>n.a.</td>\n",
       "      <td>n.a.</td>\n",
       "      <td>n.a.</td>\n",
       "      <td>n.a.</td>\n",
       "      <td>n.a.</td>\n",
       "      <td>n.a.</td>\n",
       "      <td>n.a.</td>\n",
       "      <td>n.a.</td>\n",
       "      <td>n.a.</td>\n",
       "    </tr>\n",
       "    <tr>\n",
       "      <th>2</th>\n",
       "      <td>RAIZEN S.A.</td>\n",
       "      <td>BRRAIZACNPR6</td>\n",
       "      <td>2023</td>\n",
       "      <td>n.a.</td>\n",
       "      <td>n.a.</td>\n",
       "      <td>n.a.</td>\n",
       "      <td>n.a.</td>\n",
       "      <td>n.a.</td>\n",
       "      <td>n.a.</td>\n",
       "      <td>n.a.</td>\n",
       "      <td>...</td>\n",
       "      <td>n.a.</td>\n",
       "      <td>n.a.</td>\n",
       "      <td>n.a.</td>\n",
       "      <td>n.a.</td>\n",
       "      <td>n.a.</td>\n",
       "      <td>n.a.</td>\n",
       "      <td>n.a.</td>\n",
       "      <td>n.a.</td>\n",
       "      <td>n.a.</td>\n",
       "      <td>n.a.</td>\n",
       "    </tr>\n",
       "    <tr>\n",
       "      <th>3</th>\n",
       "      <td>AMERICA MOVIL S.A.B. DE C.V.</td>\n",
       "      <td>MXP001691213</td>\n",
       "      <td>2022</td>\n",
       "      <td>n.a.</td>\n",
       "      <td>60793850.001636</td>\n",
       "      <td>60029058.028843</td>\n",
       "      <td>65664960.200784</td>\n",
       "      <td>69249824.831427</td>\n",
       "      <td>60120761.688474</td>\n",
       "      <td>61939501.140512</td>\n",
       "      <td>...</td>\n",
       "      <td>7188205.404752</td>\n",
       "      <td>6192160.191804</td>\n",
       "      <td>3941466.909908</td>\n",
       "      <td>2445108.508605</td>\n",
       "      <td>969687.434542</td>\n",
       "      <td>178257.57303</td>\n",
       "      <td>n.a.</td>\n",
       "      <td>n.a.</td>\n",
       "      <td>n.a.</td>\n",
       "      <td>n.a.</td>\n",
       "    </tr>\n",
       "    <tr>\n",
       "      <th>4</th>\n",
       "      <td>VALE S.A.</td>\n",
       "      <td>BRVALEACNOR0</td>\n",
       "      <td>2022</td>\n",
       "      <td>n.a.</td>\n",
       "      <td>n.a.</td>\n",
       "      <td>n.a.</td>\n",
       "      <td>n.a.</td>\n",
       "      <td>n.a.</td>\n",
       "      <td>n.a.</td>\n",
       "      <td>n.a.</td>\n",
       "      <td>...</td>\n",
       "      <td>n.a.</td>\n",
       "      <td>n.a.</td>\n",
       "      <td>n.a.</td>\n",
       "      <td>n.a.</td>\n",
       "      <td>n.a.</td>\n",
       "      <td>n.a.</td>\n",
       "      <td>n.a.</td>\n",
       "      <td>n.a.</td>\n",
       "      <td>n.a.</td>\n",
       "      <td>n.a.</td>\n",
       "    </tr>\n",
       "  </tbody>\n",
       "</table>\n",
       "<p>5 rows × 33 columns</p>\n",
       "</div>"
      ],
      "text/plain": [
       "    Company name Latin alphabet   ISIN number  Last avail. year  \\\n",
       "0      PETROLEO BRASILEIRO S.A.  BRPETRACNOR9              2022   \n",
       "1                      JBS S.A.  BRJBSSACNOR8              2022   \n",
       "2                   RAIZEN S.A.  BRRAIZACNPR6              2023   \n",
       "3  AMERICA MOVIL S.A.B. DE C.V.  MXP001691213              2022   \n",
       "4                     VALE S.A.  BRVALEACNOR0              2022   \n",
       "\n",
       "  Total liabilities\\nth USD 2023 Total liabilities\\nth USD 2022  \\\n",
       "0                           n.a.               117368648.841977   \n",
       "1                           n.a.                30342851.637829   \n",
       "2                           n.a.                           n.a.   \n",
       "3                           n.a.                60793850.001636   \n",
       "4                           n.a.                           n.a.   \n",
       "\n",
       "  Total liabilities\\nth USD 2021 Total liabilities\\nth USD 2020  \\\n",
       "0               104548471.462429                130149340.78981   \n",
       "1                28551121.049792                23143822.321448   \n",
       "2                           n.a.                           n.a.   \n",
       "3                60029058.028843                65664960.200784   \n",
       "4                           n.a.                           n.a.   \n",
       "\n",
       "  Total liabilities\\nth USD 2019 Total liabilities\\nth USD 2018  \\\n",
       "0               155547997.792661               148915899.463892   \n",
       "1                23289083.618158                22249656.359658   \n",
       "2                           n.a.                           n.a.   \n",
       "3                69249824.831427                60120761.688474   \n",
       "4                           n.a.                           n.a.   \n",
       "\n",
       "  Total liabilities\\nth USD 2017  ... Total liabilities\\nth USD 2003  \\\n",
       "0               169893576.668501  ...                30078613.820327   \n",
       "1                24960780.453938  ...                           n.a.   \n",
       "2                           n.a.  ...                           n.a.   \n",
       "3                61939501.140512  ...                 7188205.404752   \n",
       "4                           n.a.  ...                           n.a.   \n",
       "\n",
       "  Total liabilities\\nth USD 2002 Total liabilities\\nth USD 2001  \\\n",
       "0                17816044.843642                19906952.638806   \n",
       "1                           n.a.                           n.a.   \n",
       "2                           n.a.                           n.a.   \n",
       "3                 6192160.191804                 3941466.909908   \n",
       "4                           n.a.                           n.a.   \n",
       "\n",
       "  Total liabilities\\nth USD 2000 Total liabilities\\nth USD 1999  \\\n",
       "0                21500509.564335                21849368.392716   \n",
       "1                           n.a.                           n.a.   \n",
       "2                           n.a.                           n.a.   \n",
       "3                 2445108.508605                  969687.434542   \n",
       "4                           n.a.                           n.a.   \n",
       "\n",
       "  Total liabilities\\nth USD 1998 Total liabilities\\nth USD 1997  \\\n",
       "0                15198528.964807                15360570.273095   \n",
       "1                           n.a.                           n.a.   \n",
       "2                           n.a.                           n.a.   \n",
       "3                   178257.57303                           n.a.   \n",
       "4                           n.a.                           n.a.   \n",
       "\n",
       "  Total liabilities\\nth USD 1996 Total liabilities\\nth USD 1995  \\\n",
       "0                14518343.525402                11471424.948018   \n",
       "1                           n.a.                           n.a.   \n",
       "2                           n.a.                           n.a.   \n",
       "3                           n.a.                           n.a.   \n",
       "4                           n.a.                           n.a.   \n",
       "\n",
       "  Total liabilities\\nth USD 1994  \n",
       "0                           n.a.  \n",
       "1                           n.a.  \n",
       "2                           n.a.  \n",
       "3                           n.a.  \n",
       "4                           n.a.  \n",
       "\n",
       "[5 rows x 33 columns]"
      ]
     },
     "execution_count": 100,
     "metadata": {},
     "output_type": "execute_result"
    }
   ],
   "source": [
    "Latin_liability_df = pd.read_excel('Latin American listed companies total liabilities.xlsx')\n",
    "Latin_liability_df.head()"
   ]
  },
  {
   "cell_type": "code",
   "execution_count": 101,
   "id": "6d6abfb7",
   "metadata": {},
   "outputs": [],
   "source": [
    "year_list = []\n",
    "for i in range(-2023, -1993, 1):\n",
    "    year_list.append(str(-i))"
   ]
  },
  {
   "cell_type": "code",
   "execution_count": 102,
   "id": "b5c7c394",
   "metadata": {},
   "outputs": [],
   "source": [
    "Latin_liability_df.columns = ['Company name Latin alphabet', 'ISIN number', 'Last avail. year'] + year_list"
   ]
  },
  {
   "cell_type": "code",
   "execution_count": 103,
   "id": "65c5adc6",
   "metadata": {},
   "outputs": [
    {
     "data": {
      "text/html": [
       "<div>\n",
       "<style scoped>\n",
       "    .dataframe tbody tr th:only-of-type {\n",
       "        vertical-align: middle;\n",
       "    }\n",
       "\n",
       "    .dataframe tbody tr th {\n",
       "        vertical-align: top;\n",
       "    }\n",
       "\n",
       "    .dataframe thead th {\n",
       "        text-align: right;\n",
       "    }\n",
       "</style>\n",
       "<table border=\"1\" class=\"dataframe\">\n",
       "  <thead>\n",
       "    <tr style=\"text-align: right;\">\n",
       "      <th></th>\n",
       "      <th>Company name Latin alphabet</th>\n",
       "      <th>ISIN number</th>\n",
       "      <th>Last avail. year</th>\n",
       "      <th>2023</th>\n",
       "      <th>2022</th>\n",
       "      <th>2021</th>\n",
       "      <th>2020</th>\n",
       "      <th>2019</th>\n",
       "      <th>2018</th>\n",
       "      <th>2017</th>\n",
       "      <th>...</th>\n",
       "      <th>2003</th>\n",
       "      <th>2002</th>\n",
       "      <th>2001</th>\n",
       "      <th>2000</th>\n",
       "      <th>1999</th>\n",
       "      <th>1998</th>\n",
       "      <th>1997</th>\n",
       "      <th>1996</th>\n",
       "      <th>1995</th>\n",
       "      <th>1994</th>\n",
       "    </tr>\n",
       "  </thead>\n",
       "  <tbody>\n",
       "    <tr>\n",
       "      <th>0</th>\n",
       "      <td>PETROLEO BRASILEIRO S.A.</td>\n",
       "      <td>BRPETRACNOR9</td>\n",
       "      <td>2022</td>\n",
       "      <td>n.a.</td>\n",
       "      <td>117368648.841977</td>\n",
       "      <td>104548471.462429</td>\n",
       "      <td>130149340.78981</td>\n",
       "      <td>155547997.792661</td>\n",
       "      <td>148915899.463892</td>\n",
       "      <td>169893576.668501</td>\n",
       "      <td>...</td>\n",
       "      <td>30078613.820327</td>\n",
       "      <td>17816044.843642</td>\n",
       "      <td>19906952.638806</td>\n",
       "      <td>21500509.564335</td>\n",
       "      <td>21849368.392716</td>\n",
       "      <td>15198528.964807</td>\n",
       "      <td>15360570.273095</td>\n",
       "      <td>14518343.525402</td>\n",
       "      <td>11471424.948018</td>\n",
       "      <td>n.a.</td>\n",
       "    </tr>\n",
       "    <tr>\n",
       "      <th>1</th>\n",
       "      <td>JBS S.A.</td>\n",
       "      <td>BRJBSSACNOR8</td>\n",
       "      <td>2022</td>\n",
       "      <td>n.a.</td>\n",
       "      <td>30342851.637829</td>\n",
       "      <td>28551121.049792</td>\n",
       "      <td>23143822.321448</td>\n",
       "      <td>23289083.618158</td>\n",
       "      <td>22249656.359658</td>\n",
       "      <td>24960780.453938</td>\n",
       "      <td>...</td>\n",
       "      <td>n.a.</td>\n",
       "      <td>n.a.</td>\n",
       "      <td>n.a.</td>\n",
       "      <td>n.a.</td>\n",
       "      <td>n.a.</td>\n",
       "      <td>n.a.</td>\n",
       "      <td>n.a.</td>\n",
       "      <td>n.a.</td>\n",
       "      <td>n.a.</td>\n",
       "      <td>n.a.</td>\n",
       "    </tr>\n",
       "    <tr>\n",
       "      <th>2</th>\n",
       "      <td>RAIZEN S.A.</td>\n",
       "      <td>BRRAIZACNPR6</td>\n",
       "      <td>2023</td>\n",
       "      <td>n.a.</td>\n",
       "      <td>n.a.</td>\n",
       "      <td>n.a.</td>\n",
       "      <td>n.a.</td>\n",
       "      <td>n.a.</td>\n",
       "      <td>n.a.</td>\n",
       "      <td>n.a.</td>\n",
       "      <td>...</td>\n",
       "      <td>n.a.</td>\n",
       "      <td>n.a.</td>\n",
       "      <td>n.a.</td>\n",
       "      <td>n.a.</td>\n",
       "      <td>n.a.</td>\n",
       "      <td>n.a.</td>\n",
       "      <td>n.a.</td>\n",
       "      <td>n.a.</td>\n",
       "      <td>n.a.</td>\n",
       "      <td>n.a.</td>\n",
       "    </tr>\n",
       "    <tr>\n",
       "      <th>3</th>\n",
       "      <td>AMERICA MOVIL S.A.B. DE C.V.</td>\n",
       "      <td>MXP001691213</td>\n",
       "      <td>2022</td>\n",
       "      <td>n.a.</td>\n",
       "      <td>60793850.001636</td>\n",
       "      <td>60029058.028843</td>\n",
       "      <td>65664960.200784</td>\n",
       "      <td>69249824.831427</td>\n",
       "      <td>60120761.688474</td>\n",
       "      <td>61939501.140512</td>\n",
       "      <td>...</td>\n",
       "      <td>7188205.404752</td>\n",
       "      <td>6192160.191804</td>\n",
       "      <td>3941466.909908</td>\n",
       "      <td>2445108.508605</td>\n",
       "      <td>969687.434542</td>\n",
       "      <td>178257.57303</td>\n",
       "      <td>n.a.</td>\n",
       "      <td>n.a.</td>\n",
       "      <td>n.a.</td>\n",
       "      <td>n.a.</td>\n",
       "    </tr>\n",
       "    <tr>\n",
       "      <th>4</th>\n",
       "      <td>VALE S.A.</td>\n",
       "      <td>BRVALEACNOR0</td>\n",
       "      <td>2022</td>\n",
       "      <td>n.a.</td>\n",
       "      <td>n.a.</td>\n",
       "      <td>n.a.</td>\n",
       "      <td>n.a.</td>\n",
       "      <td>n.a.</td>\n",
       "      <td>n.a.</td>\n",
       "      <td>n.a.</td>\n",
       "      <td>...</td>\n",
       "      <td>n.a.</td>\n",
       "      <td>n.a.</td>\n",
       "      <td>n.a.</td>\n",
       "      <td>n.a.</td>\n",
       "      <td>n.a.</td>\n",
       "      <td>n.a.</td>\n",
       "      <td>n.a.</td>\n",
       "      <td>n.a.</td>\n",
       "      <td>n.a.</td>\n",
       "      <td>n.a.</td>\n",
       "    </tr>\n",
       "  </tbody>\n",
       "</table>\n",
       "<p>5 rows × 33 columns</p>\n",
       "</div>"
      ],
      "text/plain": [
       "    Company name Latin alphabet   ISIN number  Last avail. year  2023  \\\n",
       "0      PETROLEO BRASILEIRO S.A.  BRPETRACNOR9              2022  n.a.   \n",
       "1                      JBS S.A.  BRJBSSACNOR8              2022  n.a.   \n",
       "2                   RAIZEN S.A.  BRRAIZACNPR6              2023  n.a.   \n",
       "3  AMERICA MOVIL S.A.B. DE C.V.  MXP001691213              2022  n.a.   \n",
       "4                     VALE S.A.  BRVALEACNOR0              2022  n.a.   \n",
       "\n",
       "               2022              2021             2020              2019  \\\n",
       "0  117368648.841977  104548471.462429  130149340.78981  155547997.792661   \n",
       "1   30342851.637829   28551121.049792  23143822.321448   23289083.618158   \n",
       "2              n.a.              n.a.             n.a.              n.a.   \n",
       "3   60793850.001636   60029058.028843  65664960.200784   69249824.831427   \n",
       "4              n.a.              n.a.             n.a.              n.a.   \n",
       "\n",
       "               2018              2017  ...             2003             2002  \\\n",
       "0  148915899.463892  169893576.668501  ...  30078613.820327  17816044.843642   \n",
       "1   22249656.359658   24960780.453938  ...             n.a.             n.a.   \n",
       "2              n.a.              n.a.  ...             n.a.             n.a.   \n",
       "3   60120761.688474   61939501.140512  ...   7188205.404752   6192160.191804   \n",
       "4              n.a.              n.a.  ...             n.a.             n.a.   \n",
       "\n",
       "              2001             2000             1999             1998  \\\n",
       "0  19906952.638806  21500509.564335  21849368.392716  15198528.964807   \n",
       "1             n.a.             n.a.             n.a.             n.a.   \n",
       "2             n.a.             n.a.             n.a.             n.a.   \n",
       "3   3941466.909908   2445108.508605    969687.434542     178257.57303   \n",
       "4             n.a.             n.a.             n.a.             n.a.   \n",
       "\n",
       "              1997             1996             1995  1994  \n",
       "0  15360570.273095  14518343.525402  11471424.948018  n.a.  \n",
       "1             n.a.             n.a.             n.a.  n.a.  \n",
       "2             n.a.             n.a.             n.a.  n.a.  \n",
       "3             n.a.             n.a.             n.a.  n.a.  \n",
       "4             n.a.             n.a.             n.a.  n.a.  \n",
       "\n",
       "[5 rows x 33 columns]"
      ]
     },
     "execution_count": 103,
     "metadata": {},
     "output_type": "execute_result"
    }
   ],
   "source": [
    "Latin_liability_df.head()"
   ]
  },
  {
   "cell_type": "markdown",
   "id": "2e587f36",
   "metadata": {},
   "source": [
    "## Convert `n.a.` to null values"
   ]
  },
  {
   "cell_type": "code",
   "execution_count": 106,
   "id": "a42f2a8e",
   "metadata": {},
   "outputs": [],
   "source": [
    "for i in range(Latin_liability_df.shape[0]):\n",
    "    for j in range(Latin_liability_df.shape[1]):\n",
    "        if Latin_liability_df.iloc[i,j] == 'n.a.':\n",
    "            Latin_liability_df.iloc[i,j]= np.nan"
   ]
  },
  {
   "cell_type": "code",
   "execution_count": 107,
   "id": "c55b85f1",
   "metadata": {},
   "outputs": [
    {
     "data": {
      "text/html": [
       "<div>\n",
       "<style scoped>\n",
       "    .dataframe tbody tr th:only-of-type {\n",
       "        vertical-align: middle;\n",
       "    }\n",
       "\n",
       "    .dataframe tbody tr th {\n",
       "        vertical-align: top;\n",
       "    }\n",
       "\n",
       "    .dataframe thead th {\n",
       "        text-align: right;\n",
       "    }\n",
       "</style>\n",
       "<table border=\"1\" class=\"dataframe\">\n",
       "  <thead>\n",
       "    <tr style=\"text-align: right;\">\n",
       "      <th></th>\n",
       "      <th>Company name Latin alphabet</th>\n",
       "      <th>ISIN number</th>\n",
       "      <th>Last avail. year</th>\n",
       "      <th>2023</th>\n",
       "      <th>2022</th>\n",
       "      <th>2021</th>\n",
       "      <th>2020</th>\n",
       "      <th>2019</th>\n",
       "      <th>2018</th>\n",
       "      <th>2017</th>\n",
       "      <th>...</th>\n",
       "      <th>2003</th>\n",
       "      <th>2002</th>\n",
       "      <th>2001</th>\n",
       "      <th>2000</th>\n",
       "      <th>1999</th>\n",
       "      <th>1998</th>\n",
       "      <th>1997</th>\n",
       "      <th>1996</th>\n",
       "      <th>1995</th>\n",
       "      <th>1994</th>\n",
       "    </tr>\n",
       "  </thead>\n",
       "  <tbody>\n",
       "    <tr>\n",
       "      <th>0</th>\n",
       "      <td>PETROLEO BRASILEIRO S.A.</td>\n",
       "      <td>BRPETRACNOR9</td>\n",
       "      <td>2022</td>\n",
       "      <td>NaN</td>\n",
       "      <td>117368648.841977</td>\n",
       "      <td>104548471.462429</td>\n",
       "      <td>130149340.78981</td>\n",
       "      <td>155547997.792661</td>\n",
       "      <td>148915899.463892</td>\n",
       "      <td>169893576.668501</td>\n",
       "      <td>...</td>\n",
       "      <td>30078613.820327</td>\n",
       "      <td>17816044.843642</td>\n",
       "      <td>19906952.638806</td>\n",
       "      <td>21500509.564335</td>\n",
       "      <td>21849368.392716</td>\n",
       "      <td>15198528.964807</td>\n",
       "      <td>15360570.273095</td>\n",
       "      <td>14518343.525402</td>\n",
       "      <td>11471424.948018</td>\n",
       "      <td>NaN</td>\n",
       "    </tr>\n",
       "    <tr>\n",
       "      <th>1</th>\n",
       "      <td>JBS S.A.</td>\n",
       "      <td>BRJBSSACNOR8</td>\n",
       "      <td>2022</td>\n",
       "      <td>NaN</td>\n",
       "      <td>30342851.637829</td>\n",
       "      <td>28551121.049792</td>\n",
       "      <td>23143822.321448</td>\n",
       "      <td>23289083.618158</td>\n",
       "      <td>22249656.359658</td>\n",
       "      <td>24960780.453938</td>\n",
       "      <td>...</td>\n",
       "      <td>NaN</td>\n",
       "      <td>NaN</td>\n",
       "      <td>NaN</td>\n",
       "      <td>NaN</td>\n",
       "      <td>NaN</td>\n",
       "      <td>NaN</td>\n",
       "      <td>NaN</td>\n",
       "      <td>NaN</td>\n",
       "      <td>NaN</td>\n",
       "      <td>NaN</td>\n",
       "    </tr>\n",
       "    <tr>\n",
       "      <th>2</th>\n",
       "      <td>RAIZEN S.A.</td>\n",
       "      <td>BRRAIZACNPR6</td>\n",
       "      <td>2023</td>\n",
       "      <td>NaN</td>\n",
       "      <td>NaN</td>\n",
       "      <td>NaN</td>\n",
       "      <td>NaN</td>\n",
       "      <td>NaN</td>\n",
       "      <td>NaN</td>\n",
       "      <td>NaN</td>\n",
       "      <td>...</td>\n",
       "      <td>NaN</td>\n",
       "      <td>NaN</td>\n",
       "      <td>NaN</td>\n",
       "      <td>NaN</td>\n",
       "      <td>NaN</td>\n",
       "      <td>NaN</td>\n",
       "      <td>NaN</td>\n",
       "      <td>NaN</td>\n",
       "      <td>NaN</td>\n",
       "      <td>NaN</td>\n",
       "    </tr>\n",
       "    <tr>\n",
       "      <th>3</th>\n",
       "      <td>AMERICA MOVIL S.A.B. DE C.V.</td>\n",
       "      <td>MXP001691213</td>\n",
       "      <td>2022</td>\n",
       "      <td>NaN</td>\n",
       "      <td>60793850.001636</td>\n",
       "      <td>60029058.028843</td>\n",
       "      <td>65664960.200784</td>\n",
       "      <td>69249824.831427</td>\n",
       "      <td>60120761.688474</td>\n",
       "      <td>61939501.140512</td>\n",
       "      <td>...</td>\n",
       "      <td>7188205.404752</td>\n",
       "      <td>6192160.191804</td>\n",
       "      <td>3941466.909908</td>\n",
       "      <td>2445108.508605</td>\n",
       "      <td>969687.434542</td>\n",
       "      <td>178257.57303</td>\n",
       "      <td>NaN</td>\n",
       "      <td>NaN</td>\n",
       "      <td>NaN</td>\n",
       "      <td>NaN</td>\n",
       "    </tr>\n",
       "    <tr>\n",
       "      <th>4</th>\n",
       "      <td>VALE S.A.</td>\n",
       "      <td>BRVALEACNOR0</td>\n",
       "      <td>2022</td>\n",
       "      <td>NaN</td>\n",
       "      <td>NaN</td>\n",
       "      <td>NaN</td>\n",
       "      <td>NaN</td>\n",
       "      <td>NaN</td>\n",
       "      <td>NaN</td>\n",
       "      <td>NaN</td>\n",
       "      <td>...</td>\n",
       "      <td>NaN</td>\n",
       "      <td>NaN</td>\n",
       "      <td>NaN</td>\n",
       "      <td>NaN</td>\n",
       "      <td>NaN</td>\n",
       "      <td>NaN</td>\n",
       "      <td>NaN</td>\n",
       "      <td>NaN</td>\n",
       "      <td>NaN</td>\n",
       "      <td>NaN</td>\n",
       "    </tr>\n",
       "  </tbody>\n",
       "</table>\n",
       "<p>5 rows × 33 columns</p>\n",
       "</div>"
      ],
      "text/plain": [
       "    Company name Latin alphabet   ISIN number  Last avail. year 2023  \\\n",
       "0      PETROLEO BRASILEIRO S.A.  BRPETRACNOR9              2022  NaN   \n",
       "1                      JBS S.A.  BRJBSSACNOR8              2022  NaN   \n",
       "2                   RAIZEN S.A.  BRRAIZACNPR6              2023  NaN   \n",
       "3  AMERICA MOVIL S.A.B. DE C.V.  MXP001691213              2022  NaN   \n",
       "4                     VALE S.A.  BRVALEACNOR0              2022  NaN   \n",
       "\n",
       "               2022              2021             2020              2019  \\\n",
       "0  117368648.841977  104548471.462429  130149340.78981  155547997.792661   \n",
       "1   30342851.637829   28551121.049792  23143822.321448   23289083.618158   \n",
       "2               NaN               NaN              NaN               NaN   \n",
       "3   60793850.001636   60029058.028843  65664960.200784   69249824.831427   \n",
       "4               NaN               NaN              NaN               NaN   \n",
       "\n",
       "               2018              2017  ...             2003             2002  \\\n",
       "0  148915899.463892  169893576.668501  ...  30078613.820327  17816044.843642   \n",
       "1   22249656.359658   24960780.453938  ...              NaN              NaN   \n",
       "2               NaN               NaN  ...              NaN              NaN   \n",
       "3   60120761.688474   61939501.140512  ...   7188205.404752   6192160.191804   \n",
       "4               NaN               NaN  ...              NaN              NaN   \n",
       "\n",
       "              2001             2000             1999             1998  \\\n",
       "0  19906952.638806  21500509.564335  21849368.392716  15198528.964807   \n",
       "1              NaN              NaN              NaN              NaN   \n",
       "2              NaN              NaN              NaN              NaN   \n",
       "3   3941466.909908   2445108.508605    969687.434542     178257.57303   \n",
       "4              NaN              NaN              NaN              NaN   \n",
       "\n",
       "              1997             1996             1995 1994  \n",
       "0  15360570.273095  14518343.525402  11471424.948018  NaN  \n",
       "1              NaN              NaN              NaN  NaN  \n",
       "2              NaN              NaN              NaN  NaN  \n",
       "3              NaN              NaN              NaN  NaN  \n",
       "4              NaN              NaN              NaN  NaN  \n",
       "\n",
       "[5 rows x 33 columns]"
      ]
     },
     "execution_count": 107,
     "metadata": {},
     "output_type": "execute_result"
    }
   ],
   "source": [
    "Latin_liability_df.head()"
   ]
  },
  {
   "cell_type": "markdown",
   "id": "19413076",
   "metadata": {},
   "source": [
    "# Check liability data availability"
   ]
  },
  {
   "cell_type": "markdown",
   "id": "691f13ca",
   "metadata": {},
   "source": [
    "## Number of companies that have liability data available"
   ]
  },
  {
   "cell_type": "code",
   "execution_count": 113,
   "id": "54f373dc",
   "metadata": {},
   "outputs": [],
   "source": [
    "num_com_datapoint = np.sum(Latin_liability_df[year_list].notnull(), axis = 1)"
   ]
  },
  {
   "cell_type": "code",
   "execution_count": 122,
   "id": "6d529475",
   "metadata": {},
   "outputs": [
    {
     "data": {
      "text/plain": [
       "91"
      ]
     },
     "execution_count": 122,
     "metadata": {},
     "output_type": "execute_result"
    }
   ],
   "source": [
    "sum(num_com_datapoint != 0)"
   ]
  },
  {
   "cell_type": "markdown",
   "id": "0151cbbf",
   "metadata": {},
   "source": [
    "## Data availability in terms of years"
   ]
  },
  {
   "cell_type": "code",
   "execution_count": 118,
   "id": "0e442026",
   "metadata": {},
   "outputs": [],
   "source": [
    "num_year_datapoint = np.sum(Latin_liability_df[year_list].notnull(), axis = 0)"
   ]
  },
  {
   "cell_type": "code",
   "execution_count": 130,
   "id": "f693e8d7",
   "metadata": {},
   "outputs": [],
   "source": [
    "num_year_datapoint.sort_index(inplace = True)"
   ]
  },
  {
   "cell_type": "code",
   "execution_count": 133,
   "id": "38f1c0b0",
   "metadata": {},
   "outputs": [
    {
     "data": {
      "image/png": "[encoded data removed]",
      "text/plain": [
       "<Figure size 640x480 with 1 Axes>"
      ]
     },
     "metadata": {},
     "output_type": "display_data"
    }
   ],
   "source": [
    "plt.plot(num_year_datapoint);\n",
    "plt.title('Number of Latin American companies that have liability data available');\n",
    "plt.xticks(year_list, rotation = 90);"
   ]
  },
  {
   "cell_type": "code",
   "execution_count": 1,
   "id": "c8241ed9",
   "metadata": {},
   "outputs": [],
   "source": [
    "import pandas as pd"
   ]
  },
  {
   "cell_type": "code",
   "execution_count": 2,
   "id": "b58ce614",
   "metadata": {},
   "outputs": [
    {
     "name": "stderr",
     "output_type": "stream",
     "text": [
      "C:\\Users\\thinkpad\\AppData\\Local\\Temp\\ipykernel_17048\\175978472.py:1: DtypeWarning: Columns (1,2,3,4,5,6,7,8,9,10,11,12,13,14,15,16,17,18,19,20,21,22,23,24,25,26,27,28,29,30,31,32,33,34,35,36,37,38,39,40,41,42,43,44,45,46,47,48,49,50,51,52,53,54,55,56,57,58,59,60,61,62,63,64,65,66,67,68,69,70,71,72,73,74,75,76,77,78,79,80,81,82,83,84,85,86,87,88,89,90,91,92,93,94,95,96,97,98,99,100,101,102,103,104,105,106,107,108,109,110,111,112,113,114,115,116,117,118,119,120,121,122,123,124,125,126,127,128,129,130,131,132,133,134,135,136,137,138,139,140,141,142,143,144,145,146,147,148,149,150,151,152,153,154,155,156,157,158,159,160,161,162,163,164,165,166,167,168,169,170,171,172,173,174,175,176,177,178,179,180,181,182,183,184,185,186,187,188,189,190,191,192,193,194,195,196,197,198,199,200,201,202,203,204,205,206,207,208,209,210,211,212,213,214,215,216,217,218,219,220,221,222,223,224,225,226,227,228,229,230,231,232,233,234,235,236,237,238,239,240,241,242,243,244,245,246,247,248,249,250,251,252,253,254,255,256,257,258,259,260,261,262,263,264,265,266,267,268,269,270,271,272,273,274,275,276,277,278,279,280,281,282,283,284,285,286,287,288,289,290,291,292,293,294,295,296,297,298,299,300,301,302,303,304,305,306,307,308,309,310,311,312,313,314,315,316,317,318,319,320,321,322,323,324,325,326,327,328,329,330,331,332,333,334,335,336,337,338,339,340,341,342,343,344,345,346,347,348,349,350,351,352,353,354,355,356,357,358,359,360,361,362,363,364,365,366,367,368,369,370,371,372,373,374,375,376,377,378,379,380,381,382,383,384,385,386,387,388,389,390,391,392,393,394,395,396,397,398,399,400,401,402,403,404,405,406,407,408,409,410,411,412,413,414,415,416,417,418,419,420,421,422,423,424,425,426,427,428,429,430,431,432,433,434,435,436,437,438,439,440,441,442,443,444,445,446,447,448,449,450,451,452,453,454,455,456,457,458,459,460,461,462,463,464,465,466,467,468,469,470,471,472,473,474,475,476,477,478,479,480,481,482,483,484,485,486,487,488,489,490,491,492,493,494,495,496,497,498,499,500,501,502,503,504,505,506,507,508,509,510,511,512,513,514,515,516,517,518,519,520,521,522,523,524,525,526,527,528,529,530,531,532,533,534,535,536,537,538,539,540,541,542,543,544,545,546,547,548,549,550,551,552,553,554,555,556,557,558,559,560,561,562,563,564,565,566,567,568,569,570,571,572,573,574,575,576,577,578,579,580,581,582,583,584,585,586,587,588,589,590,591,592,593,594,595,596,597,598,599,600,601,602,603,604,605,606,607,608,609,610,611,612,613,614,615,616,617,618,619,620,621,622,623,624,625,626,627,628,629,630,631,632,633,634,635,636,637,638,639,640,641,642,643,644,645,646,647,648,649,650,651,652,653,654,655,656,657,658,659,660,661,662,663,664,665,666,667,668,669,670,671,672,673,674,675,676,677,678,679,680,681,682,683,684,685,686,687,688,689,690,691,692,693,694,695,696,697,698,699,700,701,702,703,704,705,706,707,708,709,710,711,712,713,714,715,716,717,718,719,720,721,722,723,724,725,726,727,728,729,730,731,732,733,734,735,736,737,738,739,740,741,742,743,744,745,746,747,748,749,750,751,752,753,754,755,756,757,758,759,760,761,762,763,764,765,766,767,768,769,770,771,772,773,774,775,776,777,778,779,780,781,782,783,784,785,786,787,788,789,790,791,792,793,794,795,796,797,798,799,800,801,802,803,804) have mixed types. Specify dtype option on import or set low_memory=False.\n",
      "  temp = pd.read_csv('Latin American stock prices.csv')\n"
     ]
    }
   ],
   "source": [
    "temp = pd.read_csv('Latin American stock prices.csv')"
   ]
  },
  {
   "cell_type": "code",
   "execution_count": 3,
   "id": "0cdf2598",
   "metadata": {},
   "outputs": [
    {
     "data": {
      "text/html": [
       "<div>\n",
       "<style scoped>\n",
       "    .dataframe tbody tr th:only-of-type {\n",
       "        vertical-align: middle;\n",
       "    }\n",
       "\n",
       "    .dataframe tbody tr th {\n",
       "        vertical-align: top;\n",
       "    }\n",
       "\n",
       "    .dataframe thead th {\n",
       "        text-align: right;\n",
       "    }\n",
       "</style>\n",
       "<table border=\"1\" class=\"dataframe\">\n",
       "  <thead>\n",
       "    <tr style=\"text-align: right;\">\n",
       "      <th></th>\n",
       "      <th>Price</th>\n",
       "      <th>Adj Close</th>\n",
       "      <th>Adj Close.1</th>\n",
       "      <th>Adj Close.2</th>\n",
       "      <th>Adj Close.3</th>\n",
       "      <th>Adj Close.4</th>\n",
       "      <th>Adj Close.5</th>\n",
       "      <th>Adj Close.6</th>\n",
       "      <th>Adj Close.7</th>\n",
       "      <th>Adj Close.8</th>\n",
       "      <th>...</th>\n",
       "      <th>Volume.124</th>\n",
       "      <th>Volume.125</th>\n",
       "      <th>Volume.126</th>\n",
       "      <th>Volume.127</th>\n",
       "      <th>Volume.128</th>\n",
       "      <th>Volume.129</th>\n",
       "      <th>Volume.130</th>\n",
       "      <th>Volume.131</th>\n",
       "      <th>Volume.132</th>\n",
       "      <th>Volume.133</th>\n",
       "    </tr>\n",
       "  </thead>\n",
       "  <tbody>\n",
       "    <tr>\n",
       "      <th>0</th>\n",
       "      <td>Ticker</td>\n",
       "      <td>ABCB4.SA</td>\n",
       "      <td>ABEV3.SA</td>\n",
       "      <td>AESANDES.SN</td>\n",
       "      <td>AGUAS-A.SN</td>\n",
       "      <td>ALFAA.MX</td>\n",
       "      <td>ALPEKA.MX</td>\n",
       "      <td>AMBP3.SA</td>\n",
       "      <td>AMER3.SA</td>\n",
       "      <td>AMXB.MX</td>\n",
       "      <td>...</td>\n",
       "      <td>TLEVISACPO.MX</td>\n",
       "      <td>TMXLF</td>\n",
       "      <td>TUPY3.SA</td>\n",
       "      <td>UGPA3.SA</td>\n",
       "      <td>USIM5.SA</td>\n",
       "      <td>VALE3.SA</td>\n",
       "      <td>VAMO3.SA</td>\n",
       "      <td>VESTA.MX</td>\n",
       "      <td>VINTE.MX</td>\n",
       "      <td>YPFD.BA</td>\n",
       "    </tr>\n",
       "    <tr>\n",
       "      <th>1</th>\n",
       "      <td>Date</td>\n",
       "      <td>NaN</td>\n",
       "      <td>NaN</td>\n",
       "      <td>NaN</td>\n",
       "      <td>NaN</td>\n",
       "      <td>NaN</td>\n",
       "      <td>NaN</td>\n",
       "      <td>NaN</td>\n",
       "      <td>NaN</td>\n",
       "      <td>NaN</td>\n",
       "      <td>...</td>\n",
       "      <td>NaN</td>\n",
       "      <td>NaN</td>\n",
       "      <td>NaN</td>\n",
       "      <td>NaN</td>\n",
       "      <td>NaN</td>\n",
       "      <td>NaN</td>\n",
       "      <td>NaN</td>\n",
       "      <td>NaN</td>\n",
       "      <td>NaN</td>\n",
       "      <td>NaN</td>\n",
       "    </tr>\n",
       "    <tr>\n",
       "      <th>2</th>\n",
       "      <td>1992-09-24</td>\n",
       "      <td>NaN</td>\n",
       "      <td>NaN</td>\n",
       "      <td>NaN</td>\n",
       "      <td>NaN</td>\n",
       "      <td>NaN</td>\n",
       "      <td>NaN</td>\n",
       "      <td>NaN</td>\n",
       "      <td>NaN</td>\n",
       "      <td>NaN</td>\n",
       "      <td>...</td>\n",
       "      <td>NaN</td>\n",
       "      <td>NaN</td>\n",
       "      <td>NaN</td>\n",
       "      <td>NaN</td>\n",
       "      <td>NaN</td>\n",
       "      <td>NaN</td>\n",
       "      <td>NaN</td>\n",
       "      <td>NaN</td>\n",
       "      <td>NaN</td>\n",
       "      <td>NaN</td>\n",
       "    </tr>\n",
       "    <tr>\n",
       "      <th>3</th>\n",
       "      <td>1992-09-25</td>\n",
       "      <td>NaN</td>\n",
       "      <td>NaN</td>\n",
       "      <td>NaN</td>\n",
       "      <td>NaN</td>\n",
       "      <td>NaN</td>\n",
       "      <td>NaN</td>\n",
       "      <td>NaN</td>\n",
       "      <td>NaN</td>\n",
       "      <td>NaN</td>\n",
       "      <td>...</td>\n",
       "      <td>NaN</td>\n",
       "      <td>NaN</td>\n",
       "      <td>NaN</td>\n",
       "      <td>NaN</td>\n",
       "      <td>NaN</td>\n",
       "      <td>NaN</td>\n",
       "      <td>NaN</td>\n",
       "      <td>NaN</td>\n",
       "      <td>NaN</td>\n",
       "      <td>NaN</td>\n",
       "    </tr>\n",
       "    <tr>\n",
       "      <th>4</th>\n",
       "      <td>1992-09-28</td>\n",
       "      <td>NaN</td>\n",
       "      <td>NaN</td>\n",
       "      <td>NaN</td>\n",
       "      <td>NaN</td>\n",
       "      <td>NaN</td>\n",
       "      <td>NaN</td>\n",
       "      <td>NaN</td>\n",
       "      <td>NaN</td>\n",
       "      <td>NaN</td>\n",
       "      <td>...</td>\n",
       "      <td>NaN</td>\n",
       "      <td>NaN</td>\n",
       "      <td>NaN</td>\n",
       "      <td>NaN</td>\n",
       "      <td>NaN</td>\n",
       "      <td>NaN</td>\n",
       "      <td>NaN</td>\n",
       "      <td>NaN</td>\n",
       "      <td>NaN</td>\n",
       "      <td>NaN</td>\n",
       "    </tr>\n",
       "    <tr>\n",
       "      <th>...</th>\n",
       "      <td>...</td>\n",
       "      <td>...</td>\n",
       "      <td>...</td>\n",
       "      <td>...</td>\n",
       "      <td>...</td>\n",
       "      <td>...</td>\n",
       "      <td>...</td>\n",
       "      <td>...</td>\n",
       "      <td>...</td>\n",
       "      <td>...</td>\n",
       "      <td>...</td>\n",
       "      <td>...</td>\n",
       "      <td>...</td>\n",
       "      <td>...</td>\n",
       "      <td>...</td>\n",
       "      <td>...</td>\n",
       "      <td>...</td>\n",
       "      <td>...</td>\n",
       "      <td>...</td>\n",
       "      <td>...</td>\n",
       "      <td>...</td>\n",
       "    </tr>\n",
       "    <tr>\n",
       "      <th>8126</th>\n",
       "      <td>2024-02-05</td>\n",
       "      <td>24.190001</td>\n",
       "      <td>13.09</td>\n",
       "      <td>81.059998</td>\n",
       "      <td>276.299988</td>\n",
       "      <td>NaN</td>\n",
       "      <td>NaN</td>\n",
       "      <td>13.67</td>\n",
       "      <td>0.72</td>\n",
       "      <td>NaN</td>\n",
       "      <td>...</td>\n",
       "      <td>NaN</td>\n",
       "      <td>NaN</td>\n",
       "      <td>436400.0</td>\n",
       "      <td>4013500.0</td>\n",
       "      <td>8194000.0</td>\n",
       "      <td>24103300.0</td>\n",
       "      <td>9821100.0</td>\n",
       "      <td>NaN</td>\n",
       "      <td>NaN</td>\n",
       "      <td>270705.0</td>\n",
       "    </tr>\n",
       "    <tr>\n",
       "      <th>8127</th>\n",
       "      <td>2024-02-06</td>\n",
       "      <td>24.190001</td>\n",
       "      <td>13.23</td>\n",
       "      <td>81.059998</td>\n",
       "      <td>277.0</td>\n",
       "      <td>13.71</td>\n",
       "      <td>11.55</td>\n",
       "      <td>14.03</td>\n",
       "      <td>0.73</td>\n",
       "      <td>15.36</td>\n",
       "      <td>...</td>\n",
       "      <td>2899988.0</td>\n",
       "      <td>NaN</td>\n",
       "      <td>540100.0</td>\n",
       "      <td>7622400.0</td>\n",
       "      <td>10333900.0</td>\n",
       "      <td>27505600.0</td>\n",
       "      <td>7301900.0</td>\n",
       "      <td>3349372.0</td>\n",
       "      <td>112.0</td>\n",
       "      <td>212523.0</td>\n",
       "    </tr>\n",
       "    <tr>\n",
       "      <th>8128</th>\n",
       "      <td>2024-02-07</td>\n",
       "      <td>23.950001</td>\n",
       "      <td>13.0</td>\n",
       "      <td>81.059998</td>\n",
       "      <td>281.899994</td>\n",
       "      <td>13.73</td>\n",
       "      <td>11.44</td>\n",
       "      <td>14.38</td>\n",
       "      <td>0.71</td>\n",
       "      <td>15.2</td>\n",
       "      <td>...</td>\n",
       "      <td>4125198.0</td>\n",
       "      <td>NaN</td>\n",
       "      <td>478900.0</td>\n",
       "      <td>6459000.0</td>\n",
       "      <td>9450700.0</td>\n",
       "      <td>19863400.0</td>\n",
       "      <td>5309500.0</td>\n",
       "      <td>3574912.0</td>\n",
       "      <td>109.0</td>\n",
       "      <td>311296.0</td>\n",
       "    </tr>\n",
       "    <tr>\n",
       "      <th>8129</th>\n",
       "      <td>2024-02-08</td>\n",
       "      <td>23.629999</td>\n",
       "      <td>12.95</td>\n",
       "      <td>81.059998</td>\n",
       "      <td>282.0</td>\n",
       "      <td>13.81</td>\n",
       "      <td>11.17</td>\n",
       "      <td>13.88</td>\n",
       "      <td>0.68</td>\n",
       "      <td>14.87</td>\n",
       "      <td>...</td>\n",
       "      <td>2451566.0</td>\n",
       "      <td>NaN</td>\n",
       "      <td>374200.0</td>\n",
       "      <td>5468900.0</td>\n",
       "      <td>16579800.0</td>\n",
       "      <td>25812100.0</td>\n",
       "      <td>8552600.0</td>\n",
       "      <td>2487059.0</td>\n",
       "      <td>108.0</td>\n",
       "      <td>187498.0</td>\n",
       "    </tr>\n",
       "    <tr>\n",
       "      <th>8130</th>\n",
       "      <td>2024-02-09</td>\n",
       "      <td>23.73</td>\n",
       "      <td>12.95</td>\n",
       "      <td>81.059998</td>\n",
       "      <td>284.980011</td>\n",
       "      <td>13.39</td>\n",
       "      <td>11.15</td>\n",
       "      <td>13.79</td>\n",
       "      <td>0.65</td>\n",
       "      <td>14.65</td>\n",
       "      <td>...</td>\n",
       "      <td>4444976.0</td>\n",
       "      <td>NaN</td>\n",
       "      <td>310200.0</td>\n",
       "      <td>4696800.0</td>\n",
       "      <td>31510700.0</td>\n",
       "      <td>18534800.0</td>\n",
       "      <td>5959300.0</td>\n",
       "      <td>945445.0</td>\n",
       "      <td>110.0</td>\n",
       "      <td>301024.0</td>\n",
       "    </tr>\n",
       "  </tbody>\n",
       "</table>\n",
       "<p>8131 rows × 805 columns</p>\n",
       "</div>"
      ],
      "text/plain": [
       "           Price  Adj Close Adj Close.1  Adj Close.2 Adj Close.3 Adj Close.4  \\\n",
       "0         Ticker   ABCB4.SA    ABEV3.SA  AESANDES.SN  AGUAS-A.SN    ALFAA.MX   \n",
       "1           Date        NaN         NaN          NaN         NaN         NaN   \n",
       "2     1992-09-24        NaN         NaN          NaN         NaN         NaN   \n",
       "3     1992-09-25        NaN         NaN          NaN         NaN         NaN   \n",
       "4     1992-09-28        NaN         NaN          NaN         NaN         NaN   \n",
       "...          ...        ...         ...          ...         ...         ...   \n",
       "8126  2024-02-05  24.190001       13.09    81.059998  276.299988         NaN   \n",
       "8127  2024-02-06  24.190001       13.23    81.059998       277.0       13.71   \n",
       "8128  2024-02-07  23.950001        13.0    81.059998  281.899994       13.73   \n",
       "8129  2024-02-08  23.629999       12.95    81.059998       282.0       13.81   \n",
       "8130  2024-02-09      23.73       12.95    81.059998  284.980011       13.39   \n",
       "\n",
       "     Adj Close.5 Adj Close.6 Adj Close.7 Adj Close.8  ...     Volume.124  \\\n",
       "0      ALPEKA.MX    AMBP3.SA    AMER3.SA     AMXB.MX  ...  TLEVISACPO.MX   \n",
       "1            NaN         NaN         NaN         NaN  ...            NaN   \n",
       "2            NaN         NaN         NaN         NaN  ...            NaN   \n",
       "3            NaN         NaN         NaN         NaN  ...            NaN   \n",
       "4            NaN         NaN         NaN         NaN  ...            NaN   \n",
       "...          ...         ...         ...         ...  ...            ...   \n",
       "8126         NaN       13.67        0.72         NaN  ...            NaN   \n",
       "8127       11.55       14.03        0.73       15.36  ...      2899988.0   \n",
       "8128       11.44       14.38        0.71        15.2  ...      4125198.0   \n",
       "8129       11.17       13.88        0.68       14.87  ...      2451566.0   \n",
       "8130       11.15       13.79        0.65       14.65  ...      4444976.0   \n",
       "\n",
       "     Volume.125 Volume.126 Volume.127  Volume.128  Volume.129 Volume.130  \\\n",
       "0         TMXLF   TUPY3.SA   UGPA3.SA    USIM5.SA    VALE3.SA   VAMO3.SA   \n",
       "1           NaN        NaN        NaN         NaN         NaN        NaN   \n",
       "2           NaN        NaN        NaN         NaN         NaN        NaN   \n",
       "3           NaN        NaN        NaN         NaN         NaN        NaN   \n",
       "4           NaN        NaN        NaN         NaN         NaN        NaN   \n",
       "...         ...        ...        ...         ...         ...        ...   \n",
       "8126        NaN   436400.0  4013500.0   8194000.0  24103300.0  9821100.0   \n",
       "8127        NaN   540100.0  7622400.0  10333900.0  27505600.0  7301900.0   \n",
       "8128        NaN   478900.0  6459000.0   9450700.0  19863400.0  5309500.0   \n",
       "8129        NaN   374200.0  5468900.0  16579800.0  25812100.0  8552600.0   \n",
       "8130        NaN   310200.0  4696800.0  31510700.0  18534800.0  5959300.0   \n",
       "\n",
       "     Volume.131 Volume.132 Volume.133  \n",
       "0      VESTA.MX   VINTE.MX    YPFD.BA  \n",
       "1           NaN        NaN        NaN  \n",
       "2           NaN        NaN        NaN  \n",
       "3           NaN        NaN        NaN  \n",
       "4           NaN        NaN        NaN  \n",
       "...         ...        ...        ...  \n",
       "8126        NaN        NaN   270705.0  \n",
       "8127  3349372.0      112.0   212523.0  \n",
       "8128  3574912.0      109.0   311296.0  \n",
       "8129  2487059.0      108.0   187498.0  \n",
       "8130   945445.0      110.0   301024.0  \n",
       "\n",
       "[8131 rows x 805 columns]"
      ]
     },
     "execution_count": 3,
     "metadata": {},
     "output_type": "execute_result"
    }
   ],
   "source": [
    "temp"
   ]
  },
  {
   "cell_type": "code",
   "execution_count": 4,
   "id": "776a17d7",
   "metadata": {},
   "outputs": [
    {
     "name": "stderr",
     "output_type": "stream",
     "text": [
      "C:\\Users\\thinkpad\\anaconda3\\envs\\r-tutorial\\lib\\site-packages\\yfinance\\base.py:48: FutureWarning: The default dtype for empty Series will be 'object' instead of 'float64' in a future version. Specify a dtype explicitly to silence this warning.\n",
      "  _empty_series = pd.Series()\n"
     ]
    }
   ],
   "source": [
    "import yfinance as yf"
   ]
  },
  {
   "cell_type": "code",
   "execution_count": 8,
   "id": "7429f858",
   "metadata": {},
   "outputs": [
    {
     "name": "stderr",
     "output_type": "stream",
     "text": [
      "[*********************100%%**********************]  2 of 2 completed\n",
      "\n",
      "1 Failed download:\n",
      "['FB']: Exception('%ticker%: No timezone found, symbol may be delisted')\n"
     ]
    }
   ],
   "source": [
    "temp = yf.download('AAPL')"
   ]
  },
  {
   "cell_type": "code",
   "execution_count": 6,
   "id": "6af90b25",
   "metadata": {},
   "outputs": [
    {
     "data": {
      "text/html": [
       "<div>\n",
       "<style scoped>\n",
       "    .dataframe tbody tr th:only-of-type {\n",
       "        vertical-align: middle;\n",
       "    }\n",
       "\n",
       "    .dataframe tbody tr th {\n",
       "        vertical-align: top;\n",
       "    }\n",
       "\n",
       "    .dataframe thead th {\n",
       "        text-align: right;\n",
       "    }\n",
       "</style>\n",
       "<table border=\"1\" class=\"dataframe\">\n",
       "  <thead>\n",
       "    <tr style=\"text-align: right;\">\n",
       "      <th></th>\n",
       "      <th>Open</th>\n",
       "      <th>High</th>\n",
       "      <th>Low</th>\n",
       "      <th>Close</th>\n",
       "      <th>Adj Close</th>\n",
       "      <th>Volume</th>\n",
       "    </tr>\n",
       "    <tr>\n",
       "      <th>Date</th>\n",
       "      <th></th>\n",
       "      <th></th>\n",
       "      <th></th>\n",
       "      <th></th>\n",
       "      <th></th>\n",
       "      <th></th>\n",
       "    </tr>\n",
       "  </thead>\n",
       "  <tbody>\n",
       "    <tr>\n",
       "      <th>1980-12-12</th>\n",
       "      <td>0.128348</td>\n",
       "      <td>0.128906</td>\n",
       "      <td>0.128348</td>\n",
       "      <td>0.128348</td>\n",
       "      <td>0.099192</td>\n",
       "      <td>469033600</td>\n",
       "    </tr>\n",
       "    <tr>\n",
       "      <th>1980-12-15</th>\n",
       "      <td>0.122210</td>\n",
       "      <td>0.122210</td>\n",
       "      <td>0.121652</td>\n",
       "      <td>0.121652</td>\n",
       "      <td>0.094017</td>\n",
       "      <td>175884800</td>\n",
       "    </tr>\n",
       "    <tr>\n",
       "      <th>1980-12-16</th>\n",
       "      <td>0.113281</td>\n",
       "      <td>0.113281</td>\n",
       "      <td>0.112723</td>\n",
       "      <td>0.112723</td>\n",
       "      <td>0.087117</td>\n",
       "      <td>105728000</td>\n",
       "    </tr>\n",
       "    <tr>\n",
       "      <th>1980-12-17</th>\n",
       "      <td>0.115513</td>\n",
       "      <td>0.116071</td>\n",
       "      <td>0.115513</td>\n",
       "      <td>0.115513</td>\n",
       "      <td>0.089273</td>\n",
       "      <td>86441600</td>\n",
       "    </tr>\n",
       "    <tr>\n",
       "      <th>1980-12-18</th>\n",
       "      <td>0.118862</td>\n",
       "      <td>0.119420</td>\n",
       "      <td>0.118862</td>\n",
       "      <td>0.118862</td>\n",
       "      <td>0.091861</td>\n",
       "      <td>73449600</td>\n",
       "    </tr>\n",
       "  </tbody>\n",
       "</table>\n",
       "</div>"
      ],
      "text/plain": [
       "                Open      High       Low     Close  Adj Close     Volume\n",
       "Date                                                                    \n",
       "1980-12-12  0.128348  0.128906  0.128348  0.128348   0.099192  469033600\n",
       "1980-12-15  0.122210  0.122210  0.121652  0.121652   0.094017  175884800\n",
       "1980-12-16  0.113281  0.113281  0.112723  0.112723   0.087117  105728000\n",
       "1980-12-17  0.115513  0.116071  0.115513  0.115513   0.089273   86441600\n",
       "1980-12-18  0.118862  0.119420  0.118862  0.118862   0.091861   73449600"
      ]
     },
     "execution_count": 6,
     "metadata": {},
     "output_type": "execute_result"
    }
   ],
   "source": [
    "temp.head()"
   ]
  },
  {
   "cell_type": "code",
   "execution_count": null,
   "id": "4eac527d",
   "metadata": {},
   "outputs": [],
   "source": []
  }
 ],
 "metadata": {
  "kernelspec": {
   "display_name": "Python 3 (ipykernel)",
   "language": "python",
   "name": "python3"
  },
  "language_info": {
   "codemirror_mode": {
    "name": "ipython",
    "version": 3
   },
   "file_extension": ".py",
   "mimetype": "text/x-python",
   "name": "python",
   "nbconvert_exporter": "python",
   "pygments_lexer": "ipython3",
   "version": "3.9.16"
  }
 },
 "nbformat": 4,
 "nbformat_minor": 5
}
